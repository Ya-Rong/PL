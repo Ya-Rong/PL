{
 "cells": [
  {
   "cell_type": "code",
   "execution_count": 5,
   "id": "beee3a42",
   "metadata": {},
   "outputs": [],
   "source": [
    "d={'查詢畢業學分':['科技系','教程','總畢業學分'],\n",
    "   '學分數':['128','26','154']}"
   ]
  },
  {
   "cell_type": "code",
   "execution_count": 3,
   "id": "ded2cab3",
   "metadata": {},
   "outputs": [
    {
     "name": "stdout",
     "output_type": "stream",
     "text": [
      "輸入查詢畢業學分科技系學分\n"
     ]
    }
   ],
   "source": [
    "s=input('輸入查詢畢業學分')"
   ]
  },
  {
   "cell_type": "code",
   "execution_count": 4,
   "id": "4c2f24de",
   "metadata": {},
   "outputs": [
    {
     "name": "stdout",
     "output_type": "stream",
     "text": [
      "128\n"
     ]
    }
   ],
   "source": [
    "n=0\n",
    "for i in d['查詢畢業學分']:\n",
    "    if s==i:\n",
    "        print(d['學分數'][n])\n",
    "    else:\n",
    "        n=n+1\n",
    "        \n",
    "#遇到bug時可複製到下面程式塊抵bug再貼回來"
   ]
  },
  {
   "cell_type": "code",
   "execution_count": null,
   "id": "2f2ae230",
   "metadata": {},
   "outputs": [],
   "source": []
  }
 ],
 "metadata": {
  "kernelspec": {
   "display_name": "Python 3 (ipykernel)",
   "language": "python",
   "name": "python3"
  },
  "language_info": {
   "codemirror_mode": {
    "name": "ipython",
    "version": 3
   },
   "file_extension": ".py",
   "mimetype": "text/x-python",
   "name": "python",
   "nbconvert_exporter": "python",
   "pygments_lexer": "ipython3",
   "version": "3.9.12"
  }
 },
 "nbformat": 4,
 "nbformat_minor": 5
}
