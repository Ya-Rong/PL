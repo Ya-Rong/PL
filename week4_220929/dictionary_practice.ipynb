{
 "cells": [
  {
   "cell_type": "code",
   "execution_count": 13,
   "id": "c277bfbe",
   "metadata": {
    "scrolled": true
   },
   "outputs": [
    {
     "name": "stdout",
     "output_type": "stream",
     "text": [
      "['哈利波特', '波西傑克森']\n",
      "[['Horry Potter', ' J.K羅琳', '中文書', '文學小說', '科幻/奇幻小說', '歐美科幻/奇幻小說'], ['Percy Jackson & the Olympians', ' 雷克．萊爾頓', '中文書', '文學小說', '科幻/奇幻小說', '歐美科幻/奇幻小說']]\n",
      "文學小說\n",
      "{'哈利波特': ['Horry Potter', ' J.K羅琳', '中文書', '文學小說', '科幻/奇幻小說', '歐美科幻/奇幻小說'], '波西傑克森': ['Percy Jackson & the Olympians', ' 雷克．萊爾頓', '中文書', '文學小說', '科幻/奇幻小說', '歐美科幻/奇幻小說']}\n",
      "哈利波特波西傑克森\n"
     ]
    }
   ],
   "source": [
    "#英文書名,作者,譯者,出版社,出版日期,售價,查找路徑\n",
    "#d={'哈利波特':['Horry Potter',' J.K羅琳',' 皇冠編譯組','皇冠','2012/07/04','2705','中文書','文學小說','科幻/奇幻小說','歐美科幻/奇幻小說'],\n",
    "#   '波西傑克森':['Percy Jackson & the Olympians',' 雷克．萊爾頓','吳梅瑛、王心瑩、蔡青恩、沈曉鈺','遠流','2010/01/27','1181','中文書','文學小說','科幻/奇幻小說','歐美科幻/奇幻小說']}\n",
    "\n",
    "#l1=list(d.keys())\n",
    "#print(l1)\n",
    "#l2=list(d.values())\n",
    "#print(l2)\n",
    "\n",
    "#print(d['哈利波特'][3])\n",
    "\n",
    "#d['波西傑克森']=['Percy Jackson & the Olympians',' 雷克．萊爾頓','吳梅瑛、王心瑩、蔡青恩、沈曉鈺','遠流','2010/01/27','1181','中文書','文學小說','科幻/奇幻小說','歐美科幻/奇幻小說']\n",
    "#print(d)\n",
    "\n",
    "\n",
    "d={'哈利波特':['Horry Potter',' J.K羅琳','中文書','文學小說','科幻/奇幻小說','歐美科幻/奇幻小說'],\n",
    "   '波西傑克森':['Percy Jackson & the Olympians',' 雷克．萊爾頓','中文書','文學小說','科幻/奇幻小說','歐美科幻/奇幻小說']}\n",
    "\n",
    "\n",
    "l1=list(d.keys())\n",
    "print(l1)\n",
    "l2=list(d.values())\n",
    "print(l2)\n",
    "\n",
    "print(d['哈利波特'][3])\n",
    "\n",
    "d['波西傑克森']=['Percy Jackson & the Olympians',' 雷克．萊爾頓','中文書','文學小說','科幻/奇幻小說','歐美科幻/奇幻小說']\n",
    "print(d)\n",
    "            \n",
    "n=0\n",
    "s=input('哈利波特')\n",
    "for x in d['哈利波特']:\n",
    "    if x==d['哈利波特']:\n",
    "        print(d['哈利波特'][n])\n",
    "    else:\n",
    "        n=n+1\n",
    "    "
   ]
  },
  {
   "cell_type": "code",
   "execution_count": null,
   "id": "47604a2e",
   "metadata": {},
   "outputs": [],
   "source": []
  },
  {
   "cell_type": "code",
   "execution_count": null,
   "id": "07da8048",
   "metadata": {},
   "outputs": [],
   "source": []
  }
 ],
 "metadata": {
  "kernelspec": {
   "display_name": "Python 3 (ipykernel)",
   "language": "python",
   "name": "python3"
  },
  "language_info": {
   "codemirror_mode": {
    "name": "ipython",
    "version": 3
   },
   "file_extension": ".py",
   "mimetype": "text/x-python",
   "name": "python",
   "nbconvert_exporter": "python",
   "pygments_lexer": "ipython3",
   "version": "3.9.12"
  }
 },
 "nbformat": 4,
 "nbformat_minor": 5
}
