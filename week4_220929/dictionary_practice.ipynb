{
 "cells": [
  {
   "cell_type": "code",
   "execution_count": 10,
   "id": "4fd09305",
   "metadata": {
    "scrolled": true
   },
   "outputs": [],
   "source": [
    "#書名\n",
    "#作者\n",
    "d={'書名':['哈利波特','波西傑克森','怪奇孤兒院'],\n",
    "   '作者':['J.K羅琳','雷克．萊爾頓','蘭森．瑞格斯']}"
   ]
  },
  {
   "cell_type": "code",
   "execution_count": 11,
   "id": "78c7891b",
   "metadata": {},
   "outputs": [
    {
     "name": "stdout",
     "output_type": "stream",
     "text": [
      "['書名', '作者']\n",
      "[['哈利波特', '波西傑克森 ', '怪奇孤兒院'], ['J.K羅琳', ' 雷克．萊爾頓', '蘭森．瑞格斯']]\n",
      "怪奇孤兒院\n",
      "{'書名': ['哈利波特', '波西傑克森 ', '怪奇孤兒院'], '作者': ['J.K羅琳', ' 雷克．萊爾頓', '蘭森．瑞格斯']}\n"
     ]
    }
   ],
   "source": [
    "l1=list(d.keys())\n",
    "print(l1)\n",
    "l2=list(d.values())\n",
    "print(l2)\n",
    "\n",
    "print(d['書名'][2])\n",
    "\n",
    "d['作者']=['J.K羅琳','雷克．萊爾頓','蘭森．瑞格斯']\n",
    "print(d)"
   ]
  },
  {
   "cell_type": "code",
   "execution_count": 5,
   "id": "2aa5ea04",
   "metadata": {},
   "outputs": [],
   "source": [
    "d={'書名':['哈利波特','波西傑克森','怪奇孤兒院'],\n",
    "   '作者':['J.K羅琳','雷克．萊爾頓','蘭森．瑞格斯']}"
   ]
  },
  {
   "cell_type": "code",
   "execution_count": 1,
   "id": "23f5bcad",
   "metadata": {},
   "outputs": [],
   "source": [
    "# s=input('請輸入作者：')\n",
    "s = '蘭森．瑞格斯'"
   ]
  },
  {
   "cell_type": "code",
   "execution_count": 2,
   "id": "04da61ee",
   "metadata": {},
   "outputs": [
    {
     "ename": "NameError",
     "evalue": "name 'd' is not defined",
     "output_type": "error",
     "traceback": [
      "\u001b[1;31m---------------------------------------------------------------------------\u001b[0m",
      "\u001b[1;31mNameError\u001b[0m                                 Traceback (most recent call last)",
      "Input \u001b[1;32mIn [2]\u001b[0m, in \u001b[0;36m<cell line: 3>\u001b[1;34m()\u001b[0m\n\u001b[0;32m      1\u001b[0m \u001b[38;5;66;03m#用於上下有關聯時可查找之工具\u001b[39;00m\n\u001b[0;32m      2\u001b[0m n\u001b[38;5;241m=\u001b[39m\u001b[38;5;241m0\u001b[39m\n\u001b[1;32m----> 3\u001b[0m \u001b[38;5;28;01mfor\u001b[39;00m i \u001b[38;5;129;01min\u001b[39;00m \u001b[43md\u001b[49m[\u001b[38;5;124m'\u001b[39m\u001b[38;5;124m作者\u001b[39m\u001b[38;5;124m'\u001b[39m]:\n\u001b[0;32m      4\u001b[0m     \u001b[38;5;28;01mif\u001b[39;00m s \u001b[38;5;241m==\u001b[39m i:\n\u001b[0;32m      5\u001b[0m         \u001b[38;5;28mprint\u001b[39m(d[\u001b[38;5;124m'\u001b[39m\u001b[38;5;124m書名\u001b[39m\u001b[38;5;124m'\u001b[39m][n])\n",
      "\u001b[1;31mNameError\u001b[0m: name 'd' is not defined"
     ]
    }
   ],
   "source": [
    "#用於上下有關聯時可查找之工具\n",
    "n=0\n",
    "for i in d['作者']:\n",
    "    if s == i:\n",
    "        print(d['書名'][n])\n",
    "    else:\n",
    "        n=n+1"
   ]
  },
  {
   "cell_type": "code",
   "execution_count": null,
   "id": "e60fa6ec",
   "metadata": {},
   "outputs": [],
   "source": []
  }
 ],
 "metadata": {
  "kernelspec": {
   "display_name": "Python 3 (ipykernel)",
   "language": "python",
   "name": "python3"
  },
  "language_info": {
   "codemirror_mode": {
    "name": "ipython",
    "version": 3
   },
   "file_extension": ".py",
   "mimetype": "text/x-python",
   "name": "python",
   "nbconvert_exporter": "python",
   "pygments_lexer": "ipython3",
   "version": "3.9.12"
  }
 },
 "nbformat": 4,
 "nbformat_minor": 5
}
