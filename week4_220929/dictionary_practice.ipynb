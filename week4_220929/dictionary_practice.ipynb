{
 "cells": [
  {
   "cell_type": "code",
   "execution_count": 2,
   "id": "07f095a7",
   "metadata": {},
   "outputs": [
    {
     "name": "stdout",
     "output_type": "stream",
     "text": [
      "['哈利波特', '波西傑克森']\n",
      "[['Horry Potter', ' J.K羅琳', ' 皇冠編譯組', '皇冠', '2012/07/04', '2705'], ['Percy Jackson & the Olympians', ' 雷克．萊爾頓', '吳梅瑛、王心瑩、蔡青恩、沈曉鈺', '遠流', '2010/01/27', '1181']]\n",
      "皇冠\n",
      "{'哈利波特': ['Horry Potter', ' J.K羅琳', ' 皇冠編譯組', '皇冠', '2012/07/04', '2705'], '波西傑克森': ['Percy Jackson & the Olympians', ' 雷克．萊爾頓', '吳梅瑛、王心瑩、蔡青恩、沈曉鈺', '遠流', '2010/01/27', '1181']}\n"
     ]
    }
   ],
   "source": [
    "#英文書名,作者,譯者,出版社,出版日期,售價\n",
    "d={'哈利波特':['Horry Potter',' J.K羅琳',' 皇冠編譯組','皇冠','2012/07/04','2705'],\n",
    "   '波西傑克森':['Percy Jackson & the Olympians',' 雷克．萊爾頓','吳梅瑛、王心瑩、蔡青恩、沈曉鈺','遠流','2010/01/27','1181']}\n",
    "\n",
    "l1=list(d.keys())\n",
    "print(l1)\n",
    "l2=list(d.values())\n",
    "print(l2)\n",
    "\n",
    "print(d['哈利波特'][3])\n",
    "\n",
    "d['波西傑克森']=['Percy Jackson & the Olympians',' 雷克．萊爾頓','吳梅瑛、王心瑩、蔡青恩、沈曉鈺','遠流','2010/01/27','1181']\n",
    "print(d)"
   ]
  },
  {
   "cell_type": "code",
   "execution_count": null,
   "id": "c9adec75",
   "metadata": {},
   "outputs": [],
   "source": []
  }
 ],
 "metadata": {
  "kernelspec": {
   "display_name": "Python 3 (ipykernel)",
   "language": "python",
   "name": "python3"
  },
  "language_info": {
   "codemirror_mode": {
    "name": "ipython",
    "version": 3
   },
   "file_extension": ".py",
   "mimetype": "text/x-python",
   "name": "python",
   "nbconvert_exporter": "python",
   "pygments_lexer": "ipython3",
   "version": "3.9.12"
  }
 },
 "nbformat": 4,
 "nbformat_minor": 5
}
