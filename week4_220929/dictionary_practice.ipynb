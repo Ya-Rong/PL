{
 "cells": [
  {
   "cell_type": "code",
   "execution_count": 10,
   "id": "4fd09305",
   "metadata": {
    "scrolled": true
   },
   "outputs": [],
   "source": [
    "#書名\n",
    "#作者\n",
    "d={'書名':['哈利波特','波西傑克森','怪奇孤兒院'],\n",
    "   '作者':['J.K羅琳','雷克．萊爾頓','蘭森．瑞格斯']}"
   ]
  },
  {
   "cell_type": "code",
   "execution_count": 11,
   "id": "78c7891b",
   "metadata": {},
   "outputs": [
    {
     "name": "stdout",
     "output_type": "stream",
     "text": [
      "['書名', '作者']\n",
      "[['哈利波特', '波西傑克森 ', '怪奇孤兒院'], ['J.K羅琳', ' 雷克．萊爾頓', '蘭森．瑞格斯']]\n",
      "怪奇孤兒院\n",
      "{'書名': ['哈利波特', '波西傑克森 ', '怪奇孤兒院'], '作者': ['J.K羅琳', ' 雷克．萊爾頓', '蘭森．瑞格斯']}\n"
     ]
    }
   ],
   "source": [
    "l1=list(d.keys())\n",
    "print(l1)\n",
    "l2=list(d.values())\n",
    "print(l2)\n",
    "\n",
    "print(d['書名'][2])\n",
    "\n",
    "d['作者']=['J.K羅琳','雷克．萊爾頓','蘭森．瑞格斯']\n",
    "print(d)"
   ]
  },
  {
   "cell_type": "code",
   "execution_count": null,
   "id": "2aa5ea04",
   "metadata": {},
   "outputs": [],
   "source": [
    "d={'書名':['哈利波特','波西傑克森','怪奇孤兒院'],\n",
    "   '作者':['J.K羅琳','雷克．萊爾頓','蘭森．瑞格斯']}"
   ]
  },
  {
   "cell_type": "code",
   "execution_count": null,
   "id": "23f5bcad",
   "metadata": {},
   "outputs": [],
   "source": [
    "s=input('請輸入作者：')\n",
    "# s = '蘭森．瑞格斯'"
   ]
  },
  {
   "cell_type": "code",
   "execution_count": 8,
   "id": "04da61ee",
   "metadata": {},
   "outputs": [
    {
     "name": "stdout",
     "output_type": "stream",
     "text": [
      "怪奇孤兒院\n"
     ]
    }
   ],
   "source": [
    "#用於上下有關聯時可查找之工具\n",
    "n=0\n",
    "for i in d['作者']:\n",
    "    if s == i:\n",
    "        print(d['書名'][n])\n",
    "    else:\n",
    "        n=n+1"
   ]
  },
  {
   "cell_type": "code",
   "execution_count": null,
   "id": "e60fa6ec",
   "metadata": {},
   "outputs": [],
   "source": []
  }
 ],
 "metadata": {
  "kernelspec": {
   "display_name": "Python 3 (ipykernel)",
   "language": "python",
   "name": "python3"
  },
  "language_info": {
   "codemirror_mode": {
    "name": "ipython",
    "version": 3
   },
   "file_extension": ".py",
   "mimetype": "text/x-python",
   "name": "python",
   "nbconvert_exporter": "python",
   "pygments_lexer": "ipython3",
   "version": "3.9.12"
  }
 },
 "nbformat": 4,
 "nbformat_minor": 5
}
