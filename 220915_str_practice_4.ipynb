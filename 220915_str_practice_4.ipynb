{
 "cells": [
  {
   "cell_type": "code",
   "execution_count": 10,
   "id": "9b2b1b87",
   "metadata": {},
   "outputs": [
    {
     "name": "stdout",
     "output_type": "stream",
     "text": [
      "事件： 債務償還\n",
      "丁○ ○ 總共償還金額： 12608 元\n"
     ]
    }
   ],
   "source": [
    "#str practice\n",
    "#練習題2\n",
    "\n",
    "event='債務償還'\n",
    "money=11805\n",
    "day_rate=0.0005\n",
    "month=2\n",
    "altra_money=(150+150*month)*month/2\n",
    "sum_money=money*(1+day_rate)**59+altra_money\n",
    "print('事件：',event)\n",
    "print('丁○ ○ 總共償還金額：',int(sum_money),'元')"
   ]
  },
  {
   "cell_type": "code",
   "execution_count": null,
   "id": "233788e9",
   "metadata": {},
   "outputs": [],
   "source": []
  }
 ],
 "metadata": {
  "kernelspec": {
   "display_name": "Python 3 (ipykernel)",
   "language": "python",
   "name": "python3"
  },
  "language_info": {
   "codemirror_mode": {
    "name": "ipython",
    "version": 3
   },
   "file_extension": ".py",
   "mimetype": "text/x-python",
   "name": "python",
   "nbconvert_exporter": "python",
   "pygments_lexer": "ipython3",
   "version": "3.9.12"
  }
 },
 "nbformat": 4,
 "nbformat_minor": 5
}
