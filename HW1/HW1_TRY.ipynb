{
 "cells": [
  {
   "cell_type": "code",
   "execution_count": 1,
   "id": "746be175",
   "metadata": {},
   "outputs": [],
   "source": [
    "#1102為有修圖學的學生名單\n",
    "#1111為有修電腦輔助製圖的學生名單"
   ]
  },
  {
   "cell_type": "code",
   "execution_count": 2,
   "id": "d0d6675e",
   "metadata": {},
   "outputs": [
    {
     "ename": "SyntaxError",
     "evalue": "cannot assign to literal (3098345654.py, line 6)",
     "output_type": "error",
     "traceback": [
      "\u001b[1;36m  Input \u001b[1;32mIn [2]\u001b[1;36m\u001b[0m\n\u001b[1;33m    1102 = pd.read_csv(\"1102.csv\")\u001b[0m\n\u001b[1;37m    ^\u001b[0m\n\u001b[1;31mSyntaxError\u001b[0m\u001b[1;31m:\u001b[0m cannot assign to literal\n"
     ]
    }
   ],
   "source": [
    "#使用pandas套件\n",
    "import pandas as pd\n",
    "\n",
    "# read csv file\n",
    "#須將csv檔與此程式碼檔案放置於同一資料夾內\n",
    "1102 = pd.read_csv(\"1102.csv\")\n",
    "1111 = pd.read_csv(\"1111.csv\")"
   ]
  },
  {
   "cell_type": "code",
   "execution_count": null,
   "id": "ca966918",
   "metadata": {},
   "outputs": [],
   "source": [
    "#列出檔案前五筆資料\n",
    "1102.head()"
   ]
  },
  {
   "cell_type": "code",
   "execution_count": null,
   "id": "2900d134",
   "metadata": {},
   "outputs": [],
   "source": [
    "#列出檔案後五筆資料\n",
    "1111.tail()"
   ]
  },
  {
   "cell_type": "code",
   "execution_count": null,
   "id": "c8a83134",
   "metadata": {},
   "outputs": [],
   "source": [
    "s1 = 1102\n",
    "s2 = 1111"
   ]
  },
  {
   "cell_type": "code",
   "execution_count": null,
   "id": "062f6ddb",
   "metadata": {},
   "outputs": [],
   "source": [
    "#交集\n",
    "#有修圖學且有修電腦輔助製圖\n",
    "print(s1&s2) "
   ]
  },
  {
   "cell_type": "code",
   "execution_count": null,
   "id": "1cf6255c",
   "metadata": {},
   "outputs": [],
   "source": [
    "#聯集\n",
    "#有修圖學且或修電腦輔助製圖\n",
    "print(s1|s2)"
   ]
  },
  {
   "cell_type": "code",
   "execution_count": null,
   "id": "ea4c54db",
   "metadata": {},
   "outputs": [],
   "source": [
    "#差集 s1.difference(s2)\n",
    "#只修圖學\n",
    "print(s1-s2)"
   ]
  },
  {
   "cell_type": "code",
   "execution_count": null,
   "id": "1ea7d97c",
   "metadata": {},
   "outputs": [],
   "source": [
    "#差集 s2.difference(s1)\n",
    "#只修電腦輔助製圖\n",
    "print(s2-s1)"
   ]
  },
  {
   "cell_type": "code",
   "execution_count": null,
   "id": "88c0b65a",
   "metadata": {},
   "outputs": [],
   "source": [
    "#對稱差集\n",
    "#只修圖學和只修電腦輔助製圖\n",
    "print(s1^s2)"
   ]
  }
 ],
 "metadata": {
  "kernelspec": {
   "display_name": "Python 3 (ipykernel)",
   "language": "python",
   "name": "python3"
  },
  "language_info": {
   "codemirror_mode": {
    "name": "ipython",
    "version": 3
   },
   "file_extension": ".py",
   "mimetype": "text/x-python",
   "name": "python",
   "nbconvert_exporter": "python",
   "pygments_lexer": "ipython3",
   "version": "3.9.12"
  }
 },
 "nbformat": 4,
 "nbformat_minor": 5
}
