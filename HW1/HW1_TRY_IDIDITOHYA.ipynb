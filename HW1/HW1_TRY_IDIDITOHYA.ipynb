{
 "cells": [
  {
   "cell_type": "code",
   "execution_count": 6,
   "id": "0734b697",
   "metadata": {},
   "outputs": [],
   "source": [
    "#1102為有修圖學的學生名單\n",
    "#1111為有修電腦輔助製圖的學生名單"
   ]
  },
  {
   "cell_type": "code",
   "execution_count": 14,
   "id": "5cd96254",
   "metadata": {},
   "outputs": [],
   "source": [
    "#使用pandas套件\n",
    "import pandas as pd\n",
    "\n",
    "# read csv file\n",
    "#須將csv檔與此程式碼檔案放置於同一資料夾內\n",
    "a = pd.read_csv(\"1102.csv\",encoding='big5')\n",
    "b = pd.read_csv(\"1111.csv\",encoding='big5')"
   ]
  },
  {
   "cell_type": "code",
   "execution_count": 15,
   "id": "733a81c7",
   "metadata": {},
   "outputs": [
    {
     "data": {
      "text/html": [
       "<div>\n",
       "<style scoped>\n",
       "    .dataframe tbody tr th:only-of-type {\n",
       "        vertical-align: middle;\n",
       "    }\n",
       "\n",
       "    .dataframe tbody tr th {\n",
       "        vertical-align: top;\n",
       "    }\n",
       "\n",
       "    .dataframe thead th {\n",
       "        text-align: right;\n",
       "    }\n",
       "</style>\n",
       "<table border=\"1\" class=\"dataframe\">\n",
       "  <thead>\n",
       "    <tr style=\"text-align: right;\">\n",
       "      <th></th>\n",
       "      <th>姓名學號</th>\n",
       "    </tr>\n",
       "  </thead>\n",
       "  <tbody>\n",
       "    <tr>\n",
       "      <th>0</th>\n",
       "      <td>61071033H 黃永箴</td>\n",
       "    </tr>\n",
       "    <tr>\n",
       "      <th>1</th>\n",
       "      <td>61071031H 張育瑞</td>\n",
       "    </tr>\n",
       "    <tr>\n",
       "      <th>2</th>\n",
       "      <td>61071015H 游允赫</td>\n",
       "    </tr>\n",
       "    <tr>\n",
       "      <th>3</th>\n",
       "      <td>61071009h 吳詩怡</td>\n",
       "    </tr>\n",
       "    <tr>\n",
       "      <th>4</th>\n",
       "      <td>60971037H 吳沛龍</td>\n",
       "    </tr>\n",
       "  </tbody>\n",
       "</table>\n",
       "</div>"
      ],
      "text/plain": [
       "            姓名學號\n",
       "0  61071033H 黃永箴\n",
       "1  61071031H 張育瑞\n",
       "2  61071015H 游允赫\n",
       "3  61071009h 吳詩怡\n",
       "4  60971037H 吳沛龍"
      ]
     },
     "execution_count": 15,
     "metadata": {},
     "output_type": "execute_result"
    }
   ],
   "source": [
    "#列出檔案前五筆資料\n",
    "a.head()"
   ]
  },
  {
   "cell_type": "code",
   "execution_count": 16,
   "id": "48da8a76",
   "metadata": {},
   "outputs": [
    {
     "data": {
      "text/html": [
       "<div>\n",
       "<style scoped>\n",
       "    .dataframe tbody tr th:only-of-type {\n",
       "        vertical-align: middle;\n",
       "    }\n",
       "\n",
       "    .dataframe tbody tr th {\n",
       "        vertical-align: top;\n",
       "    }\n",
       "\n",
       "    .dataframe thead th {\n",
       "        text-align: right;\n",
       "    }\n",
       "</style>\n",
       "<table border=\"1\" class=\"dataframe\">\n",
       "  <thead>\n",
       "    <tr style=\"text-align: right;\">\n",
       "      <th></th>\n",
       "      <th>姓名學號</th>\n",
       "    </tr>\n",
       "  </thead>\n",
       "  <tbody>\n",
       "    <tr>\n",
       "      <th>16</th>\n",
       "      <td>41071216H 王常峻</td>\n",
       "    </tr>\n",
       "    <tr>\n",
       "      <th>17</th>\n",
       "      <td>41071219H 黃鈺娟</td>\n",
       "    </tr>\n",
       "    <tr>\n",
       "      <th>18</th>\n",
       "      <td>41071220H 王于萱</td>\n",
       "    </tr>\n",
       "    <tr>\n",
       "      <th>19</th>\n",
       "      <td>41071221H 陳彥愷</td>\n",
       "    </tr>\n",
       "    <tr>\n",
       "      <th>20</th>\n",
       "      <td>41071223H 莊翔鈞</td>\n",
       "    </tr>\n",
       "  </tbody>\n",
       "</table>\n",
       "</div>"
      ],
      "text/plain": [
       "             姓名學號\n",
       "16  41071216H 王常峻\n",
       "17  41071219H 黃鈺娟\n",
       "18  41071220H 王于萱\n",
       "19  41071221H 陳彥愷\n",
       "20  41071223H 莊翔鈞"
      ]
     },
     "execution_count": 16,
     "metadata": {},
     "output_type": "execute_result"
    }
   ],
   "source": [
    "b.tail()"
   ]
  },
  {
   "cell_type": "code",
   "execution_count": 31,
   "id": "cdf27ba9",
   "metadata": {},
   "outputs": [],
   "source": [
    "applys = list(a['姓名學號'].str.upper())#強制將所有學號英文改成大寫\n",
    "applys = list(b['姓名學號'].str.upper())"
   ]
  },
  {
   "cell_type": "code",
   "execution_count": 32,
   "id": "10ce9045",
   "metadata": {},
   "outputs": [],
   "source": [
    "#set讓他變成集合，變成集合才能去比較\n",
    "s1 = set(a['姓名學號'])\n",
    "s2 = set(b['姓名學號'])"
   ]
  },
  {
   "cell_type": "code",
   "execution_count": 33,
   "id": "40af0e88",
   "metadata": {},
   "outputs": [
    {
     "name": "stdout",
     "output_type": "stream",
     "text": [
      "{'41071110H 陳思岑', '41071109H 林鈺茹', '41071223H 莊翔鈞', '41071219H 黃鈺娟', '41071202H 洪鈺凱', '41071124H 蔡宗廷', '41071115H 黃麟堯', '41071122H 吳亞蓉', '41071207H 葉芷?', '41071127H 陳淑鈃', '41071210H 楊士寬', '41071206H 徐倍玄', '41071118H 簡珮軒', '41071220H 王于萱', '41071209H 李米蕙', '41071102H 徐敏皓', '41071108H 陳亮竹', '41071213H 盧紫妍', '41071216H 王常峻'}\n"
     ]
    }
   ],
   "source": [
    "#交集\n",
    "#有修圖學且有修電腦輔助製圖\n",
    "print(s1&s2) "
   ]
  },
  {
   "cell_type": "code",
   "execution_count": 34,
   "id": "19bc0f81",
   "metadata": {},
   "outputs": [
    {
     "name": "stdout",
     "output_type": "stream",
     "text": [
      "{'41071117H 林逸豪', '41071110H 陳思岑', '41071109H 林鈺茹', '41071223H 莊翔鈞', '61071015H 游允赫', '41071219H 黃鈺娟', '40971901H 許嘉恩', '40707207E 李苡琳', '60971032H 許傳偉', '41071104H 林志遠', '41071202H 洪鈺凱', '41071112H 李苡嘉', '60970014H 謝鎮遠', '41071124H 蔡宗廷', '61071033H 黃永箴', '41071224H 陳奕廷', '41071115H 黃麟堯', '41071122H 吳亞蓉', '61071031H 張育瑞', '40971223H 王冠翔', '41071204h 古于育', '41071207H 葉芷?', '41071127H 陳淑鈃', '41071113H 劉媞欣', '41071210H 楊士寬', '41071105H 柯幸孜', '41071206H 徐倍玄', '41071903H 鄭宇皓', '41071118H 簡珮軒', '60971037H 吳沛龍', '40672025H 劉馨薇', '41071221H 陳彥愷', '41071220H 王于萱', '41071121H 羅浚佑', '40843214S 沈涵儀', '41071209H 李米蕙', '41071114H 盧奇琳', '40773048H 林子雋', '41071102H 徐敏皓', '41071108H 陳亮竹', '41071216H 王常峻', '61071009h 吳詩怡', '41071213H 盧紫妍'}\n"
     ]
    }
   ],
   "source": [
    "#聯集\n",
    "#有修圖學且或修電腦輔助製圖\n",
    "print(s1|s2)"
   ]
  },
  {
   "cell_type": "code",
   "execution_count": 35,
   "id": "26b981b8",
   "metadata": {},
   "outputs": [
    {
     "name": "stdout",
     "output_type": "stream",
     "text": [
      "{'41071117H 林逸豪', '61071015H 游允赫', '40971901H 許嘉恩', '40707207E 李苡琳', '60971032H 許傳偉', '41071104H 林志遠', '41071112H 李苡嘉', '60970014H 謝鎮遠', '61071033H 黃永箴', '41071224H 陳奕廷', '61071031H 張育瑞', '41071204h 古于育', '41071113H 劉媞欣', '41071105H 柯幸孜', '41071903H 鄭宇皓', '60971037H 吳沛龍', '40672025H 劉馨薇', '41071121H 羅浚佑', '40843214S 沈涵儀', '41071114H 盧奇琳', '40773048H 林子雋', '61071009h 吳詩怡'}\n"
     ]
    }
   ],
   "source": [
    "#差集 s1.difference(s2)\n",
    "#只修圖學\n",
    "print(s1-s2)"
   ]
  },
  {
   "cell_type": "code",
   "execution_count": 36,
   "id": "c6f1803b",
   "metadata": {},
   "outputs": [
    {
     "name": "stdout",
     "output_type": "stream",
     "text": [
      "{'40971223H 王冠翔', '41071221H 陳彥愷'}\n"
     ]
    }
   ],
   "source": [
    "#差集 s2.difference(s1)\n",
    "#只修電腦輔助製圖\n",
    "print(s2-s1)"
   ]
  },
  {
   "cell_type": "code",
   "execution_count": 37,
   "id": "e64f17c9",
   "metadata": {},
   "outputs": [
    {
     "name": "stdout",
     "output_type": "stream",
     "text": [
      "{'41071117H 林逸豪', '61071015H 游允赫', '40971901H 許嘉恩', '40707207E 李苡琳', '60971032H 許傳偉', '41071104H 林志遠', '41071112H 李苡嘉', '60970014H 謝鎮遠', '61071033H 黃永箴', '41071224H 陳奕廷', '61071031H 張育瑞', '40971223H 王冠翔', '41071204h 古于育', '41071113H 劉媞欣', '41071105H 柯幸孜', '41071903H 鄭宇皓', '60971037H 吳沛龍', '40672025H 劉馨薇', '41071221H 陳彥愷', '41071121H 羅浚佑', '40843214S 沈涵儀', '41071114H 盧奇琳', '40773048H 林子雋', '61071009h 吳詩怡'}\n"
     ]
    }
   ],
   "source": [
    "#對稱差集\n",
    "#只修圖學和只修電腦輔助製圖\n",
    "print(s1^s2)"
   ]
  },
  {
   "cell_type": "code",
   "execution_count": null,
   "id": "2dfe504e",
   "metadata": {},
   "outputs": [],
   "source": []
  }
 ],
 "metadata": {
  "kernelspec": {
   "display_name": "Python 3 (ipykernel)",
   "language": "python",
   "name": "python3"
  },
  "language_info": {
   "codemirror_mode": {
    "name": "ipython",
    "version": 3
   },
   "file_extension": ".py",
   "mimetype": "text/x-python",
   "name": "python",
   "nbconvert_exporter": "python",
   "pygments_lexer": "ipython3",
   "version": "3.9.12"
  }
 },
 "nbformat": 4,
 "nbformat_minor": 5
}
