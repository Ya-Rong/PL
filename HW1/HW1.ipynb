{
 "cells": [
  {
   "cell_type": "code",
   "execution_count": 143,
   "id": "5882a8e1",
   "metadata": {},
   "outputs": [],
   "source": [
    "#此檔案有些小問題，所以有再試寫一次，檔名為HW1_TRY_IDIDITOHYA\n",
    "#觀光工廠名錄 vs. 在南部的觀光工廠"
   ]
  },
  {
   "cell_type": "code",
   "execution_count": null,
   "id": "3224ae2d",
   "metadata": {},
   "outputs": [],
   "source": [
    "#使用pandas套件\n",
    "import pandas as pd\n",
    "\n",
    "# read csv file\n",
    "#須將csv檔與此程式碼檔案放置於同一資料夾內\n",
    "all = pd.read_csv(\"all.csv\", encoding='big5')\n",
    "south = pd.read_csv(\"south.csv\", encoding='big5')\n",
    "#因檔案格式為big5，需先強制編碼成big5，以順利操作"
   ]
  },
  {
   "cell_type": "code",
   "execution_count": null,
   "id": "a95255b1",
   "metadata": {},
   "outputs": [],
   "source": [
    "#列出檔案前五筆資料\n",
    "all.head()"
   ]
  },
  {
   "cell_type": "code",
   "execution_count": null,
   "id": "79e9e21c",
   "metadata": {},
   "outputs": [],
   "source": [
    "#列出檔案後五筆資料\n",
    "south.tail()"
   ]
  },
  {
   "cell_type": "code",
   "execution_count": null,
   "id": "9c68c6a0",
   "metadata": {},
   "outputs": [],
   "source": []
  },
  {
   "cell_type": "code",
   "execution_count": null,
   "id": "8474ac2e",
   "metadata": {},
   "outputs": [],
   "source": [
    "alldata = list(all['地區別'])\n",
    "print(\"全臺觀光工廠數:\", len(alldata), \" vs. 南部觀光工廠數:\", len(south))"
   ]
  },
  {
   "cell_type": "code",
   "execution_count": 62,
   "id": "3ecafc1a",
   "metadata": {},
   "outputs": [],
   "source": [
    "s1 = all = {'宜蘭縣','基隆市','新北市','桃園市','新竹市','新竹縣','苗栗縣','台中市','彰化縣','南投縣','雲林縣','嘉義縣','台南市','高雄市','屏東縣','台東縣','花蓮縣','金門縣'}\n",
    "s2 = south = {'嘉義縣','台南市','高雄市','屏東縣'}"
   ]
  },
  {
   "cell_type": "code",
   "execution_count": 63,
   "id": "16191572",
   "metadata": {},
   "outputs": [
    {
     "name": "stdout",
     "output_type": "stream",
     "text": [
      "{'南部'}\n"
     ]
    }
   ],
   "source": [
    "#交集\n",
    "#南部有觀光工廠的縣市\n",
    "print(s1&s2) "
   ]
  },
  {
   "cell_type": "code",
   "execution_count": 48,
   "id": "b0f75689",
   "metadata": {},
   "outputs": [
    {
     "name": "stdout",
     "output_type": "stream",
     "text": [
      "{'南部', '東部', '北部', '離島', '中部'}\n"
     ]
    }
   ],
   "source": [
    "#聯集\n",
    "#全台灣有觀光工廠的縣市\n",
    "print(s1|s2)"
   ]
  },
  {
   "cell_type": "code",
   "execution_count": 49,
   "id": "b22bc9e2",
   "metadata": {},
   "outputs": [
    {
     "name": "stdout",
     "output_type": "stream",
     "text": [
      "{'離島', '中部', '東部', '北部'}\n"
     ]
    }
   ],
   "source": [
    "#差集 s1.difference(s2)\n",
    "#南部以外有觀光工廠的縣市\n",
    "print(s1-s2)"
   ]
  },
  {
   "cell_type": "code",
   "execution_count": 50,
   "id": "e470a191",
   "metadata": {},
   "outputs": [
    {
     "name": "stdout",
     "output_type": "stream",
     "text": [
      "set()\n"
     ]
    }
   ],
   "source": [
    "#差集 s2.difference(s1)\n",
    "#x\n",
    "print(s2-s1)"
   ]
  },
  {
   "cell_type": "code",
   "execution_count": 51,
   "id": "bcb893a1",
   "metadata": {},
   "outputs": [
    {
     "name": "stdout",
     "output_type": "stream",
     "text": [
      "{'東部', '離島', '北部', '中部'}\n"
     ]
    }
   ],
   "source": [
    "#對稱差集\n",
    "#南部以外有觀光工廠的縣市\n",
    "print(s1^s2)"
   ]
  },
  {
   "cell_type": "code",
   "execution_count": 52,
   "id": "ebafc190",
   "metadata": {},
   "outputs": [],
   "source": [
    "#以下為參考同學程式碼嘗試練習\n",
    "\n",
    "#透過輸入縣市名稱來查找該縣市是否位於南部以及該縣市是否有觀光工廠"
   ]
  },
  {
   "cell_type": "code",
   "execution_count": 53,
   "id": "b3b6c906",
   "metadata": {},
   "outputs": [
    {
     "name": "stdout",
     "output_type": "stream",
     "text": [
      "請輸入縣市:高雄市\n",
      "此縣市無觀光工廠。\n"
     ]
    }
   ],
   "source": [
    "s = input(\"請輸入縣市:\")\n",
    "if s in s1&s2:\n",
    "    print ('位於南部且有觀光工廠。')\n",
    "elif s in s1-s2:\n",
    "    print ('位於南部以外且有觀光工廠的縣市。')\n",
    "elif s in s2^s1:\n",
    "    print ('位於南部以外且有觀光工廠的縣市。')\n",
    "else:\n",
    "    print(\"此縣市無觀光工廠。\")"
   ]
  },
  {
   "cell_type": "code",
   "execution_count": 10,
   "id": "d73149b1",
   "metadata": {},
   "outputs": [
    {
     "name": "stdout",
     "output_type": "stream",
     "text": [
      "請輸入縣市:新北市\n",
      "位於南部以外且有觀光工廠的縣市。\n"
     ]
    }
   ],
   "source": [
    "s = input(\"請輸入縣市:\")\n",
    "if s in s1&s2:\n",
    "    print ('位於南部且有觀光工廠。')\n",
    "elif s in s1-s2:\n",
    "    print ('位於南部以外且有觀光工廠的縣市。')\n",
    "elif s in s2^s1:\n",
    "    print ('位於南部以外且有觀光工廠的縣市。')\n",
    "else:\n",
    "    print(\"此縣市無觀光工廠。\")"
   ]
  },
  {
   "cell_type": "code",
   "execution_count": 11,
   "id": "9f6fbf16",
   "metadata": {},
   "outputs": [
    {
     "name": "stdout",
     "output_type": "stream",
     "text": [
      "請輸入縣市:台東市\n",
      "此縣市無觀光工廠。\n"
     ]
    }
   ],
   "source": [
    "s = input(\"請輸入縣市:\")\n",
    "if s in s1&s2:\n",
    "    print ('位於南部且有觀光工廠。')\n",
    "elif s in s1-s2:\n",
    "    print ('位於南部以外且有觀光工廠的縣市。')\n",
    "elif s in s2^s1:\n",
    "    print ('位於南部以外且有觀光工廠的縣市。')\n",
    "else:\n",
    "    print(\"此縣市無觀光工廠。\")"
   ]
  },
  {
   "cell_type": "code",
   "execution_count": 12,
   "id": "6d394bf8",
   "metadata": {},
   "outputs": [
    {
     "name": "stdout",
     "output_type": "stream",
     "text": [
      "請輸入縣市:台東縣\n",
      "位於南部以外且有觀光工廠的縣市。\n"
     ]
    }
   ],
   "source": [
    "s = input(\"請輸入縣市:\")\n",
    "if s in s1&s2:\n",
    "    print ('位於南部且有觀光工廠。')\n",
    "elif s in s1-s2:\n",
    "    print ('位於南部以外且有觀光工廠的縣市。')\n",
    "elif s in s2^s1:\n",
    "    print ('位於南部以外且有觀光工廠的縣市。')\n",
    "else:\n",
    "    print(\"此縣市無觀光工廠。\")"
   ]
  }
 ],
 "metadata": {
  "kernelspec": {
   "display_name": "Python 3 (ipykernel)",
   "language": "python",
   "name": "python3"
  },
  "language_info": {
   "codemirror_mode": {
    "name": "ipython",
    "version": 3
   },
   "file_extension": ".py",
   "mimetype": "text/x-python",
   "name": "python",
   "nbconvert_exporter": "python",
   "pygments_lexer": "ipython3",
   "version": "3.9.12"
  }
 },
 "nbformat": 4,
 "nbformat_minor": 5
}
