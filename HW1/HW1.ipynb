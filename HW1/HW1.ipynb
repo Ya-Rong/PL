{
 "cells": [
  {
   "cell_type": "code",
   "execution_count": 69,
   "id": "5882a8e1",
   "metadata": {},
   "outputs": [],
   "source": [
    "#觀光工廠名錄 vs. 在南部的觀光工廠"
   ]
  },
  {
   "cell_type": "code",
   "execution_count": 70,
   "id": "3224ae2d",
   "metadata": {},
   "outputs": [],
   "source": [
    "import pandas as pd\n",
    "\n",
    "# read csv file\n",
    "all = pd.read_csv(\"all.csv\", encoding='big5')\n",
    "south = pd.read_csv(\"south.csv\", encoding='big5')\n"
   ]
  },
  {
   "cell_type": "code",
   "execution_count": 71,
   "id": "a95255b1",
   "metadata": {},
   "outputs": [
    {
     "data": {
      "text/html": [
       "<div>\n",
       "<style scoped>\n",
       "    .dataframe tbody tr th:only-of-type {\n",
       "        vertical-align: middle;\n",
       "    }\n",
       "\n",
       "    .dataframe tbody tr th {\n",
       "        vertical-align: top;\n",
       "    }\n",
       "\n",
       "    .dataframe thead th {\n",
       "        text-align: right;\n",
       "    }\n",
       "</style>\n",
       "<table border=\"1\" class=\"dataframe\">\n",
       "  <thead>\n",
       "    <tr style=\"text-align: right;\">\n",
       "      <th></th>\n",
       "      <th>序號</th>\n",
       "      <th>地區別</th>\n",
       "      <th>縣市</th>\n",
       "      <th>觀光工廠名稱</th>\n",
       "      <th>地址</th>\n",
       "    </tr>\n",
       "  </thead>\n",
       "  <tbody>\n",
       "    <tr>\n",
       "      <th>0</th>\n",
       "      <td>1</td>\n",
       "      <td>北部</td>\n",
       "      <td>宜蘭縣</td>\n",
       "      <td>一米特創藝美食館</td>\n",
       "      <td>宜蘭縣蘇澳鎮祥和路199號</td>\n",
       "    </tr>\n",
       "    <tr>\n",
       "      <th>1</th>\n",
       "      <td>2</td>\n",
       "      <td>北部</td>\n",
       "      <td>宜蘭縣</td>\n",
       "      <td>台灣足鞋健康知識館</td>\n",
       "      <td>宜蘭縣五結鄉中興村中里路18號</td>\n",
       "    </tr>\n",
       "    <tr>\n",
       "      <th>2</th>\n",
       "      <td>3</td>\n",
       "      <td>北部</td>\n",
       "      <td>宜蘭縣</td>\n",
       "      <td>安永心食館</td>\n",
       "      <td>宜蘭縣蘇澳鎮中山路二段415號</td>\n",
       "    </tr>\n",
       "    <tr>\n",
       "      <th>3</th>\n",
       "      <td>4</td>\n",
       "      <td>北部</td>\n",
       "      <td>宜蘭縣</td>\n",
       "      <td>亞典蛋糕密碼館</td>\n",
       "      <td>宜蘭縣宜蘭市梅洲二路122號</td>\n",
       "    </tr>\n",
       "    <tr>\n",
       "      <th>4</th>\n",
       "      <td>5</td>\n",
       "      <td>北部</td>\n",
       "      <td>宜蘭縣</td>\n",
       "      <td>宜蘭餅發明館</td>\n",
       "      <td>宜蘭縣蘇澳鎮海山西路369號</td>\n",
       "    </tr>\n",
       "  </tbody>\n",
       "</table>\n",
       "</div>"
      ],
      "text/plain": [
       "   序號 地區別   縣市     觀光工廠名稱               地址\n",
       "0   1  北部  宜蘭縣   一米特創藝美食館    宜蘭縣蘇澳鎮祥和路199號\n",
       "1   2  北部  宜蘭縣  台灣足鞋健康知識館  宜蘭縣五結鄉中興村中里路18號\n",
       "2   3  北部  宜蘭縣      安永心食館  宜蘭縣蘇澳鎮中山路二段415號\n",
       "3   4  北部  宜蘭縣    亞典蛋糕密碼館   宜蘭縣宜蘭市梅洲二路122號\n",
       "4   5  北部  宜蘭縣     宜蘭餅發明館   宜蘭縣蘇澳鎮海山西路369號"
      ]
     },
     "execution_count": 71,
     "metadata": {},
     "output_type": "execute_result"
    }
   ],
   "source": [
    "all.head()"
   ]
  },
  {
   "cell_type": "code",
   "execution_count": 72,
   "id": "79e9e21c",
   "metadata": {},
   "outputs": [
    {
     "data": {
      "text/html": [
       "<div>\n",
       "<style scoped>\n",
       "    .dataframe tbody tr th:only-of-type {\n",
       "        vertical-align: middle;\n",
       "    }\n",
       "\n",
       "    .dataframe tbody tr th {\n",
       "        vertical-align: top;\n",
       "    }\n",
       "\n",
       "    .dataframe thead th {\n",
       "        text-align: right;\n",
       "    }\n",
       "</style>\n",
       "<table border=\"1\" class=\"dataframe\">\n",
       "  <thead>\n",
       "    <tr style=\"text-align: right;\">\n",
       "      <th></th>\n",
       "      <th>序號</th>\n",
       "      <th>地區別</th>\n",
       "      <th>縣市</th>\n",
       "      <th>觀光工廠名稱</th>\n",
       "      <th>地址</th>\n",
       "    </tr>\n",
       "  </thead>\n",
       "  <tbody>\n",
       "    <tr>\n",
       "      <th>0</th>\n",
       "      <td>101</td>\n",
       "      <td>南部</td>\n",
       "      <td>嘉義縣</td>\n",
       "      <td>月桃故事館</td>\n",
       "      <td>嘉義市東區保忠一街359號</td>\n",
       "    </tr>\n",
       "    <tr>\n",
       "      <th>1</th>\n",
       "      <td>102</td>\n",
       "      <td>南部</td>\n",
       "      <td>嘉義縣</td>\n",
       "      <td>卡普秀醫美研發中心</td>\n",
       "      <td>嘉義縣民雄鄉民雄工業區成功五街3號</td>\n",
       "    </tr>\n",
       "    <tr>\n",
       "      <th>2</th>\n",
       "      <td>103</td>\n",
       "      <td>南部</td>\n",
       "      <td>嘉義縣</td>\n",
       "      <td>卡羅爾銅管樂器觀光工廠</td>\n",
       "      <td>嘉義縣大林鎮中坑里1鄰大埔美園區20路3號</td>\n",
       "    </tr>\n",
       "    <tr>\n",
       "      <th>3</th>\n",
       "      <td>104</td>\n",
       "      <td>南部</td>\n",
       "      <td>嘉義縣</td>\n",
       "      <td>民雄金桔觀光工廠</td>\n",
       "      <td>嘉義縣民雄鄉三興村陳厝寮7鄰38號</td>\n",
       "    </tr>\n",
       "    <tr>\n",
       "      <th>4</th>\n",
       "      <td>105</td>\n",
       "      <td>南部</td>\n",
       "      <td>嘉義縣</td>\n",
       "      <td>余順豐花生觀光工廠</td>\n",
       "      <td>嘉義縣東石鄉蔦松村湖底路20之28號</td>\n",
       "    </tr>\n",
       "  </tbody>\n",
       "</table>\n",
       "</div>"
      ],
      "text/plain": [
       "    序號 地區別   縣市       觀光工廠名稱                     地址\n",
       "0  101  南部  嘉義縣        月桃故事館          嘉義市東區保忠一街359號\n",
       "1  102  南部  嘉義縣    卡普秀醫美研發中心      嘉義縣民雄鄉民雄工業區成功五街3號\n",
       "2  103  南部  嘉義縣  卡羅爾銅管樂器觀光工廠  嘉義縣大林鎮中坑里1鄰大埔美園區20路3號\n",
       "3  104  南部  嘉義縣     民雄金桔觀光工廠      嘉義縣民雄鄉三興村陳厝寮7鄰38號\n",
       "4  105  南部  嘉義縣    余順豐花生觀光工廠     嘉義縣東石鄉蔦松村湖底路20之28號"
      ]
     },
     "execution_count": 72,
     "metadata": {},
     "output_type": "execute_result"
    }
   ],
   "source": [
    "south.head()"
   ]
  },
  {
   "cell_type": "code",
   "execution_count": 73,
   "id": "8474ac2e",
   "metadata": {},
   "outputs": [
    {
     "name": "stdout",
     "output_type": "stream",
     "text": [
      "全臺觀光工廠數: 144  vs. 南部觀光工廠數: 40\n"
     ]
    }
   ],
   "source": [
    "alldata = list(all['地區別'])\n",
    "print(\"全臺觀光工廠數:\", len(alldata), \" vs. 南部觀光工廠數:\", len(south))"
   ]
  },
  {
   "cell_type": "code",
   "execution_count": 66,
   "id": "07b26745",
   "metadata": {
    "scrolled": true
   },
   "outputs": [
    {
     "name": "stdout",
     "output_type": "stream",
     "text": [
      "{'嘉義縣', '台南市', '高雄市', '屏東縣'}\n",
      "{'屏東縣', '新北市', '台中市', '雲林縣', '嘉義縣', '南投縣', '花蓮縣', '新竹市', '宜蘭縣', '桃園市', '台東縣', '苗栗縣', '新竹縣', '基隆市', '金門縣', '彰化縣', '高雄市', '台南市'}\n",
      "{'台東縣', '苗栗縣', '新竹縣', '雲林縣', '新北市', '台中市', '基隆市', '金門縣', '花蓮縣', '南投縣', '新竹市', '彰化縣', '宜蘭縣', '桃園市'}\n",
      "set()\n",
      "{'台東縣', '苗栗縣', '新竹縣', '新北市', '台中市', '雲林縣', '基隆市', '金門縣', '南投縣', '花蓮縣', '新竹市', '彰化縣', '宜蘭縣', '桃園市'}\n"
     ]
    }
   ],
   "source": [
    "s1 = all = {'宜蘭縣','基隆市','新北市','桃園市','新竹市','新竹縣','苗栗縣','台中市','彰化縣','南投縣','雲林縣','嘉義縣','台南市','高雄市','屏東縣','台東縣','花蓮縣','金門縣'}\n",
    "s2 = south = {'嘉義縣','台南市','高雄市','屏東縣'}\n",
    "\n",
    "print(s1&s2)\n",
    "print(s1|s2)\n",
    "print(s1-s2)\n",
    "print(s2-s1)\n",
    "print(s1^s2)"
   ]
  },
  {
   "cell_type": "code",
   "execution_count": null,
   "id": "c46e60bb",
   "metadata": {},
   "outputs": [],
   "source": []
  },
  {
   "cell_type": "code",
   "execution_count": null,
   "id": "2a113c5b",
   "metadata": {},
   "outputs": [],
   "source": []
  }
 ],
 "metadata": {
  "kernelspec": {
   "display_name": "Python 3 (ipykernel)",
   "language": "python",
   "name": "python3"
  },
  "language_info": {
   "codemirror_mode": {
    "name": "ipython",
    "version": 3
   },
   "file_extension": ".py",
   "mimetype": "text/x-python",
   "name": "python",
   "nbconvert_exporter": "python",
   "pygments_lexer": "ipython3",
   "version": "3.9.12"
  }
 },
 "nbformat": 4,
 "nbformat_minor": 5
}
