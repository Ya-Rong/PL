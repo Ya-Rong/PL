{
 "cells": [
  {
   "cell_type": "code",
   "execution_count": 7,
   "id": "5882a8e1",
   "metadata": {},
   "outputs": [],
   "source": [
    "#觀光工廠名錄 vs. 在南部的觀光工廠"
   ]
  },
  {
   "cell_type": "code",
   "execution_count": 1,
   "id": "3224ae2d",
   "metadata": {},
   "outputs": [],
   "source": [
    "#使用pandas套件\n",
    "import pandas as pd\n",
    "\n",
    "# read csv file\n",
    "#須將csv檔與此程式碼檔案放置於同一資料夾內\n",
    "all = pd.read_csv(\"all.csv\", encoding='big5')\n",
    "south = pd.read_csv(\"south.csv\", encoding='big5')\n",
    "#因檔案格式為big5，需先強制編碼成big5，以順利操作"
   ]
  },
  {
   "cell_type": "code",
   "execution_count": 2,
   "id": "a95255b1",
   "metadata": {},
   "outputs": [
    {
     "data": {
      "text/html": [
       "<div>\n",
       "<style scoped>\n",
       "    .dataframe tbody tr th:only-of-type {\n",
       "        vertical-align: middle;\n",
       "    }\n",
       "\n",
       "    .dataframe tbody tr th {\n",
       "        vertical-align: top;\n",
       "    }\n",
       "\n",
       "    .dataframe thead th {\n",
       "        text-align: right;\n",
       "    }\n",
       "</style>\n",
       "<table border=\"1\" class=\"dataframe\">\n",
       "  <thead>\n",
       "    <tr style=\"text-align: right;\">\n",
       "      <th></th>\n",
       "      <th>序號</th>\n",
       "      <th>地區別</th>\n",
       "      <th>縣市</th>\n",
       "      <th>觀光工廠名稱</th>\n",
       "      <th>地址</th>\n",
       "    </tr>\n",
       "  </thead>\n",
       "  <tbody>\n",
       "    <tr>\n",
       "      <th>0</th>\n",
       "      <td>1</td>\n",
       "      <td>北部</td>\n",
       "      <td>宜蘭縣</td>\n",
       "      <td>一米特創藝美食館</td>\n",
       "      <td>宜蘭縣蘇澳鎮祥和路199號</td>\n",
       "    </tr>\n",
       "    <tr>\n",
       "      <th>1</th>\n",
       "      <td>2</td>\n",
       "      <td>北部</td>\n",
       "      <td>宜蘭縣</td>\n",
       "      <td>台灣足鞋健康知識館</td>\n",
       "      <td>宜蘭縣五結鄉中興村中里路18號</td>\n",
       "    </tr>\n",
       "    <tr>\n",
       "      <th>2</th>\n",
       "      <td>3</td>\n",
       "      <td>北部</td>\n",
       "      <td>宜蘭縣</td>\n",
       "      <td>安永心食館</td>\n",
       "      <td>宜蘭縣蘇澳鎮中山路二段415號</td>\n",
       "    </tr>\n",
       "    <tr>\n",
       "      <th>3</th>\n",
       "      <td>4</td>\n",
       "      <td>北部</td>\n",
       "      <td>宜蘭縣</td>\n",
       "      <td>亞典蛋糕密碼館</td>\n",
       "      <td>宜蘭縣宜蘭市梅洲二路122號</td>\n",
       "    </tr>\n",
       "    <tr>\n",
       "      <th>4</th>\n",
       "      <td>5</td>\n",
       "      <td>北部</td>\n",
       "      <td>宜蘭縣</td>\n",
       "      <td>宜蘭餅發明館</td>\n",
       "      <td>宜蘭縣蘇澳鎮海山西路369號</td>\n",
       "    </tr>\n",
       "  </tbody>\n",
       "</table>\n",
       "</div>"
      ],
      "text/plain": [
       "   序號 地區別   縣市     觀光工廠名稱               地址\n",
       "0   1  北部  宜蘭縣   一米特創藝美食館    宜蘭縣蘇澳鎮祥和路199號\n",
       "1   2  北部  宜蘭縣  台灣足鞋健康知識館  宜蘭縣五結鄉中興村中里路18號\n",
       "2   3  北部  宜蘭縣      安永心食館  宜蘭縣蘇澳鎮中山路二段415號\n",
       "3   4  北部  宜蘭縣    亞典蛋糕密碼館   宜蘭縣宜蘭市梅洲二路122號\n",
       "4   5  北部  宜蘭縣     宜蘭餅發明館   宜蘭縣蘇澳鎮海山西路369號"
      ]
     },
     "execution_count": 2,
     "metadata": {},
     "output_type": "execute_result"
    }
   ],
   "source": [
    "#列出檔案前五筆資料\n",
    "all.head()"
   ]
  },
  {
   "cell_type": "code",
   "execution_count": 4,
   "id": "79e9e21c",
   "metadata": {},
   "outputs": [
    {
     "data": {
      "text/html": [
       "<div>\n",
       "<style scoped>\n",
       "    .dataframe tbody tr th:only-of-type {\n",
       "        vertical-align: middle;\n",
       "    }\n",
       "\n",
       "    .dataframe tbody tr th {\n",
       "        vertical-align: top;\n",
       "    }\n",
       "\n",
       "    .dataframe thead th {\n",
       "        text-align: right;\n",
       "    }\n",
       "</style>\n",
       "<table border=\"1\" class=\"dataframe\">\n",
       "  <thead>\n",
       "    <tr style=\"text-align: right;\">\n",
       "      <th></th>\n",
       "      <th>序號</th>\n",
       "      <th>地區別</th>\n",
       "      <th>縣市</th>\n",
       "      <th>觀光工廠名稱</th>\n",
       "      <th>地址</th>\n",
       "    </tr>\n",
       "  </thead>\n",
       "  <tbody>\n",
       "    <tr>\n",
       "      <th>35</th>\n",
       "      <td>136</td>\n",
       "      <td>南部</td>\n",
       "      <td>高雄市</td>\n",
       "      <td>裕賀牛??工廠</td>\n",
       "      <td>高雄市燕巢區大仁路68號</td>\n",
       "    </tr>\n",
       "    <tr>\n",
       "      <th>36</th>\n",
       "      <td>137</td>\n",
       "      <td>南部</td>\n",
       "      <td>屏東縣</td>\n",
       "      <td>天明製藥農科觀光藥廠</td>\n",
       "      <td>屏東縣長治鄉德和村神農路3號</td>\n",
       "    </tr>\n",
       "    <tr>\n",
       "      <th>37</th>\n",
       "      <td>138</td>\n",
       "      <td>南部</td>\n",
       "      <td>屏東縣</td>\n",
       "      <td>萬寶祿酵素品牌文化館</td>\n",
       "      <td>屏東縣長治鄉德和村神農路17號</td>\n",
       "    </tr>\n",
       "    <tr>\n",
       "      <th>38</th>\n",
       "      <td>139</td>\n",
       "      <td>南部</td>\n",
       "      <td>屏東縣</td>\n",
       "      <td>臺灣菸酒股份有限公司屏東觀光酒廠</td>\n",
       "      <td>屏東縣內埔鄉建國路34號</td>\n",
       "    </tr>\n",
       "    <tr>\n",
       "      <th>39</th>\n",
       "      <td>140</td>\n",
       "      <td>南部</td>\n",
       "      <td>屏東縣</td>\n",
       "      <td>鮮饌道海洋食品文化館</td>\n",
       "      <td>屏東縣林邊鄉成功路122號</td>\n",
       "    </tr>\n",
       "  </tbody>\n",
       "</table>\n",
       "</div>"
      ],
      "text/plain": [
       "     序號 地區別   縣市            觀光工廠名稱               地址\n",
       "35  136  南部  高雄市           裕賀牛??工廠     高雄市燕巢區大仁路68號\n",
       "36  137  南部  屏東縣        天明製藥農科觀光藥廠   屏東縣長治鄉德和村神農路3號\n",
       "37  138  南部  屏東縣        萬寶祿酵素品牌文化館  屏東縣長治鄉德和村神農路17號\n",
       "38  139  南部  屏東縣  臺灣菸酒股份有限公司屏東觀光酒廠     屏東縣內埔鄉建國路34號\n",
       "39  140  南部  屏東縣        鮮饌道海洋食品文化館    屏東縣林邊鄉成功路122號"
      ]
     },
     "execution_count": 4,
     "metadata": {},
     "output_type": "execute_result"
    }
   ],
   "source": [
    "#列出檔案後五筆資料\n",
    "south.tail()"
   ]
  },
  {
   "cell_type": "code",
   "execution_count": 5,
   "id": "8474ac2e",
   "metadata": {},
   "outputs": [
    {
     "name": "stdout",
     "output_type": "stream",
     "text": [
      "全臺觀光工廠數: 144  vs. 南部觀光工廠數: 40\n"
     ]
    }
   ],
   "source": [
    "alldata = list(all['地區別'])\n",
    "print(\"全臺觀光工廠數:\", len(alldata), \" vs. 南部觀光工廠數:\", len(south))"
   ]
  },
  {
   "cell_type": "code",
   "execution_count": 6,
   "id": "3ecafc1a",
   "metadata": {},
   "outputs": [],
   "source": [
    "s1 = all = {'宜蘭縣','基隆市','新北市','桃園市','新竹市','新竹縣','苗栗縣','台中市','彰化縣','南投縣','雲林縣','嘉義縣','台南市','高雄市','屏東縣','台東縣','花蓮縣','金門縣'}\n",
    "s2 = south = {'嘉義縣','台南市','高雄市','屏東縣'}"
   ]
  },
  {
   "cell_type": "code",
   "execution_count": 7,
   "id": "16191572",
   "metadata": {},
   "outputs": [
    {
     "name": "stdout",
     "output_type": "stream",
     "text": [
      "{'高雄市', '台南市', '嘉義縣', '屏東縣'}\n"
     ]
    }
   ],
   "source": [
    "#交集\n",
    "#南部有觀光工廠的縣市\n",
    "print(s1&s2) "
   ]
  },
  {
   "cell_type": "code",
   "execution_count": 8,
   "id": "b0f75689",
   "metadata": {},
   "outputs": [
    {
     "name": "stdout",
     "output_type": "stream",
     "text": [
      "{'高雄市', '南投縣', '台中市', '新竹市', '苗栗縣', '花蓮縣', '宜蘭縣', '雲林縣', '彰化縣', '嘉義縣', '桃園市', '金門縣', '台南市', '基隆市', '新竹縣', '屏東縣', '新北市', '台東縣'}\n"
     ]
    }
   ],
   "source": [
    "#聯集\n",
    "#全台灣有觀光工廠的縣市\n",
    "print(s1|s2)"
   ]
  },
  {
   "cell_type": "code",
   "execution_count": 9,
   "id": "b22bc9e2",
   "metadata": {},
   "outputs": [
    {
     "name": "stdout",
     "output_type": "stream",
     "text": [
      "{'南投縣', '桃園市', '新竹市', '花蓮縣', '苗栗縣', '台中市', '宜蘭縣', '雲林縣', '台東縣', '基隆市', '新竹縣', '彰化縣', '新北市', '金門縣'}\n"
     ]
    }
   ],
   "source": [
    "#差集 s1.difference(s2)\n",
    "#南部以外有觀光工廠的縣市\n",
    "print(s1-s2)"
   ]
  },
  {
   "cell_type": "code",
   "execution_count": 10,
   "id": "e470a191",
   "metadata": {},
   "outputs": [
    {
     "name": "stdout",
     "output_type": "stream",
     "text": [
      "set()\n"
     ]
    }
   ],
   "source": [
    "#差集 s2.difference(s1)\n",
    "#x\n",
    "print(s2-s1)"
   ]
  },
  {
   "cell_type": "code",
   "execution_count": 11,
   "id": "bcb893a1",
   "metadata": {},
   "outputs": [
    {
     "name": "stdout",
     "output_type": "stream",
     "text": [
      "{'南投縣', '桃園市', '台中市', '新竹市', '苗栗縣', '花蓮縣', '宜蘭縣', '雲林縣', '台東縣', '新北市', '基隆市', '新竹縣', '彰化縣', '金門縣'}\n"
     ]
    }
   ],
   "source": [
    "#對稱差集\n",
    "#南部以外有觀光工廠的縣市\n",
    "print(s1^s2)"
   ]
  },
  {
   "cell_type": "code",
   "execution_count": 12,
   "id": "b3b6c906",
   "metadata": {},
   "outputs": [
    {
     "name": "stdout",
     "output_type": "stream",
     "text": [
      "請輸入想查詢的觀光工廠縣市:台南市\n",
      "位於南部且有觀光工廠。\n"
     ]
    }
   ],
   "source": [
    "s = input(\"請輸入想查詢的觀光工廠縣市:\")\n",
    "if s in s1&s2:\n",
    "    print ('位於南部且有觀光工廠。')\n",
    "elif s in s1-s2:\n",
    "    print ('位於南部以外且有觀光工廠的縣市。')\n",
    "elif s in s2^s1:\n",
    "    print ('位於南部以外且有觀光工廠的縣市。')\n",
    "else:\n",
    "    print(\"此縣市無觀光工廠。\")"
   ]
  },
  {
   "cell_type": "code",
   "execution_count": 13,
   "id": "d73149b1",
   "metadata": {},
   "outputs": [
    {
     "name": "stdout",
     "output_type": "stream",
     "text": [
      "請輸入想查詢的觀光工廠縣市:台東縣\n",
      "位於南部以外且有觀光工廠的縣市。\n"
     ]
    }
   ],
   "source": [
    "s = input(\"請輸入想查詢的觀光工廠縣市:\")\n",
    "if s in s1&s2:\n",
    "    print ('位於南部且有觀光工廠。')\n",
    "elif s in s1-s2:\n",
    "    print ('位於南部以外且有觀光工廠的縣市。')\n",
    "elif s in s2^s1:\n",
    "    print ('位於南部以外且有觀光工廠的縣市。')\n",
    "else:\n",
    "    print(\"此縣市無觀光工廠。\")"
   ]
  },
  {
   "cell_type": "code",
   "execution_count": 14,
   "id": "9f6fbf16",
   "metadata": {},
   "outputs": [
    {
     "name": "stdout",
     "output_type": "stream",
     "text": [
      "請輸入想查詢的觀光工廠縣市:新竹縣\n",
      "位於南部以外且有觀光工廠的縣市。\n"
     ]
    }
   ],
   "source": [
    "s = input(\"請輸入想查詢的觀光工廠縣市:\")\n",
    "if s in s1&s2:\n",
    "    print ('位於南部且有觀光工廠。')\n",
    "elif s in s1-s2:\n",
    "    print ('位於南部以外且有觀光工廠的縣市。')\n",
    "elif s in s2^s1:\n",
    "    print ('位於南部以外且有觀光工廠的縣市。')\n",
    "else:\n",
    "    print(\"此縣市無觀光工廠。\")"
   ]
  },
  {
   "cell_type": "code",
   "execution_count": 15,
   "id": "6d394bf8",
   "metadata": {},
   "outputs": [
    {
     "name": "stdout",
     "output_type": "stream",
     "text": [
      "請輸入想查詢的觀光工廠縣市:嘉義市\n",
      "此縣市無觀光工廠。\n"
     ]
    }
   ],
   "source": [
    "s = input(\"請輸入想查詢的觀光工廠縣市:\")\n",
    "if s in s1&s2:\n",
    "    print ('位於南部且有觀光工廠。')\n",
    "elif s in s1-s2:\n",
    "    print ('位於南部以外且有觀光工廠的縣市。')\n",
    "elif s in s2^s1:\n",
    "    print ('位於南部以外且有觀光工廠的縣市。')\n",
    "else:\n",
    "    print(\"此縣市無觀光工廠。\")"
   ]
  }
 ],
 "metadata": {
  "kernelspec": {
   "display_name": "Python 3 (ipykernel)",
   "language": "python",
   "name": "python3"
  },
  "language_info": {
   "codemirror_mode": {
    "name": "ipython",
    "version": 3
   },
   "file_extension": ".py",
   "mimetype": "text/x-python",
   "name": "python",
   "nbconvert_exporter": "python",
   "pygments_lexer": "ipython3",
   "version": "3.9.12"
  }
 },
 "nbformat": 4,
 "nbformat_minor": 5
}
