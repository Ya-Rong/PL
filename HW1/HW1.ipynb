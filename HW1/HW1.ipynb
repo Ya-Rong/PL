{
 "cells": [
  {
   "cell_type": "code",
   "execution_count": 7,
   "id": "5882a8e1",
   "metadata": {},
   "outputs": [],
   "source": [
    "#觀光工廠名錄 vs. 在台南的觀光工廠"
   ]
  },
  {
   "cell_type": "code",
   "execution_count": 20,
   "id": "3224ae2d",
   "metadata": {},
   "outputs": [],
   "source": [
    "import pandas as pd\n",
    "\n",
    "# read csv file\n",
    "all = pd.read_csv(\"alltouristfactory.csv\", encoding='big5')\n",
    "tainan = pd.read_csv(\"tainantouristfactory.csv\", encoding='big5')\n"
   ]
  },
  {
   "cell_type": "code",
   "execution_count": 21,
   "id": "a95255b1",
   "metadata": {},
   "outputs": [
    {
     "data": {
      "text/html": [
       "<div>\n",
       "<style scoped>\n",
       "    .dataframe tbody tr th:only-of-type {\n",
       "        vertical-align: middle;\n",
       "    }\n",
       "\n",
       "    .dataframe tbody tr th {\n",
       "        vertical-align: top;\n",
       "    }\n",
       "\n",
       "    .dataframe thead th {\n",
       "        text-align: right;\n",
       "    }\n",
       "</style>\n",
       "<table border=\"1\" class=\"dataframe\">\n",
       "  <thead>\n",
       "    <tr style=\"text-align: right;\">\n",
       "      <th></th>\n",
       "      <th>序號</th>\n",
       "      <th>地區別</th>\n",
       "      <th>縣市</th>\n",
       "      <th>觀光工廠名稱</th>\n",
       "      <th>地址</th>\n",
       "    </tr>\n",
       "  </thead>\n",
       "  <tbody>\n",
       "    <tr>\n",
       "      <th>0</th>\n",
       "      <td>1</td>\n",
       "      <td>北部</td>\n",
       "      <td>宜蘭縣</td>\n",
       "      <td>一米特創藝美食館</td>\n",
       "      <td>宜蘭縣蘇澳鎮祥和路199號</td>\n",
       "    </tr>\n",
       "    <tr>\n",
       "      <th>1</th>\n",
       "      <td>2</td>\n",
       "      <td>北部</td>\n",
       "      <td>宜蘭縣</td>\n",
       "      <td>台灣足鞋健康知識館</td>\n",
       "      <td>宜蘭縣五結鄉中興村中里路18號</td>\n",
       "    </tr>\n",
       "    <tr>\n",
       "      <th>2</th>\n",
       "      <td>3</td>\n",
       "      <td>北部</td>\n",
       "      <td>宜蘭縣</td>\n",
       "      <td>安永心食館</td>\n",
       "      <td>宜蘭縣蘇澳鎮中山路二段415號</td>\n",
       "    </tr>\n",
       "    <tr>\n",
       "      <th>3</th>\n",
       "      <td>4</td>\n",
       "      <td>北部</td>\n",
       "      <td>宜蘭縣</td>\n",
       "      <td>亞典蛋糕密碼館</td>\n",
       "      <td>宜蘭縣宜蘭市梅洲二路122號</td>\n",
       "    </tr>\n",
       "    <tr>\n",
       "      <th>4</th>\n",
       "      <td>5</td>\n",
       "      <td>北部</td>\n",
       "      <td>宜蘭縣</td>\n",
       "      <td>宜蘭餅發明館</td>\n",
       "      <td>宜蘭縣蘇澳鎮海山西路369號</td>\n",
       "    </tr>\n",
       "  </tbody>\n",
       "</table>\n",
       "</div>"
      ],
      "text/plain": [
       "   序號 地區別   縣市     觀光工廠名稱               地址\n",
       "0   1  北部  宜蘭縣   一米特創藝美食館    宜蘭縣蘇澳鎮祥和路199號\n",
       "1   2  北部  宜蘭縣  台灣足鞋健康知識館  宜蘭縣五結鄉中興村中里路18號\n",
       "2   3  北部  宜蘭縣      安永心食館  宜蘭縣蘇澳鎮中山路二段415號\n",
       "3   4  北部  宜蘭縣    亞典蛋糕密碼館   宜蘭縣宜蘭市梅洲二路122號\n",
       "4   5  北部  宜蘭縣     宜蘭餅發明館   宜蘭縣蘇澳鎮海山西路369號"
      ]
     },
     "execution_count": 21,
     "metadata": {},
     "output_type": "execute_result"
    }
   ],
   "source": [
    "alltouristfactory.head()"
   ]
  },
  {
   "cell_type": "code",
   "execution_count": 22,
   "id": "8474ac2e",
   "metadata": {},
   "outputs": [
    {
     "name": "stdout",
     "output_type": "stream",
     "text": [
      "全臺觀光工廠數: 144  vs. 台南觀光工廠數: 22\n"
     ]
    }
   ],
   "source": [
    "alldata = list(alltouristfactory['縣市'])\n",
    "print(\"全臺觀光工廠數:\", len(alldata), \" vs. 台南觀光工廠數:\", len(tainantouristfactory))"
   ]
  },
  {
   "cell_type": "code",
   "execution_count": 27,
   "id": "07b26745",
   "metadata": {},
   "outputs": [
    {
     "name": "stdout",
     "output_type": "stream",
     "text": [
      "{'嘉義縣', '台南市', '高雄市', '屏東縣'}\n",
      "{'屏東縣', '新北市', '台中市', '雲林縣', '嘉義縣', '南投縣', '花蓮縣', '新竹市', '宜蘭縣', '桃園市', '台東縣', '苗栗縣', '新竹縣', '基隆市', '金門縣', '彰化縣', '高雄市', '台南市'}\n",
      "{'台東縣', '苗栗縣', '新竹縣', '雲林縣', '新北市', '台中市', '基隆市', '金門縣', '花蓮縣', '南投縣', '新竹市', '彰化縣', '宜蘭縣', '桃園市'}\n",
      "set()\n",
      "{'台東縣', '苗栗縣', '新竹縣', '新北市', '台中市', '雲林縣', '基隆市', '金門縣', '南投縣', '花蓮縣', '新竹市', '彰化縣', '宜蘭縣', '桃園市'}\n"
     ]
    }
   ],
   "source": [
    "s1 = all = {'宜蘭縣','基隆市','新北市','桃園市','新竹市','新竹縣','苗栗縣','台中市','彰化縣','南投縣','雲林縣','嘉義縣','台南市','高雄市','屏東縣','台東縣','花蓮縣','金門縣'}\n",
    "s2 = south = {'嘉義縣','台南市','高雄市','屏東縣'}\n",
    "\n",
    "print(s1&s2)\n",
    "print(s1|s2)\n",
    "print(s1-s2)\n",
    "print(s2-s1)\n",
    "print(s1^s2)"
   ]
  },
  {
   "cell_type": "code",
   "execution_count": null,
   "id": "23e7ac73",
   "metadata": {},
   "outputs": [],
   "source": []
  },
  {
   "cell_type": "code",
   "execution_count": null,
   "id": "8044df02",
   "metadata": {},
   "outputs": [],
   "source": []
  }
 ],
 "metadata": {
  "kernelspec": {
   "display_name": "Python 3 (ipykernel)",
   "language": "python",
   "name": "python3"
  },
  "language_info": {
   "codemirror_mode": {
    "name": "ipython",
    "version": 3
   },
   "file_extension": ".py",
   "mimetype": "text/x-python",
   "name": "python",
   "nbconvert_exporter": "python",
   "pygments_lexer": "ipython3",
   "version": "3.9.12"
  }
 },
 "nbformat": 4,
 "nbformat_minor": 5
}
