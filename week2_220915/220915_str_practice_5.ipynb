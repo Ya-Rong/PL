{
 "cells": [
  {
   "cell_type": "code",
   "execution_count": 14,
   "id": "c94d6157",
   "metadata": {},
   "outputs": [
    {
     "name": "stdout",
     "output_type": "stream",
     "text": [
      "請輸入案件:原告闖紅燈\n",
      "原告多被告少\n"
     ]
    }
   ],
   "source": [
    "#str practice\n",
    "#練習題3\n",
    "\n",
    "a='被告闖紅燈'\n",
    "b='原告闖紅燈'\n",
    "c='原告被告皆闖紅燈'\n",
    "d='空白或無相關語句'\n",
    "a1='被告判賠100%'\n",
    "b1='原告多被告少'\n",
    "c1='原告50%被告50%'\n",
    "d1='請填入有效訊息'\n",
    "\n",
    "event=input('請輸入案件:')\n",
    "\n",
    "if event=='被告闖紅燈':\n",
    "    print(a1)\n",
    "elif event=='原告闖紅燈':\n",
    "    print(b1)\n",
    "elif event=='原告被告皆闖紅燈':\n",
    "    print(c1)\n",
    "else:\n",
    "    print(d1)\n"
   ]
  },
  {
   "cell_type": "code",
   "execution_count": null,
   "id": "9b979002",
   "metadata": {},
   "outputs": [],
   "source": []
  }
 ],
 "metadata": {
  "kernelspec": {
   "display_name": "Python 3 (ipykernel)",
   "language": "python",
   "name": "python3"
  },
  "language_info": {
   "codemirror_mode": {
    "name": "ipython",
    "version": 3
   },
   "file_extension": ".py",
   "mimetype": "text/x-python",
   "name": "python",
   "nbconvert_exporter": "python",
   "pygments_lexer": "ipython3",
   "version": "3.9.12"
  }
 },
 "nbformat": 4,
 "nbformat_minor": 5
}
