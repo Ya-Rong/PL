{
 "cells": [
  {
   "cell_type": "code",
   "execution_count": 1,
   "id": "ad7ae76a",
   "metadata": {},
   "outputs": [
    {
     "name": "stdout",
     "output_type": "stream",
     "text": [
      "總共付款： 2000\n"
     ]
    }
   ],
   "source": [
    "#str1 = 錢錢\n",
    "money = 500\n",
    "year = 4\n",
    "total_money = money*year\n",
    "\n",
    "print('總共付款：',total_money)"
   ]
  },
  {
   "cell_type": "code",
   "execution_count": null,
   "id": "b18c0b54",
   "metadata": {},
   "outputs": [],
   "source": []
  }
 ],
 "metadata": {
  "kernelspec": {
   "display_name": "Python 3 (ipykernel)",
   "language": "python",
   "name": "python3"
  },
  "language_info": {
   "codemirror_mode": {
    "name": "ipython",
    "version": 3
   },
   "file_extension": ".py",
   "mimetype": "text/x-python",
   "name": "python",
   "nbconvert_exporter": "python",
   "pygments_lexer": "ipython3",
   "version": "3.9.12"
  }
 },
 "nbformat": 4,
 "nbformat_minor": 5
}
