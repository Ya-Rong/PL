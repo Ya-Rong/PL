{
 "cells": [
  {
   "cell_type": "code",
   "execution_count": 4,
   "id": "c46cd7dc",
   "metadata": {},
   "outputs": [
    {
     "name": "stdout",
     "output_type": "stream",
     "text": [
      "事件： 車禍肇事判賠\n",
      "原告賠金： 7706 元\n",
      "被告賠金： 17981 元\n"
     ]
    }
   ],
   "source": [
    "#str practice\n",
    "#練習題1\n",
    "\n",
    "event='車禍肇事判賠'\n",
    "sum_money = 25688\n",
    "a_rate = 0.3\n",
    "b_rate = 0.7\n",
    "a_money = money*a_rate\n",
    "b_money = money*b_rate\n",
    "print('事件：',event)\n",
    "print('原告賠金：',int(a_money),'元')\n",
    "print('被告賠金：',int(b_money),'元')"
   ]
  },
  {
   "cell_type": "code",
   "execution_count": null,
   "id": "48beb9eb",
   "metadata": {},
   "outputs": [],
   "source": []
  }
 ],
 "metadata": {
  "kernelspec": {
   "display_name": "Python 3 (ipykernel)",
   "language": "python",
   "name": "python3"
  },
  "language_info": {
   "codemirror_mode": {
    "name": "ipython",
    "version": 3
   },
   "file_extension": ".py",
   "mimetype": "text/x-python",
   "name": "python",
   "nbconvert_exporter": "python",
   "pygments_lexer": "ipython3",
   "version": "3.9.12"
  }
 },
 "nbformat": 4,
 "nbformat_minor": 5
}
