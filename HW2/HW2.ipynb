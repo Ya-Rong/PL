{
 "cells": [
  {
   "cell_type": "code",
   "execution_count": 25,
   "id": "3d901a6b",
   "metadata": {},
   "outputs": [],
   "source": [
    "#dictionary\n",
    "#d = {\n",
    "#    'person1':{'name':'吳亞蓉',\n",
    "#             '組別':'設科',\n",
    "#            '課表':{\n",
    "#                '禮拜一':['科技英文','電腦輔助製圖','班級經營'],\n",
    "#               '禮拜二':['教學媒體與應用','初級韓文','20世紀動盪時局下的知識分子'],\n",
    "#              '禮拜三':['色彩學','機構設計'],\n",
    "#             '禮拜四':['程式語言','機械製造','輔導原理與實務'],\n",
    "#            '禮拜五':['統計學','桌球初級']\n",
    "#               }\n",
    "#      }\n",
    "#}"
   ]
  },
  {
   "cell_type": "code",
   "execution_count": 51,
   "id": "36c65fa1",
   "metadata": {},
   "outputs": [],
   "source": [
    "d = {\n",
    "'課表':\n",
    "    {\n",
    "    '禮拜一':{'科技英文','電腦輔助製圖','班級經營'},\n",
    "    '禮拜二':{'教學媒體與應用','初級韓文','20世紀動盪時局下的知識分子'},\n",
    "    '禮拜三':{'色彩學','機構設計'},\n",
    "    '禮拜四':{'程式語言','機械製造','輔導原理與實務'},\n",
    "    '禮拜五':{'統計學','桌球初級'}\n",
    "    }\n",
    "}"
   ]
  },
  {
   "cell_type": "code",
   "execution_count": 52,
   "id": "13072554",
   "metadata": {},
   "outputs": [
    {
     "data": {
      "text/plain": [
       "dict_items([('課表', {'禮拜一': {'科技英文', '電腦輔助製圖', '班級經營'}, '禮拜二': {'初級韓文', '教學媒體與應用', '20世紀動盪時局下的知識分子'}, '禮拜三': {'色彩學', '機構設計'}, '禮拜四': {'機械製造', '程式語言', '輔導原理與實務'}, '禮拜五': {'統計學', '桌球初級'}})])"
      ]
     },
     "execution_count": 52,
     "metadata": {},
     "output_type": "execute_result"
    }
   ],
   "source": [
    "#將d裡面的內容(items)顯示出來\n",
    "d.items()"
   ]
  },
  {
   "cell_type": "code",
   "execution_count": 53,
   "id": "23b76a85",
   "metadata": {},
   "outputs": [
    {
     "data": {
      "text/plain": [
       "dict_keys(['課表'])"
      ]
     },
     "execution_count": 53,
     "metadata": {},
     "output_type": "execute_result"
    }
   ],
   "source": [
    "d.keys()"
   ]
  },
  {
   "cell_type": "code",
   "execution_count": 54,
   "id": "8ef117a1",
   "metadata": {},
   "outputs": [
    {
     "data": {
      "text/plain": [
       "dict"
      ]
     },
     "execution_count": 54,
     "metadata": {},
     "output_type": "execute_result"
    }
   ],
   "source": [
    "type(d['課表'])"
   ]
  },
  {
   "cell_type": "code",
   "execution_count": 62,
   "id": "bb981d92",
   "metadata": {},
   "outputs": [],
   "source": [
    "ask = \"班級經營\""
   ]
  },
  {
   "cell_type": "code",
   "execution_count": 65,
   "id": "d8787ffb",
   "metadata": {},
   "outputs": [
    {
     "name": "stdout",
     "output_type": "stream",
     "text": [
      "0\n"
     ]
    }
   ],
   "source": [
    "j=0\n",
    "for n in d.items():\n",
    "    #print(n[1])\n",
    "    #print(n[1].values())\n",
    "    for i in n[1].values():\n",
    "        #print(i)\n",
    "        if ask in i:\n",
    "            print(j)\n",
    "        else:\n",
    "            j=j+1        "
   ]
  },
  {
   "cell_type": "code",
   "execution_count": null,
   "id": "43b97d96",
   "metadata": {},
   "outputs": [],
   "source": []
  }
 ],
 "metadata": {
  "kernelspec": {
   "display_name": "Python 3 (ipykernel)",
   "language": "python",
   "name": "python3"
  },
  "language_info": {
   "codemirror_mode": {
    "name": "ipython",
    "version": 3
   },
   "file_extension": ".py",
   "mimetype": "text/x-python",
   "name": "python",
   "nbconvert_exporter": "python",
   "pygments_lexer": "ipython3",
   "version": "3.9.12"
  }
 },
 "nbformat": 4,
 "nbformat_minor": 5
}
