{
 "cells": [
  {
   "cell_type": "code",
   "execution_count": 73,
   "id": "41b5ead2",
   "metadata": {},
   "outputs": [
    {
     "ename": "SyntaxError",
     "evalue": "invalid syntax (372538957.py, line 20)",
     "output_type": "error",
     "traceback": [
      "\u001b[1;36m  Input \u001b[1;32mIn [73]\u001b[1;36m\u001b[0m\n\u001b[1;33m    {\u001b[0m\n\u001b[1;37m    ^\u001b[0m\n\u001b[1;31mSyntaxError\u001b[0m\u001b[1;31m:\u001b[0m invalid syntax\n"
     ]
    }
   ],
   "source": [
    "#dictionary\n",
    "d = {\n",
    "'課表':\n",
    "    {\n",
    "    '禮拜一':{\n",
    "        '科技英文':{'期中評量方式':{'個人報告1',\n",
    "                                  '個人報告2',\n",
    "                                  '個人報告3',\n",
    "                                  '個人報告4',\n",
    "                                  '分組報告'},\n",
    "                    '期末評量方式':{'筆試'},\n",
    "                    '其他評量':{'作業1',\n",
    "                                    '作業2'}\n",
    "                   },\n",
    "        '電腦輔助製圖':{'期中評量方式':'筆試',\n",
    "                        '期末評量方式':'筆試'\n",
    "                      },\n",
    "        '班級經營':{'期中評量方式':'分組報告',\n",
    "                    '期末評量方式':'筆試',\n",
    "                    '其他評量':'心得報告'\n",
    "                    },\n",
    "            }\n",
    "    }\n",
    "    \n",
    "    {\n",
    "    '禮拜二':{\n",
    "        '教學媒體與應用':{'期中評量方式':'分組報告',\n",
    "                         '期末評量方式':'專題報告'\n",
    "                        },\n",
    "        '初級韓文':{'期中評量方式':{'口試',\n",
    "                                  '分組報告',\n",
    "                                  '書面報告'},\n",
    "                    '期末評量方式':{'筆試',\n",
    "                                   '口試'}\n",
    "                    },\n",
    "        '20世紀動盪時局下的知識分子':{'其他評量':'心得報告'}\n",
    "            },\n",
    "    }\n",
    "    \n",
    "    {\n",
    "    '禮拜三':{\n",
    "        '色彩學':{'期中評量方式':{'作業',\n",
    "                                 '分組報告'},\n",
    "                  '期末評量方式':'作業'\n",
    "                  },\n",
    "        '機構設計':{'期中評量方式':'專題成果',\n",
    "                    '期末評量方式':'專題報告'\n",
    "                   }\n",
    "            },\n",
    "    }\n",
    "    \n",
    "    {\n",
    "    '禮拜四':{\n",
    "        '程式語言':{'期末評量方式':'專題報告',\n",
    "                    '其他評量':{'作業1',\n",
    "                                '作業2',\n",
    "                                '作業3',\n",
    "                                '作業4',\n",
    "                                '作業5'}\n",
    "                   },\n",
    "        '機械製造':{'期中評量方式':'筆試',\n",
    "                    '期末評量方式':'專題報告'\n",
    "                   },\n",
    "        '輔導原理與實務':{'期中評量方式':'分組報告',\n",
    "                         '期末評量方式':'心得報告'}\n",
    "            },\n",
    "    }\n",
    "    \n",
    "    {\n",
    "    '禮拜五':{\n",
    "        '統計學':{'期中評量方式':{'筆試',\n",
    "                                 '分組報告'},\n",
    "                  '期末評量方式':'專題報告',\n",
    "                  '其他評量':{'作業1',\n",
    "                              '作業2',\n",
    "                              '作業3',\n",
    "                              '作業4'}\n",
    "                },\n",
    "        '桌球初級':{'期中評量方式':'考試',\n",
    "                    '期末評量方式':'考試'}\n",
    "            }\n",
    "    }\n",
    "}"
   ]
  },
  {
   "cell_type": "code",
   "execution_count": null,
   "id": "84ce3c05",
   "metadata": {},
   "outputs": [],
   "source": [
    "d[0]"
   ]
  },
  {
   "cell_type": "code",
   "execution_count": 74,
   "id": "0e5df5c1",
   "metadata": {},
   "outputs": [],
   "source": [
    "d = {\n",
    "'課表':\n",
    "    {\n",
    "    '禮拜一':{'科技英文','電腦輔助製圖','班級經營'},\n",
    "    '禮拜二':{'教學媒體與應用','初級韓文','20世紀動盪時局下的知識分子'},\n",
    "    '禮拜三':{'色彩學','機構設計'},\n",
    "    '禮拜四':{'程式語言','機械製造','輔導原理與實務'},\n",
    "    '禮拜五':{'統計學','桌球初級'}\n",
    "    }\n",
    "}"
   ]
  },
  {
   "cell_type": "code",
   "execution_count": 75,
   "id": "a477f32d",
   "metadata": {},
   "outputs": [
    {
     "data": {
      "text/plain": [
       "dict_items([('課表', {'禮拜一': {'科技英文', '電腦輔助製圖', '班級經營'}, '禮拜二': {'初級韓文', '教學媒體與應用', '20世紀動盪時局下的知識分子'}, '禮拜三': {'色彩學', '機構設計'}, '禮拜四': {'機械製造', '程式語言', '輔導原理與實務'}, '禮拜五': {'統計學', '桌球初級'}})])"
      ]
     },
     "execution_count": 75,
     "metadata": {},
     "output_type": "execute_result"
    }
   ],
   "source": [
    "#將d裡面的內容(items)顯示出來\n",
    "d.items()"
   ]
  },
  {
   "cell_type": "code",
   "execution_count": 76,
   "id": "ad046899",
   "metadata": {},
   "outputs": [
    {
     "data": {
      "text/plain": [
       "dict_keys(['課表'])"
      ]
     },
     "execution_count": 76,
     "metadata": {},
     "output_type": "execute_result"
    }
   ],
   "source": [
    "d.keys()"
   ]
  },
  {
   "cell_type": "code",
   "execution_count": 77,
   "id": "01cfaf2e",
   "metadata": {},
   "outputs": [
    {
     "data": {
      "text/plain": [
       "dict"
      ]
     },
     "execution_count": 77,
     "metadata": {},
     "output_type": "execute_result"
    }
   ],
   "source": [
    "type(d['課表'])"
   ]
  },
  {
   "cell_type": "code",
   "execution_count": 78,
   "id": "9c118a16",
   "metadata": {},
   "outputs": [],
   "source": [
    "ask = \"班級經營\""
   ]
  },
  {
   "cell_type": "code",
   "execution_count": 79,
   "id": "4fad2c7b",
   "metadata": {},
   "outputs": [
    {
     "name": "stdout",
     "output_type": "stream",
     "text": [
      "0\n"
     ]
    }
   ],
   "source": [
    "# 參考網站 https://www.w3schools.com/python/gloss_python_check_if_set_item_exists.asp\n",
    "j=0\n",
    "for n in d.items():\n",
    "    #print(n[1])\n",
    "    #print(n[1].values())\n",
    "    for i in n[1].values():\n",
    "        #print(i)\n",
    "        if ask in i:\n",
    "            print(j)\n",
    "        else:\n",
    "            j=j+1        "
   ]
  },
  {
   "cell_type": "code",
   "execution_count": null,
   "id": "9982a5eb",
   "metadata": {},
   "outputs": [],
   "source": []
  }
 ],
 "metadata": {
  "kernelspec": {
   "display_name": "Python 3 (ipykernel)",
   "language": "python",
   "name": "python3"
  },
  "language_info": {
   "codemirror_mode": {
    "name": "ipython",
    "version": 3
   },
   "file_extension": ".py",
   "mimetype": "text/x-python",
   "name": "python",
   "nbconvert_exporter": "python",
   "pygments_lexer": "ipython3",
   "version": "3.9.12"
  }
 },
 "nbformat": 4,
 "nbformat_minor": 5
}
