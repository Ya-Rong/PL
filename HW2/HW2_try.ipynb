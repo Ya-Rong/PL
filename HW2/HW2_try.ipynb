{
 "cells": [
  {
   "cell_type": "markdown",
   "id": "063fc3f7",
   "metadata": {},
   "source": [
    "使用dictionary工具，查找課表，以及課程對應學分數，亦可從中排序每日上課課程所得之學分數。"
   ]
  },
  {
   "cell_type": "code",
   "execution_count": 49,
   "id": "842ebf88",
   "metadata": {},
   "outputs": [],
   "source": [
    "d = {\n",
    "    \n",
    "'禮拜一':{'課表':{'科技英文','電腦輔助製圖','班級經營'},\n",
    "          '必修':'科技英文',\n",
    "          '選修':'電腦輔助製圖',\n",
    "          '教程':'班級經營',\n",
    "          '學分':{'科技英文':2,\n",
    "                  '電腦輔助製圖':3,\n",
    "                  '班級經營':2}},\n",
    "'禮拜二':{'課表':{'教學媒體與應用','初級韓文','20世紀動盪時局下的知識分子'},          \n",
    "          '選修':'初級韓文',\n",
    "          '教程':'教學媒體與應用',\n",
    "          '通識':'20世紀動盪時局下的知識分子',\n",
    "          '學分':{'教學媒體與應用':2,\n",
    "                  '初級韓文':2,\n",
    "                  '20世紀動盪時局下的知識分子':2}},\n",
    "'禮拜三':{'課表':{'色彩學','機構設計'},\n",
    "          '選修':{'色彩學','機構設計'},\n",
    "          '學分':{'色彩學':3,\n",
    "                  '機構設計':3}},\n",
    "'禮拜四':{'課表':{'程式語言','機械製造','輔導原理與實務'},\n",
    "          '必修':{'程式語言','機械製造'},          \n",
    "          '教程':'輔導原理與實務',\n",
    "          '學分':{'程式語言':3,\n",
    "                  '機械製造':3,\n",
    "                  '輔導原理與實務':2}},\n",
    "'禮拜五':{'課表':{'統計學','桌球初級'},\n",
    "          '必修':'桌球初級',\n",
    "          '選修':'統計學',\n",
    "          '學分':{'統計學':3,\n",
    "                  '桌球初級':2}}\n",
    "    \n",
    "    }"
   ]
  },
  {
   "cell_type": "code",
   "execution_count": 82,
   "id": "adda4b35",
   "metadata": {},
   "outputs": [],
   "source": [
    "d = {\n",
    "    \n",
    "'禮拜一':{'課表':{'科技英文':'必修',\n",
    "                 '電腦輔助製圖':'選修',\n",
    "                 '班級經營':'教程'},\n",
    "          '學分':{'科技英文':2,\n",
    "                  '電腦輔助製圖':3,\n",
    "                  '班級經營':2}},\n",
    "'禮拜二':{'課表':{'教學媒體與應用':'教程',\n",
    "                 '初級韓文':'選修',\n",
    "                 '20世紀動盪時局下的知識分子':'通識'},\n",
    "          '學分':{'教學媒體與應用':2,\n",
    "                  '初級韓文':2,\n",
    "                  '20世紀動盪時局下的知識分子':2}},\n",
    "'禮拜三':{'課表':{'色彩學':'選修',\n",
    "                 '機構設計':'選修'},\n",
    "          '學分':{'色彩學':3,\n",
    "                  '機構設計':3}},\n",
    "'禮拜四':{'課表':{'程式語言':'必修',\n",
    "                 '機械製造':'必修',\n",
    "                 '輔導原理與實務':'教程'},\n",
    "          '學分':{'程式語言':3,\n",
    "                  '機械製造':3,\n",
    "                  '輔導原理與實務':2}},\n",
    "'禮拜五':{'課表':{'統計學':'必修',\n",
    "                 '桌球初級':'選修'},\n",
    "          '學分':{'統計學':3,\n",
    "                  '桌球初級':2}}\n",
    "    \n",
    "    }"
   ]
  },
  {
   "cell_type": "code",
   "execution_count": 83,
   "id": "9b8aea2f",
   "metadata": {},
   "outputs": [
    {
     "name": "stdout",
     "output_type": "stream",
     "text": [
      "{'禮拜一': {'課表': {'科技英文': '必修', '電腦輔助製圖': '選修', '班級經營': '教程'}, '學分': {'科技英文': 2, '電腦輔助製圖': 3, '班級經營': 2}}, '禮拜二': {'課表': {'教學媒體與應用': '教程', '初級韓文': '選修', '20世紀動盪時局下的知識分子': '通識'}, '學分': {'教學媒體與應用': 2, '初級韓文': 2, '20世紀動盪時局下的知識分子': 2}}, '禮拜三': {'課表': {'色彩學': '選修', '機構設計': '選修'}, '學分': {'色彩學': 3, '機構設計': 3}}, '禮拜四': {'課表': {'程式語言': '必修', '機械製造': '必修', '輔導原理與實務': '教程'}, '學分': {'程式語言': 3, '機械製造': 3, '輔導原理與實務': 2}}, '禮拜五': {'課表': {'統計學': '必修', '桌球初級': '選修'}, '學分': {'統計學': 3, '桌球初級': 2}}}\n"
     ]
    }
   ],
   "source": [
    "#可輸出dictionary內所有內容\n",
    "print(d)"
   ]
  },
  {
   "cell_type": "code",
   "execution_count": 84,
   "id": "7a154aa5",
   "metadata": {},
   "outputs": [
    {
     "name": "stdout",
     "output_type": "stream",
     "text": [
      "dict_keys(['禮拜一', '禮拜二', '禮拜三', '禮拜四', '禮拜五'])\n"
     ]
    }
   ],
   "source": [
    "#可以看到程式印出此字典包含的所有 key ，以了解這個字典裡面有哪些鍵(key)值\n",
    "print(d.keys())"
   ]
  },
  {
   "cell_type": "code",
   "execution_count": 85,
   "id": "1904c575",
   "metadata": {},
   "outputs": [
    {
     "name": "stdout",
     "output_type": "stream",
     "text": [
      "dict_values([{'課表': {'科技英文': '必修', '電腦輔助製圖': '選修', '班級經營': '教程'}, '學分': {'科技英文': 2, '電腦輔助製圖': 3, '班級經營': 2}}, {'課表': {'教學媒體與應用': '教程', '初級韓文': '選修', '20世紀動盪時局下的知識分子': '通識'}, '學分': {'教學媒體與應用': 2, '初級韓文': 2, '20世紀動盪時局下的知識分子': 2}}, {'課表': {'色彩學': '選修', '機構設計': '選修'}, '學分': {'色彩學': 3, '機構設計': 3}}, {'課表': {'程式語言': '必修', '機械製造': '必修', '輔導原理與實務': '教程'}, '學分': {'程式語言': 3, '機械製造': 3, '輔導原理與實務': 2}}, {'課表': {'統計學': '必修', '桌球初級': '選修'}, '學分': {'統計學': 3, '桌球初級': 2}}])\n"
     ]
    }
   ],
   "source": [
    "#可以看到程式印出這個字典中所包含的值(value)\n",
    "print(d.values())"
   ]
  },
  {
   "cell_type": "code",
   "execution_count": 86,
   "id": "1a5f28c2",
   "metadata": {},
   "outputs": [
    {
     "name": "stdout",
     "output_type": "stream",
     "text": [
      "dict_items([('禮拜一', {'課表': {'科技英文': '必修', '電腦輔助製圖': '選修', '班級經營': '教程'}, '學分': {'科技英文': 2, '電腦輔助製圖': 3, '班級經營': 2}}), ('禮拜二', {'課表': {'教學媒體與應用': '教程', '初級韓文': '選修', '20世紀動盪時局下的知識分子': '通識'}, '學分': {'教學媒體與應用': 2, '初級韓文': 2, '20世紀動盪時局下的知識分子': 2}}), ('禮拜三', {'課表': {'色彩學': '選修', '機構設計': '選修'}, '學分': {'色彩學': 3, '機構設計': 3}}), ('禮拜四', {'課表': {'程式語言': '必修', '機械製造': '必修', '輔導原理與實務': '教程'}, '學分': {'程式語言': 3, '機械製造': 3, '輔導原理與實務': 2}}), ('禮拜五', {'課表': {'統計學': '必修', '桌球初級': '選修'}, '學分': {'統計學': 3, '桌球初級': 2}})])\n"
     ]
    }
   ],
   "source": [
    "#可以同時印出這個字典的key與value\n",
    "print(d.items())\n",
    "#將d裡面的內容(items)顯示出來\n",
    "#d.items() #相同用法"
   ]
  },
  {
   "cell_type": "code",
   "execution_count": 87,
   "id": "4def32bb",
   "metadata": {},
   "outputs": [
    {
     "name": "stdout",
     "output_type": "stream",
     "text": [
      "{'課表': {'科技英文': '必修', '電腦輔助製圖': '選修', '班級經營': '教程'}, '學分': {'科技英文': 2, '電腦輔助製圖': 3, '班級經營': 2}}\n"
     ]
    }
   ],
   "source": [
    "#若想知道dictionary裡面xx資料，就使用 d['xx'] (d為dictionary的名字)來透過 key 取得這個 key 所對應的值 (value)\n",
    "print(d['禮拜一'])"
   ]
  },
  {
   "cell_type": "code",
   "execution_count": 88,
   "id": "9e9400d2",
   "metadata": {},
   "outputs": [
    {
     "name": "stdout",
     "output_type": "stream",
     "text": [
      "{'課表': {'科技英文': '必修', '電腦輔助製圖': '選修', '班級經營': '教程'}, '學分': {'科技英文': 2, '電腦輔助製圖': 3, '班級經營': 2}}\n",
      "{'課表': {'教學媒體與應用': '教程', '初級韓文': '選修', '20世紀動盪時局下的知識分子': '通識'}, '學分': {'教學媒體與應用': 2, '初級韓文': 2, '20世紀動盪時局下的知識分子': 2}}\n",
      "{'課表': {'色彩學': '選修', '機構設計': '選修'}, '學分': {'色彩學': 3, '機構設計': 3}}\n",
      "{'課表': {'程式語言': '必修', '機械製造': '必修', '輔導原理與實務': '教程'}, '學分': {'程式語言': 3, '機械製造': 3, '輔導原理與實務': 2}}\n",
      "{'課表': {'統計學': '必修', '桌球初級': '選修'}, '學分': {'統計學': 3, '桌球初級': 2}}\n"
     ]
    }
   ],
   "source": [
    "#可找出dictionary中第1階的資料，若[]內改成0，則可查詢第0階資料\n",
    "for n in d.items():\n",
    "    print(n[1])"
   ]
  },
  {
   "cell_type": "code",
   "execution_count": 89,
   "id": "b53284cc",
   "metadata": {},
   "outputs": [],
   "source": [
    "#定義quantity()函數，計算課程數及課程名稱\n",
    "def quantity(dict_table): \n",
    "    number = len(dict_table['課表']) \n",
    "    #len()函式用來計算dict課表共有幾個key\n",
    "    content = []\n",
    "    for i in dict_table['課表']: #for busy in dict_table['課表'].items:\n",
    "        busy = (i,dict_table['課表'][i]) #用 .items 這行就可以不用\n",
    "        content.append(busy)\n",
    "    return number, content"
   ]
  },
  {
   "cell_type": "code",
   "execution_count": 90,
   "id": "5bf88c7b",
   "metadata": {},
   "outputs": [],
   "source": [
    "#定義credit()函數，計算學分數及課程名稱\n",
    "def credit(dict_table): \n",
    "    sum = 0\n",
    "    content = []\n",
    "    for i in dict_table['學分']: #for key, value in dict_table['學分'].items:\n",
    "        busy = (i,dict_table['學分'][i]) #busy = (key, value)\n",
    "        content.append(busy)\n",
    "        sum += dict_table['學分'][i] #sum += value\n",
    "    return sum, content"
   ]
  },
  {
   "cell_type": "code",
   "execution_count": 91,
   "id": "611da26b",
   "metadata": {},
   "outputs": [
    {
     "name": "stdout",
     "output_type": "stream",
     "text": [
      "(3, [('科技英文', '必修'), ('電腦輔助製圖', '選修'), ('班級經營', '教程')])\n",
      "(7, [('科技英文', 2), ('電腦輔助製圖', 3), ('班級經營', 2)])\n",
      "(3, [('教學媒體與應用', '教程'), ('初級韓文', '選修'), ('20世紀動盪時局下的知識分子', '通識')])\n",
      "(6, [('教學媒體與應用', 2), ('初級韓文', 2), ('20世紀動盪時局下的知識分子', 2)])\n",
      "(2, [('色彩學', '選修'), ('機構設計', '選修')])\n",
      "(6, [('色彩學', 3), ('機構設計', 3)])\n",
      "(3, [('程式語言', '必修'), ('機械製造', '必修'), ('輔導原理與實務', '教程')])\n",
      "(8, [('程式語言', 3), ('機械製造', 3), ('輔導原理與實務', 2)])\n",
      "(2, [('統計學', '必修'), ('桌球初級', '選修')])\n",
      "(5, [('統計學', 3), ('桌球初級', 2)])\n"
     ]
    }
   ],
   "source": [
    "#quantity可以得知每天修幾門課\n",
    "#credit可以得知每天修的課有幾學分\n",
    "for n in d.items():\n",
    "    a = quantity(n[1])\n",
    "    print(a)\n",
    "    b = credit(n[1])\n",
    "    print(b)"
   ]
  },
  {
   "cell_type": "code",
   "execution_count": 92,
   "id": "f1734f27",
   "metadata": {},
   "outputs": [],
   "source": [
    "ranking_q = []\n",
    "ranking_c = []\n",
    "for i in d.items():\n",
    "    #print(i[1])\n",
    "    person_quantity_num, person_quantity_content = quantity(i[1])\n",
    "    person_credit_sum, person_credit_content = credit(i[1])\n",
    "    ranking_q.append(person_quantity_num)\n",
    "    ranking_c.append(person_credit_sum)"
   ]
  },
  {
   "cell_type": "code",
   "execution_count": 93,
   "id": "dfa29eb0",
   "metadata": {},
   "outputs": [
    {
     "data": {
      "text/plain": [
       "[3, 3, 2, 3, 2]"
      ]
     },
     "execution_count": 93,
     "metadata": {},
     "output_type": "execute_result"
    }
   ],
   "source": [
    "ranking_q"
   ]
  },
  {
   "cell_type": "code",
   "execution_count": 94,
   "id": "cee155de",
   "metadata": {},
   "outputs": [
    {
     "data": {
      "text/plain": [
       "[7, 6, 6, 8, 5]"
      ]
     },
     "execution_count": 94,
     "metadata": {},
     "output_type": "execute_result"
    }
   ],
   "source": [
    "ranking_c"
   ]
  },
  {
   "cell_type": "code",
   "execution_count": 95,
   "id": "79c00a53",
   "metadata": {},
   "outputs": [],
   "source": [
    "#輸出索引(enumerate函式可用來輸出索引內容)\n",
    "#參考網站 https://clay-atlas.com/blog/2019/11/08/python-chinese-function-enumerate/\n",
    "ranking_q_enumerate = enumerate(ranking_q, start = 1)\n",
    "ranking_c_enumerate = enumerate(ranking_c, start = 1)"
   ]
  },
  {
   "cell_type": "code",
   "execution_count": 96,
   "id": "1027e09e",
   "metadata": {},
   "outputs": [],
   "source": [
    "#進行排名\n",
    "ranking_q_enumerate_sorted = sorted(ranking_q_enumerate, key = lambda s: s[1], reverse = True)\n",
    "ranking_c_enumerate_sorted = sorted(ranking_c_enumerate, key = lambda s: s[1], reverse = True) "
   ]
  },
  {
   "cell_type": "code",
   "execution_count": 97,
   "id": "f071becf",
   "metadata": {},
   "outputs": [
    {
     "data": {
      "text/plain": [
       "[(1, 3), (2, 3), (4, 3), (3, 2), (5, 2)]"
      ]
     },
     "execution_count": 97,
     "metadata": {},
     "output_type": "execute_result"
    }
   ],
   "source": [
    "ranking_q_enumerate_sorted"
   ]
  },
  {
   "cell_type": "code",
   "execution_count": 98,
   "id": "3a4c21df",
   "metadata": {},
   "outputs": [
    {
     "data": {
      "text/plain": [
       "[(4, 8), (1, 7), (2, 6), (3, 6), (5, 5)]"
      ]
     },
     "execution_count": 98,
     "metadata": {},
     "output_type": "execute_result"
    }
   ],
   "source": [
    "ranking_c_enumerate_sorted"
   ]
  },
  {
   "cell_type": "code",
   "execution_count": null,
   "id": "b8b33b14",
   "metadata": {},
   "outputs": [],
   "source": []
  },
  {
   "cell_type": "code",
   "execution_count": 7,
   "id": "b2ab2ed7",
   "metadata": {},
   "outputs": [
    {
     "name": "stdout",
     "output_type": "stream",
     "text": [
      "請輸入想查詢課表的日期(ex.禮拜一)：禮拜二\n"
     ]
    }
   ],
   "source": [
    "#查詢\n",
    "#s = input(\"請輸入想查詢課表的日期(ex.禮拜一)：\")"
   ]
  },
  {
   "cell_type": "code",
   "execution_count": 34,
   "id": "b2ab33a9",
   "metadata": {},
   "outputs": [
    {
     "ename": "SyntaxError",
     "evalue": "invalid syntax (467976434.py, line 2)",
     "output_type": "error",
     "traceback": [
      "\u001b[1;36m  Input \u001b[1;32mIn [34]\u001b[1;36m\u001b[0m\n\u001b[1;33m    if s == a\u001b[0m\n\u001b[1;37m             ^\u001b[0m\n\u001b[1;31mSyntaxError\u001b[0m\u001b[1;31m:\u001b[0m invalid syntax\n"
     ]
    }
   ],
   "source": [
    "#for s in d.items():\n",
    " #   if s == a\n",
    "  #  print(a[1])"
   ]
  },
  {
   "cell_type": "code",
   "execution_count": null,
   "id": "004e90a4",
   "metadata": {},
   "outputs": [],
   "source": [
    "#排序"
   ]
  },
  {
   "cell_type": "code",
   "execution_count": null,
   "id": "172467d0",
   "metadata": {},
   "outputs": [],
   "source": []
  },
  {
   "cell_type": "code",
   "execution_count": null,
   "id": "8fd80ce5",
   "metadata": {},
   "outputs": [],
   "source": []
  },
  {
   "cell_type": "code",
   "execution_count": null,
   "id": "1f0ee9a5",
   "metadata": {},
   "outputs": [],
   "source": [
    "#定義guilt()函數，計算罪責數和處存罪責內容\n",
    "def guilt(dict_name): #name可以隨便取(以老師範例，可能是罪責的名字，跟dictionary裡面的name意思不一樣)\n",
    "    number = len(dict_name['罪責']) \n",
    "    #函式len()用於傳回字典(dictionary)中包含幾個元素，用來計算字典中的元素(key)個數\n",
    "    #len()函式用來計算dict罪責共有幾個key\n",
    "    content = []#把content定義成[]\n",
    "    for i in dict_name['罪責']: #for crime in dict_name['罪責'].items:\n",
    "        crime = (i,dict_name['罪責'][i]) #用 .items 這行就可以不用\n",
    "        content.append(crime)\n",
    "    return number, content"
   ]
  },
  {
   "cell_type": "code",
   "execution_count": null,
   "id": "3f3ee70a",
   "metadata": {},
   "outputs": [],
   "source": [
    "# 參考網站 \n",
    "#https://medium.com/ccclub/ccclub-python-for-beginners-tutorial-533b8d8d96f3\n",
    "#https://github.com/pecu/PL/blob/main/Python03.ipynb\n",
    "#https://github.com/pecu/PL/blob/main/HW2.ipynb"
   ]
  },
  {
   "cell_type": "code",
   "execution_count": null,
   "id": "0858bd1b",
   "metadata": {},
   "outputs": [],
   "source": [
    "#JSON編輯網站\n",
    "#https://jsoncrack.com/editor"
   ]
  },
  {
   "cell_type": "code",
   "execution_count": null,
   "id": "1dbedf86",
   "metadata": {},
   "outputs": [],
   "source": [
    "#JSON格式\n",
    "#https://reurl.cc/MNp79v\n",
    "#1\n",
    "{\n",
    "  \"課程\": [\n",
    "    {\n",
    "      \"禮拜一\": {\n",
    "        \"課表\": [\n",
    "          \"科技英文\",\n",
    "          \"電腦輔助製圖\",\n",
    "          \"班級經營\"\n",
    "        ],\n",
    "        \"必修\": [\n",
    "          \"科技英文\"\n",
    "        ],\n",
    "        \"選修\": [\n",
    "          \"電腦輔助製圖\"\n",
    "        ],\n",
    "        \"教程\": [\n",
    "          \"班級經營\"\n",
    "        ],\n",
    "        \"學分\": [\n",
    "          {\n",
    "            \"科技英文\": 2,\n",
    "            \"電腦輔助製圖\": 3,\n",
    "            \"班級經營\": 2\n",
    "          }\n",
    "        ]\n",
    "      },\n",
    "      \"禮拜二\": {\n",
    "        \"課表\": [\n",
    "          \"教學媒體與應用\",\n",
    "          \"初級韓文\",\n",
    "          \"20世紀動盪時局下的知識分子\"\n",
    "        ],\n",
    "        \"選修\": [\n",
    "          \"初級韓文\"\n",
    "        ],\n",
    "        \"教程\": [\n",
    "          \"教學媒體與應用\"\n",
    "        ],\n",
    "        \"通識\": [\n",
    "          \"20世紀動盪時局下的知識分子\"\n",
    "        ],\n",
    "        \"學分\": [\n",
    "          {\n",
    "            \"教學媒體與應用\": 2,\n",
    "            \"初級韓文\": 2,\n",
    "            \"20世紀動盪時局下的知識分子\": 2\n",
    "          }\n",
    "        ]\n",
    "      },\n",
    "      \"禮拜三\": {\n",
    "        \"課表\": [\n",
    "          \"色彩學\",\n",
    "          \"機構設計\"\n",
    "        ],\n",
    "        \"選修\": [\n",
    "          \"色彩學\",\n",
    "          \"機構設計\"\n",
    "        ],\n",
    "        \"學分\": [\n",
    "          {\n",
    "            \"色彩學\": 3,\n",
    "            \"機構設計\": 3\n",
    "          }\n",
    "        ]\n",
    "      },\n",
    "      \"禮拜四\": {\n",
    "        \"課表\": [\n",
    "          \"程式語言\",\n",
    "          \"機械製造\",\n",
    "          \"輔導原理與實務\"\n",
    "        ],\n",
    "        \"必修\": [\n",
    "          \"程式語言\",\n",
    "          \"機械製造\"\n",
    "        ],\n",
    "        \"教程\": [\n",
    "          \"輔導原理與實務\"\n",
    "        ],\n",
    "        \"學分\": [\n",
    "          {\n",
    "            \"程式語言\": 3,\n",
    "            \"機械製造\": 3,\n",
    "            \"輔導原理與實務\": 2\n",
    "          }\n",
    "        ]\n",
    "      },\n",
    "      \"禮拜五\": {\n",
    "        \"課表\": [\n",
    "          \"統計學\",\n",
    "          \"桌球初級\"\n",
    "        ],\n",
    "        \"必修\": [\n",
    "          \"桌球初級\"\n",
    "        ],\n",
    "        \"選修\": [\n",
    "          \"統計學\"\n",
    "        ],\n",
    "        \"學分\": [\n",
    "          {\n",
    "            \"統計學\": 3,\n",
    "            \"桌球初級\": 1\n",
    "          }\n",
    "        ]\n",
    "      }\n",
    "    }\n",
    "  ]\n",
    "}\n",
    "\n",
    "#2\n",
    "#https://reurl.cc/GE94ZZ\n",
    "{\n",
    "  \"課程\": [\n",
    "    {\n",
    "      \"禮拜一\": {\n",
    "        \"課表\": [\n",
    "          {\n",
    "            \"科技英文\": \"必修\",\n",
    "            \"電腦輔助製圖\": \"選修\",\n",
    "            \"班級經營\": \"教程\"\n",
    "          }\n",
    "        ],\n",
    "        \"學分\": [\n",
    "          {\n",
    "            \"科技英文\": 2,\n",
    "            \"電腦輔助製圖\": 3,\n",
    "            \"班級經營\": 2\n",
    "          }\n",
    "        ]\n",
    "      },\n",
    "      \"禮拜二\": {\n",
    "        \"課表\": [\n",
    "          {\n",
    "            \"教學媒體與應用\": \"教程\",\n",
    "            \"初級韓文\": \"選修\",\n",
    "            \"20世紀動盪時局下的知識分子\": \"通識\"\n",
    "          }\n",
    "        ],\n",
    "        \"學分\": [\n",
    "          {\n",
    "            \"教學媒體與應用\": 2,\n",
    "            \"初級韓文\": 2,\n",
    "            \"20世紀動盪時局下的知識分子\": 2\n",
    "          }\n",
    "        ]\n",
    "      },\n",
    "      \"禮拜三\": {\n",
    "        \"課表\": [\n",
    "          {\n",
    "            \"色彩學\": \"選修\",\n",
    "            \"機構設計\": \"選修\"\n",
    "          }\n",
    "        ],\n",
    "        \"學分\": [\n",
    "          {\n",
    "            \"色彩學\": 3,\n",
    "            \"機構設計\": 3\n",
    "          }\n",
    "        ]\n",
    "      },\n",
    "      \"禮拜四\": {\n",
    "        \"課表\": [\n",
    "          {\n",
    "            \"程式語言\": \"必修\",\n",
    "            \"機械製造\": \"必修\",\n",
    "            \"輔導原理與實務\": \"教程\"\n",
    "          }\n",
    "        ],\n",
    "        \"學分\": [\n",
    "          {\n",
    "            \"程式語言\": 3,\n",
    "            \"機械製造\": 3,\n",
    "            \"輔導原理與實務\": 2\n",
    "          }\n",
    "        ]\n",
    "      },\n",
    "      \"禮拜五\": {\n",
    "        \"課表\": [\n",
    "          {\n",
    "            \"統計學\": \"選修\",\n",
    "            \"桌球初級\": \"必修\"\n",
    "          }\n",
    "        ],\n",
    "        \"學分\": [\n",
    "          {\n",
    "            \"統計學\": 3,\n",
    "            \"桌球初級\": 1\n",
    "          }\n",
    "        ]\n",
    "      }\n",
    "    }\n",
    "  ]\n",
    "}"
   ]
  }
 ],
 "metadata": {
  "kernelspec": {
   "display_name": "Python 3 (ipykernel)",
   "language": "python",
   "name": "python3"
  },
  "language_info": {
   "codemirror_mode": {
    "name": "ipython",
    "version": 3
   },
   "file_extension": ".py",
   "mimetype": "text/x-python",
   "name": "python",
   "nbconvert_exporter": "python",
   "pygments_lexer": "ipython3",
   "version": "3.9.12"
  }
 },
 "nbformat": 4,
 "nbformat_minor": 5
}
