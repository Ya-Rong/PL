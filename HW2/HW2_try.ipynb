{
 "cells": [
  {
   "cell_type": "code",
   "execution_count": 2,
   "id": "842ebf88",
   "metadata": {},
   "outputs": [],
   "source": [
    "d = {\n",
    "    \n",
    "'禮拜一':{'課表':{'科技英文','電腦輔助製圖','班級經營'},\n",
    "          '必修':'科技英文',\n",
    "          '選修':'電腦輔助製圖',\n",
    "          '教程':'班級經營',\n",
    "          '學分':{'科技英文':2,\n",
    "                  '電腦輔助製圖':3,\n",
    "                  '班級經營':2}},\n",
    "'禮拜二':{'課表':{'教學媒體與應用','初級韓文','20世紀動盪時局下的知識分子'},          \n",
    "          '選修':'初級韓文',\n",
    "          '教程':'教學媒體與應用',\n",
    "          '通識':'20世紀動盪時局下的知識分子',\n",
    "          '學分':{'教學媒體與應用':2,\n",
    "                  '初級韓文':2,\n",
    "                  '20世紀動盪時局下的知識分子':2}},\n",
    "'禮拜三':{'課表':{'色彩學','機構設計'},\n",
    "          '選修':{'色彩學','機構設計'},\n",
    "          '學分':{'色彩學':3,\n",
    "                  '機構設計':3}},\n",
    "'禮拜四':{'課表':{'程式語言','機械製造','輔導原理與實務'},\n",
    "          '必修':{'程式語言','機械製造'},          \n",
    "          '教程':'輔導原理與實務',\n",
    "          '學分':{'程式語言':3,\n",
    "                  '機械製造':3,\n",
    "                  '輔導原理與實務':2}},\n",
    "'禮拜五':{'課表':{'統計學','桌球初級'},\n",
    "          '必修':'桌球初級',\n",
    "          '選修':'統計學',\n",
    "          '學分':{'統計學':3,\n",
    "                  '桌球初級':2}}\n",
    "    \n",
    "    }"
   ]
  },
  {
   "cell_type": "code",
   "execution_count": 3,
   "id": "9b8aea2f",
   "metadata": {},
   "outputs": [
    {
     "name": "stdout",
     "output_type": "stream",
     "text": [
      "{'禮拜一': {'課表': {'電腦輔助製圖', '班級經營', '科技英文'}, '必修': '科技英文', '選修': '電腦輔助製圖', '教程': '班級經營', '學分': {'科技英文': 2, '電腦輔助製圖': 3, '班級經營': 2}}, '禮拜二': {'課表': {'20世紀動盪時局下的知識分子', '教學媒體與應用', '初級韓文'}, '選修': '初級韓文', '教程': '教學媒體與應用', '通識': '20世紀動盪時局下的知識分子', '學分': {'教學媒體與應用': 2, '初級韓文': 2, '20世紀動盪時局下的知識分子': 2}}, '禮拜三': {'課表': {'色彩學', '機構設計'}, '選修': {'色彩學', '機構設計'}, '學分': {'色彩學': 3, '機構設計': 3}}, '禮拜四': {'課表': {'機械製造', '程式語言', '輔導原理與實務'}, '必修': {'機械製造', '程式語言'}, '教程': '輔導原理與實務', '學分': {'程式語言': 3, '機械製造': 3, '輔導原理與實務': 2}}, '禮拜五': {'課表': {'統計學', '桌球初級'}, '必修': '桌球初級', '選修': '統計學', '學分': {'統計學': 3, '桌球初級': 2}}}\n"
     ]
    }
   ],
   "source": [
    "#可輸出dictionary內所有內容\n",
    "print(d)"
   ]
  },
  {
   "cell_type": "code",
   "execution_count": 4,
   "id": "7a154aa5",
   "metadata": {},
   "outputs": [
    {
     "name": "stdout",
     "output_type": "stream",
     "text": [
      "dict_keys(['禮拜一', '禮拜二', '禮拜三', '禮拜四', '禮拜五'])\n"
     ]
    }
   ],
   "source": [
    "#可以看到程式印出此字典包含的所有 key ，以了解這個字典裡面有哪些鍵(key)值\n",
    "print(d.keys())"
   ]
  },
  {
   "cell_type": "code",
   "execution_count": 5,
   "id": "1904c575",
   "metadata": {},
   "outputs": [
    {
     "name": "stdout",
     "output_type": "stream",
     "text": [
      "dict_values([{'課表': {'電腦輔助製圖', '班級經營', '科技英文'}, '必修': '科技英文', '選修': '電腦輔助製圖', '教程': '班級經營', '學分': {'科技英文': 2, '電腦輔助製圖': 3, '班級經營': 2}}, {'課表': {'20世紀動盪時局下的知識分子', '教學媒體與應用', '初級韓文'}, '選修': '初級韓文', '教程': '教學媒體與應用', '通識': '20世紀動盪時局下的知識分子', '學分': {'教學媒體與應用': 2, '初級韓文': 2, '20世紀動盪時局下的知識分子': 2}}, {'課表': {'色彩學', '機構設計'}, '選修': {'色彩學', '機構設計'}, '學分': {'色彩學': 3, '機構設計': 3}}, {'課表': {'機械製造', '程式語言', '輔導原理與實務'}, '必修': {'機械製造', '程式語言'}, '教程': '輔導原理與實務', '學分': {'程式語言': 3, '機械製造': 3, '輔導原理與實務': 2}}, {'課表': {'統計學', '桌球初級'}, '必修': '桌球初級', '選修': '統計學', '學分': {'統計學': 3, '桌球初級': 2}}])\n"
     ]
    }
   ],
   "source": [
    "#可以看到程式印出這個字典中所包含的值(value)\n",
    "print(d.values())"
   ]
  },
  {
   "cell_type": "code",
   "execution_count": 6,
   "id": "1a5f28c2",
   "metadata": {},
   "outputs": [
    {
     "name": "stdout",
     "output_type": "stream",
     "text": [
      "dict_items([('禮拜一', {'課表': {'電腦輔助製圖', '班級經營', '科技英文'}, '必修': '科技英文', '選修': '電腦輔助製圖', '教程': '班級經營', '學分': {'科技英文': 2, '電腦輔助製圖': 3, '班級經營': 2}}), ('禮拜二', {'課表': {'20世紀動盪時局下的知識分子', '教學媒體與應用', '初級韓文'}, '選修': '初級韓文', '教程': '教學媒體與應用', '通識': '20世紀動盪時局下的知識分子', '學分': {'教學媒體與應用': 2, '初級韓文': 2, '20世紀動盪時局下的知識分子': 2}}), ('禮拜三', {'課表': {'色彩學', '機構設計'}, '選修': {'色彩學', '機構設計'}, '學分': {'色彩學': 3, '機構設計': 3}}), ('禮拜四', {'課表': {'機械製造', '程式語言', '輔導原理與實務'}, '必修': {'機械製造', '程式語言'}, '教程': '輔導原理與實務', '學分': {'程式語言': 3, '機械製造': 3, '輔導原理與實務': 2}}), ('禮拜五', {'課表': {'統計學', '桌球初級'}, '必修': '桌球初級', '選修': '統計學', '學分': {'統計學': 3, '桌球初級': 2}})])\n"
     ]
    }
   ],
   "source": [
    "#可以同時印出這個字典的key與value\n",
    "print(d.items())\n",
    "#將d裡面的內容(items)顯示出來\n",
    "#d.items() #相同用法"
   ]
  },
  {
   "cell_type": "code",
   "execution_count": 7,
   "id": "4def32bb",
   "metadata": {},
   "outputs": [
    {
     "name": "stdout",
     "output_type": "stream",
     "text": [
      "{'課表': {'電腦輔助製圖', '班級經營', '科技英文'}, '必修': '科技英文', '選修': '電腦輔助製圖', '教程': '班級經營', '學分': {'科技英文': 2, '電腦輔助製圖': 3, '班級經營': 2}}\n"
     ]
    }
   ],
   "source": [
    "#若想知道dictionary裡面xx資料，就使用 d['xx'] (d為dictionary的名字)來透過 key 取得這個 key 所對應的值 (value)\n",
    "print(d['禮拜一'])"
   ]
  },
  {
   "cell_type": "code",
   "execution_count": 8,
   "id": "168e074b",
   "metadata": {},
   "outputs": [],
   "source": [
    "#定義quantity()函數，計算每天科目數 和處存罪責內容\n",
    "def quantity(dict_name): \n",
    "    number = len(dict_name['課表']) #函式len()用於傳回字典(dictionary)中包含幾個元素，用來計算字典中的元素(key)個數\n",
    "    content = []\n",
    "    for i in dict_name['課表']: #for classes in dict_name['科目'].items: 這邊也不知意思\n",
    "        classes = (i,dict_name['課表'][i]) #用 .items 這行就可以不用 為啥\n",
    "        content.append(classes)\n",
    "    return number, content"
   ]
  },
  {
   "cell_type": "code",
   "execution_count": 9,
   "id": "19792148",
   "metadata": {},
   "outputs": [],
   "source": [
    "#定義credit()函數，計算總學分數    和處存罰鍰內容 我該怎麼改咧\n",
    "def credit(dict_name): \n",
    "    sum = 0\n",
    "    content = []\n",
    "    for i in dict_name['學分']: #for key, value in dict_name['罰鍰'].items:\n",
    "        classes = (i,dict_name['學分'][i]) #credit = (key, value)\n",
    "        content.append(classes)\n",
    "        sum += dict_name['學分'][i] #sum += value\n",
    "    return sum, content"
   ]
  },
  {
   "cell_type": "code",
   "execution_count": 10,
   "id": "bd5bbbc1",
   "metadata": {},
   "outputs": [
    {
     "ename": "TypeError",
     "evalue": "'set' object is not subscriptable",
     "output_type": "error",
     "traceback": [
      "\u001b[1;31m---------------------------------------------------------------------------\u001b[0m",
      "\u001b[1;31mTypeError\u001b[0m                                 Traceback (most recent call last)",
      "Input \u001b[1;32mIn [10]\u001b[0m, in \u001b[0;36m<cell line: 3>\u001b[1;34m()\u001b[0m\n\u001b[0;32m      2\u001b[0m ranking_c \u001b[38;5;241m=\u001b[39m [] \u001b[38;5;66;03m#credit 學分數\u001b[39;00m\n\u001b[0;32m      3\u001b[0m \u001b[38;5;28;01mfor\u001b[39;00m i \u001b[38;5;129;01min\u001b[39;00m d\u001b[38;5;241m.\u001b[39mitems():\n\u001b[0;32m      4\u001b[0m     \u001b[38;5;66;03m#print(i[1])\u001b[39;00m\n\u001b[1;32m----> 5\u001b[0m     person_quantity_num, person_quantity_content \u001b[38;5;241m=\u001b[39m \u001b[43mquantity\u001b[49m\u001b[43m(\u001b[49m\u001b[43mi\u001b[49m\u001b[43m[\u001b[49m\u001b[38;5;241;43m1\u001b[39;49m\u001b[43m]\u001b[49m\u001b[43m)\u001b[49m\n\u001b[0;32m      6\u001b[0m     person_credit_sum, person_credit_content \u001b[38;5;241m=\u001b[39m credit(i[\u001b[38;5;241m1\u001b[39m])\n\u001b[0;32m      7\u001b[0m     ranking_q\u001b[38;5;241m.\u001b[39mappend(person_quantity_num)\n",
      "Input \u001b[1;32mIn [8]\u001b[0m, in \u001b[0;36mquantity\u001b[1;34m(dict_name)\u001b[0m\n\u001b[0;32m      4\u001b[0m content \u001b[38;5;241m=\u001b[39m []\n\u001b[0;32m      5\u001b[0m \u001b[38;5;28;01mfor\u001b[39;00m i \u001b[38;5;129;01min\u001b[39;00m dict_name[\u001b[38;5;124m'\u001b[39m\u001b[38;5;124m課表\u001b[39m\u001b[38;5;124m'\u001b[39m]: \u001b[38;5;66;03m#for classes in dict_name['科目'].items: 這邊也不知意思\u001b[39;00m\n\u001b[1;32m----> 6\u001b[0m     classes \u001b[38;5;241m=\u001b[39m (i,\u001b[43mdict_name\u001b[49m\u001b[43m[\u001b[49m\u001b[38;5;124;43m'\u001b[39;49m\u001b[38;5;124;43m課表\u001b[39;49m\u001b[38;5;124;43m'\u001b[39;49m\u001b[43m]\u001b[49m\u001b[43m[\u001b[49m\u001b[43mi\u001b[49m\u001b[43m]\u001b[49m) \u001b[38;5;66;03m#用 .items 這行就可以不用 為啥\u001b[39;00m\n\u001b[0;32m      7\u001b[0m     content\u001b[38;5;241m.\u001b[39mappend(classes)\n\u001b[0;32m      8\u001b[0m \u001b[38;5;28;01mreturn\u001b[39;00m number, content\n",
      "\u001b[1;31mTypeError\u001b[0m: 'set' object is not subscriptable"
     ]
    }
   ],
   "source": [
    "ranking_q = [] #classes 幾節課\n",
    "ranking_c = [] #credit 學分數\n",
    "for i in d.items():\n",
    "    #print(i[1])\n",
    "    person_quantity_num, person_quantity_content = quantity(i[1])\n",
    "    person_credit_sum, person_credit_content = credit(i[1])\n",
    "    ranking_q.append(person_quantity_num)\n",
    "    ranking_c.append(person_credit_sum)"
   ]
  },
  {
   "cell_type": "code",
   "execution_count": 11,
   "id": "a1b461aa",
   "metadata": {},
   "outputs": [
    {
     "data": {
      "text/plain": [
       "[]"
      ]
     },
     "execution_count": 11,
     "metadata": {},
     "output_type": "execute_result"
    }
   ],
   "source": [
    "ranking_q"
   ]
  },
  {
   "cell_type": "code",
   "execution_count": 12,
   "id": "c5f1e9e8",
   "metadata": {},
   "outputs": [
    {
     "data": {
      "text/plain": [
       "[]"
      ]
     },
     "execution_count": 12,
     "metadata": {},
     "output_type": "execute_result"
    }
   ],
   "source": [
    "ranking_c"
   ]
  },
  {
   "cell_type": "code",
   "execution_count": 13,
   "id": "0591f8ed",
   "metadata": {},
   "outputs": [],
   "source": [
    "ranking_q_enumerate = enumerate(ranking_q, start = 1)\n",
    "ranking_c_enumerate = enumerate(ranking_c, start = 1)"
   ]
  },
  {
   "cell_type": "code",
   "execution_count": 14,
   "id": "39cbb973",
   "metadata": {},
   "outputs": [],
   "source": [
    "#進行排名\n",
    "ranking_q_enumerate_sorted = sorted(ranking_q_enumerate, key = lambda s: s[1], reverse = True)\n",
    "ranking_c_enumerate_sorted = sorted(ranking_c_enumerate, key = lambda s: s[1], reverse = True) "
   ]
  },
  {
   "cell_type": "code",
   "execution_count": 15,
   "id": "3f10a98e",
   "metadata": {},
   "outputs": [
    {
     "data": {
      "text/plain": [
       "[]"
      ]
     },
     "execution_count": 15,
     "metadata": {},
     "output_type": "execute_result"
    }
   ],
   "source": [
    "ranking_q_enumerate_sorted"
   ]
  },
  {
   "cell_type": "code",
   "execution_count": 16,
   "id": "7ff10538",
   "metadata": {},
   "outputs": [
    {
     "data": {
      "text/plain": [
       "[]"
      ]
     },
     "execution_count": 16,
     "metadata": {},
     "output_type": "execute_result"
    }
   ],
   "source": [
    "ranking_c_enumerate_sorted"
   ]
  },
  {
   "cell_type": "code",
   "execution_count": null,
   "id": "3f3ee70a",
   "metadata": {},
   "outputs": [],
   "source": []
  }
 ],
 "metadata": {
  "kernelspec": {
   "display_name": "Python 3 (ipykernel)",
   "language": "python",
   "name": "python3"
  },
  "language_info": {
   "codemirror_mode": {
    "name": "ipython",
    "version": 3
   },
   "file_extension": ".py",
   "mimetype": "text/x-python",
   "name": "python",
   "nbconvert_exporter": "python",
   "pygments_lexer": "ipython3",
   "version": "3.9.12"
  }
 },
 "nbformat": 4,
 "nbformat_minor": 5
}
