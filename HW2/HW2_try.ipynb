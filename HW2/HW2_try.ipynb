{
 "cells": [
  {
   "cell_type": "markdown",
   "id": "b36993a1",
   "metadata": {},
   "source": [
    "> 第一次嘗試，還未明確了解程式碼意義。"
   ]
  },
  {
   "cell_type": "code",
   "execution_count": 1,
   "id": "41b5ead2",
   "metadata": {
    "scrolled": true
   },
   "outputs": [
    {
     "ename": "SyntaxError",
     "evalue": "invalid syntax (2707904926.py, line 33)",
     "output_type": "error",
     "traceback": [
      "\u001b[1;36m  Input \u001b[1;32mIn [1]\u001b[1;36m\u001b[0m\n\u001b[1;33m    },\u001b[0m\n\u001b[1;37m     ^\u001b[0m\n\u001b[1;31mSyntaxError\u001b[0m\u001b[1;31m:\u001b[0m invalid syntax\n"
     ]
    }
   ],
   "source": [
    "#dictionary\n",
    "d={\n",
    "'課表':\n",
    "    {\n",
    "    '禮拜一':{\n",
    "        '科技英文':{'期中評量方式':{'個人報告1',\n",
    "                                  '個人報告2',\n",
    "                                  '個人報告3',\n",
    "                                  '個人報告4',\n",
    "                                  '分組報告'},\n",
    "                    '期末評量方式':{'筆試'},\n",
    "                    '其他評量':{'作業1',\n",
    "                                '作業2'}},\n",
    "        '電腦輔助製圖':{'期中評量方式':'筆試',\n",
    "                        '期末評量方式':'筆試'},\n",
    "        '班級經營':{'期中評量方式':'分組報告',\n",
    "                    '期末評量方式':'筆試',\n",
    "                    '其他評量':'心得報告'}\n",
    "            }\n",
    "    },\n",
    "    \n",
    "    {\n",
    "    '禮拜二':{\n",
    "        '教學媒體與應用':{'期中評量方式':'分組報告',\n",
    "                         '期末評量方式':'專題報告'},\n",
    "        '初級韓文':{'期中評量方式':{'口試',\n",
    "                                  '分組報告',\n",
    "                                  '書面報告'},\n",
    "                    '期末評量方式':{'筆試',\n",
    "                                   '口試'}},\n",
    "        '20世紀動盪時局下的知識分子':{'其他評量':'心得報告'}\n",
    "            }\n",
    "    },\n",
    "    \n",
    "    {\n",
    "    '禮拜三':{\n",
    "        '色彩學':{'期中評量方式':{'作業',\n",
    "                                 '分組報告'},\n",
    "                  '期末評量方式':'作業'},\n",
    "        '機構設計':{'期中評量方式':'專題成果',\n",
    "                    '期末評量方式':'專題報告'}\n",
    "            }\n",
    "    },\n",
    "    \n",
    "    {\n",
    "    '禮拜四':{\n",
    "        '程式語言':{'期末評量方式':'專題報告',\n",
    "                    '其他評量':{'作業1',\n",
    "                                '作業2',\n",
    "                                '作業3',\n",
    "                                '作業4',\n",
    "                                '作業5'}},\n",
    "        '機械製造':{'期中評量方式':'筆試',\n",
    "                    '期末評量方式':'專題報告'},\n",
    "        '輔導原理與實務':{'期中評量方式':'分組報告',\n",
    "                         '期末評量方式':'心得報告'}\n",
    "            }\n",
    "    },\n",
    "    \n",
    "    {\n",
    "    '禮拜五':{\n",
    "        '統計學':{'期中評量方式':{'筆試',\n",
    "                                 '分組報告'},\n",
    "                  '期末評量方式':'專題報告',\n",
    "                  '其他評量':{'作業1',\n",
    "                              '作業2',\n",
    "                              '作業3',\n",
    "                              '作業4'}},\n",
    "        '桌球初級':{'期中評量方式':'考試',\n",
    "                    '期末評量方式':'考試'}\n",
    "            }\n",
    "    }\n",
    "}"
   ]
  },
  {
   "cell_type": "code",
   "execution_count": 12,
   "id": "2dc54e89",
   "metadata": {},
   "outputs": [],
   "source": [
    "#dictionary中，每一個元素都由鍵 (key) 和值 (value) 構成，結構為key:value\n",
    "#'課表'\n",
    "d = {\n",
    "    \n",
    "'一':{'禮拜一':{'科技英文','電腦輔助製圖','班級經營'},},\n",
    "'二':{'禮拜二':{'教學媒體與應用','初級韓文','20世紀動盪時局下的知識分子'},},\n",
    "'三':{'禮拜三':{'色彩學','機構設計'},},\n",
    "'四':{'禮拜四':{'程式語言','機械製造','輔導原理與實務'},},\n",
    "'五':{'禮拜五':{'統計學','桌球初級'}}\n",
    "    \n",
    "    }"
   ]
  },
  {
   "cell_type": "code",
   "execution_count": null,
   "id": "fcec44fe",
   "metadata": {},
   "outputs": [],
   "source": []
  },
  {
   "cell_type": "code",
   "execution_count": null,
   "id": "0cc8d523",
   "metadata": {},
   "outputs": [],
   "source": []
  },
  {
   "cell_type": "code",
   "execution_count": null,
   "id": "297b02b8",
   "metadata": {},
   "outputs": [],
   "source": []
  },
  {
   "cell_type": "code",
   "execution_count": null,
   "id": "46f0e1db",
   "metadata": {},
   "outputs": [],
   "source": []
  },
  {
   "cell_type": "code",
   "execution_count": null,
   "id": "2ed33094",
   "metadata": {},
   "outputs": [],
   "source": []
  },
  {
   "cell_type": "code",
   "execution_count": 50,
   "id": "5abf9586",
   "metadata": {},
   "outputs": [],
   "source": [
    "d = {\n",
    "    \n",
    "'禮拜一':{'課表':{'科技英文','電腦輔助製圖','班級經營'},\n",
    "          '必修':'科技英文',\n",
    "          '選修':'電腦輔助製圖',\n",
    "          '教程':'班級經營',\n",
    "          '學分':{'科技英文':2,\n",
    "                  '電腦輔助製圖':3,\n",
    "                  '班級經營':2}},\n",
    "'禮拜二':{'課表':{'教學媒體與應用','初級韓文','20世紀動盪時局下的知識分子'},          \n",
    "          '選修':'初級韓文',\n",
    "          '教程':'教學媒體與應用',\n",
    "          '通識':'20世紀動盪時局下的知識分子',\n",
    "          '學分':{'教學媒體與應用':2,\n",
    "                  '初級韓文':2,\n",
    "                  '20世紀動盪時局下的知識分子':2}},\n",
    "'禮拜三':{'課表':{'色彩學','機構設計'},\n",
    "          '選修':{'色彩學','機構設計'},\n",
    "          '學分':{'色彩學':3,\n",
    "                  '機構設計':3}},\n",
    "'禮拜四':{'課表':{'程式語言','機械製造','輔導原理與實務'},\n",
    "          '必修':{'程式語言','機械製造'},          \n",
    "          '教程':'輔導原理與實務',\n",
    "          '學分':{'程式語言':3,\n",
    "                  '機械製造':3,\n",
    "                  '輔導原理與實務':2}},\n",
    "'禮拜五':{'課表':{'統計學','桌球初級'},\n",
    "          '必修':'桌球初級',\n",
    "          '選修':'統計學',\n",
    "          '學分':{'統計學':3,\n",
    "                  '桌球初級':2}}\n",
    "    \n",
    "    }"
   ]
  },
  {
   "cell_type": "code",
   "execution_count": 51,
   "id": "d127481e",
   "metadata": {},
   "outputs": [
    {
     "name": "stdout",
     "output_type": "stream",
     "text": [
      "{'禮拜一': {'課表': {'班級經營', '電腦輔助製圖', '科技英文'}, '必修': '科技英文', '選修': '電腦輔助製圖', '教程': '班級經營', '學分': {'科技英文': 2, '電腦輔助製圖': 3, '班級經營': 2}}, '禮拜二': {'課表': {'20世紀動盪時局下的知識分子', '教學媒體與應用', '初級韓文'}, '選修': '初級韓文', '教程': '教學媒體與應用', '通識': '20世紀動盪時局下的知識分子', '學分': {'教學媒體與應用': 2, '初級韓文': 2, '20世紀動盪時局下的知識分子': 2}}, '禮拜三': {'課表': {'色彩學', '機構設計'}, '選修': {'色彩學', '機構設計'}, '學分': {'色彩學': 3, '機構設計': 3}}, '禮拜四': {'課表': {'機械製造', '輔導原理與實務', '程式語言'}, '必修': {'機械製造', '程式語言'}, '教程': '輔導原理與實務', '學分': {'程式語言': 3, '機械製造': 3, '輔導原理與實務': 2}}, '禮拜五': {'課表': {'桌球初級', '統計學'}, '必修': '桌球初級', '選修': '統計學', '學分': {'統計學': 3, '桌球初級': 2}}}\n"
     ]
    }
   ],
   "source": [
    "#可輸出dictionary內所有內容\n",
    "print(d)"
   ]
  },
  {
   "cell_type": "code",
   "execution_count": 52,
   "id": "5ac14fed",
   "metadata": {},
   "outputs": [
    {
     "name": "stdout",
     "output_type": "stream",
     "text": [
      "dict_keys(['禮拜一', '禮拜二', '禮拜三', '禮拜四', '禮拜五'])\n"
     ]
    }
   ],
   "source": [
    "#可以看到程式印出此字典包含的所有 key ，以了解這個字典裡面有哪些鍵(key)值\n",
    "print(d.keys())"
   ]
  },
  {
   "cell_type": "code",
   "execution_count": 53,
   "id": "ff2bfa70",
   "metadata": {},
   "outputs": [
    {
     "name": "stdout",
     "output_type": "stream",
     "text": [
      "dict_values([{'課表': {'班級經營', '電腦輔助製圖', '科技英文'}, '必修': '科技英文', '選修': '電腦輔助製圖', '教程': '班級經營', '學分': {'科技英文': 2, '電腦輔助製圖': 3, '班級經營': 2}}, {'課表': {'20世紀動盪時局下的知識分子', '教學媒體與應用', '初級韓文'}, '選修': '初級韓文', '教程': '教學媒體與應用', '通識': '20世紀動盪時局下的知識分子', '學分': {'教學媒體與應用': 2, '初級韓文': 2, '20世紀動盪時局下的知識分子': 2}}, {'課表': {'色彩學', '機構設計'}, '選修': {'色彩學', '機構設計'}, '學分': {'色彩學': 3, '機構設計': 3}}, {'課表': {'機械製造', '輔導原理與實務', '程式語言'}, '必修': {'機械製造', '程式語言'}, '教程': '輔導原理與實務', '學分': {'程式語言': 3, '機械製造': 3, '輔導原理與實務': 2}}, {'課表': {'桌球初級', '統計學'}, '必修': '桌球初級', '選修': '統計學', '學分': {'統計學': 3, '桌球初級': 2}}])\n"
     ]
    }
   ],
   "source": [
    "#可以看到程式印出這個字典中所包含的值(value)\n",
    "print(d.values())"
   ]
  },
  {
   "cell_type": "code",
   "execution_count": 54,
   "id": "3e69cbd7",
   "metadata": {},
   "outputs": [
    {
     "name": "stdout",
     "output_type": "stream",
     "text": [
      "dict_items([('禮拜一', {'課表': {'班級經營', '電腦輔助製圖', '科技英文'}, '必修': '科技英文', '選修': '電腦輔助製圖', '教程': '班級經營', '學分': {'科技英文': 2, '電腦輔助製圖': 3, '班級經營': 2}}), ('禮拜二', {'課表': {'20世紀動盪時局下的知識分子', '教學媒體與應用', '初級韓文'}, '選修': '初級韓文', '教程': '教學媒體與應用', '通識': '20世紀動盪時局下的知識分子', '學分': {'教學媒體與應用': 2, '初級韓文': 2, '20世紀動盪時局下的知識分子': 2}}), ('禮拜三', {'課表': {'色彩學', '機構設計'}, '選修': {'色彩學', '機構設計'}, '學分': {'色彩學': 3, '機構設計': 3}}), ('禮拜四', {'課表': {'機械製造', '輔導原理與實務', '程式語言'}, '必修': {'機械製造', '程式語言'}, '教程': '輔導原理與實務', '學分': {'程式語言': 3, '機械製造': 3, '輔導原理與實務': 2}}), ('禮拜五', {'課表': {'桌球初級', '統計學'}, '必修': '桌球初級', '選修': '統計學', '學分': {'統計學': 3, '桌球初級': 2}})])\n"
     ]
    }
   ],
   "source": [
    "#可以同時印出這個字典的key與value\n",
    "print(d.items())\n",
    "#將d裡面的內容(items)顯示出來\n",
    "#d.items() #相同用法"
   ]
  },
  {
   "cell_type": "code",
   "execution_count": 55,
   "id": "84ce3c05",
   "metadata": {},
   "outputs": [
    {
     "name": "stdout",
     "output_type": "stream",
     "text": [
      "{'課表': {'班級經營', '電腦輔助製圖', '科技英文'}, '必修': '科技英文', '選修': '電腦輔助製圖', '教程': '班級經營', '學分': {'科技英文': 2, '電腦輔助製圖': 3, '班級經營': 2}}\n"
     ]
    }
   ],
   "source": [
    "#若想知道dictionary裡面xx資料，就使用 d['xx'] (d為dictionary的名字)來透過 key 取得這個 key 所對應的值 (value)\n",
    "print(d['禮拜一'])"
   ]
  },
  {
   "cell_type": "code",
   "execution_count": 56,
   "id": "7c1c2f64",
   "metadata": {},
   "outputs": [],
   "source": [
    "#定義quantity()函數，計算每天科目數 和處存罪責內容\n",
    "def quantity(dict_name): \n",
    "    number = len(dict_name['課表']) #函式len()用於傳回字典(dictionary)中包含幾個元素，用來計算字典中的元素(key)個數\n",
    "    content = []\n",
    "    for i in dict_name['課表']: #for classes in dict_name['科目'].items: 這邊也不知意思\n",
    "        classes = (i,dict_name['課表'][i]) #用 .items 這行就可以不用 為啥\n",
    "        content.append(classes)\n",
    "    return number, content"
   ]
  },
  {
   "cell_type": "code",
   "execution_count": 57,
   "id": "0f083a56",
   "metadata": {},
   "outputs": [],
   "source": [
    "#定義credit()函數，計算總學分數    和處存罰鍰內容 我該怎麼改咧\n",
    "def credit(dict_name): \n",
    "    sum = 0\n",
    "    content = []\n",
    "    for i in dict_name['學分']: #for key, value in dict_name['罰鍰'].items:\n",
    "        classes = (i,dict_name['學分'][i]) #credit = (key, value)\n",
    "        content.append(classes)\n",
    "        sum += dict_name['學分'][i] #sum += value\n",
    "    return sum, content"
   ]
  },
  {
   "cell_type": "code",
   "execution_count": 58,
   "id": "7cb4506c",
   "metadata": {},
   "outputs": [
    {
     "ename": "TypeError",
     "evalue": "'set' object is not subscriptable",
     "output_type": "error",
     "traceback": [
      "\u001b[1;31m---------------------------------------------------------------------------\u001b[0m",
      "\u001b[1;31mTypeError\u001b[0m                                 Traceback (most recent call last)",
      "Input \u001b[1;32mIn [58]\u001b[0m, in \u001b[0;36m<cell line: 3>\u001b[1;34m()\u001b[0m\n\u001b[0;32m      2\u001b[0m ranking_c \u001b[38;5;241m=\u001b[39m [] \u001b[38;5;66;03m#credit 學分數\u001b[39;00m\n\u001b[0;32m      3\u001b[0m \u001b[38;5;28;01mfor\u001b[39;00m i \u001b[38;5;129;01min\u001b[39;00m d\u001b[38;5;241m.\u001b[39mitems():\n\u001b[0;32m      4\u001b[0m     \u001b[38;5;66;03m#print(i[1])\u001b[39;00m\n\u001b[1;32m----> 5\u001b[0m     person_quantity_num, person_quantity_content \u001b[38;5;241m=\u001b[39m \u001b[43mquantity\u001b[49m\u001b[43m(\u001b[49m\u001b[43mi\u001b[49m\u001b[43m[\u001b[49m\u001b[38;5;241;43m1\u001b[39;49m\u001b[43m]\u001b[49m\u001b[43m)\u001b[49m\n\u001b[0;32m      6\u001b[0m     person_credit_sum, person_credit_content \u001b[38;5;241m=\u001b[39m credit(i[\u001b[38;5;241m1\u001b[39m])\n\u001b[0;32m      7\u001b[0m     ranking_q\u001b[38;5;241m.\u001b[39mappend(person_quantity_num)\n",
      "Input \u001b[1;32mIn [56]\u001b[0m, in \u001b[0;36mquantity\u001b[1;34m(dict_name)\u001b[0m\n\u001b[0;32m      4\u001b[0m content \u001b[38;5;241m=\u001b[39m []\n\u001b[0;32m      5\u001b[0m \u001b[38;5;28;01mfor\u001b[39;00m i \u001b[38;5;129;01min\u001b[39;00m dict_name[\u001b[38;5;124m'\u001b[39m\u001b[38;5;124m課表\u001b[39m\u001b[38;5;124m'\u001b[39m]: \u001b[38;5;66;03m#for classes in dict_name['科目'].items: 這邊也不知意思\u001b[39;00m\n\u001b[1;32m----> 6\u001b[0m     classes \u001b[38;5;241m=\u001b[39m (i,\u001b[43mdict_name\u001b[49m\u001b[43m[\u001b[49m\u001b[38;5;124;43m'\u001b[39;49m\u001b[38;5;124;43m課表\u001b[39;49m\u001b[38;5;124;43m'\u001b[39;49m\u001b[43m]\u001b[49m\u001b[43m[\u001b[49m\u001b[43mi\u001b[49m\u001b[43m]\u001b[49m) \u001b[38;5;66;03m#用 .items 這行就可以不用 為啥\u001b[39;00m\n\u001b[0;32m      7\u001b[0m     content\u001b[38;5;241m.\u001b[39mappend(classes)\n\u001b[0;32m      8\u001b[0m \u001b[38;5;28;01mreturn\u001b[39;00m number, content\n",
      "\u001b[1;31mTypeError\u001b[0m: 'set' object is not subscriptable"
     ]
    }
   ],
   "source": [
    "ranking_q = [] #classes 幾節課\n",
    "ranking_c = [] #credit 學分數\n",
    "for i in d.items():\n",
    "    #print(i[1])\n",
    "    person_quantity_num, person_quantity_content = quantity(i[1])\n",
    "    person_credit_sum, person_credit_content = credit(i[1])\n",
    "    ranking_q.append(person_quantity_num)\n",
    "    ranking_c.append(person_credit_sum)"
   ]
  },
  {
   "cell_type": "code",
   "execution_count": null,
   "id": "a104e735",
   "metadata": {},
   "outputs": [],
   "source": [
    "ranking_q"
   ]
  },
  {
   "cell_type": "code",
   "execution_count": null,
   "id": "31c0d96e",
   "metadata": {},
   "outputs": [],
   "source": [
    "ranking_c"
   ]
  },
  {
   "cell_type": "code",
   "execution_count": null,
   "id": "157d0c98",
   "metadata": {},
   "outputs": [],
   "source": [
    "ranking_q_enumerate = enumerate(ranking_q, start = 1)\n",
    "ranking_c_enumerate = enumerate(ranking_c, start = 1)"
   ]
  },
  {
   "cell_type": "code",
   "execution_count": null,
   "id": "7b1cf760",
   "metadata": {},
   "outputs": [],
   "source": [
    "#進行排名\n",
    "ranking_q_enumerate_sorted = sorted(ranking_q_enumerate, key = lambda s: s[1], reverse = True)\n",
    "ranking_c_enumerate_sorted = sorted(ranking_c_enumerate, key = lambda s: s[1], reverse = True) "
   ]
  },
  {
   "cell_type": "code",
   "execution_count": null,
   "id": "37362e51",
   "metadata": {},
   "outputs": [],
   "source": [
    "ranking_q_enumerate_sorted"
   ]
  },
  {
   "cell_type": "code",
   "execution_count": null,
   "id": "bf3cb9b9",
   "metadata": {},
   "outputs": [],
   "source": [
    "ranking_c_enumerate_sorted"
   ]
  },
  {
   "cell_type": "code",
   "execution_count": null,
   "id": "192be5c2",
   "metadata": {},
   "outputs": [],
   "source": []
  },
  {
   "cell_type": "code",
   "execution_count": null,
   "id": "c06d08de",
   "metadata": {},
   "outputs": [],
   "source": [
    "d = {\n",
    "    \n",
    "'禮拜一':{'課表':{'科技英文','電腦輔助製圖','班級經營'},\n",
    "          '必修':'科技英文',\n",
    "          '選修':'電腦輔助製圖',\n",
    "          '教程':'班級經營',\n",
    "          '學分':{'科技英文':2,\n",
    "                  '電腦輔助製圖':3,\n",
    "                  '班級經營':2}},\n",
    "'禮拜二':{'課表':{'教學媒體與應用','初級韓文','20世紀動盪時局下的知識分子'},          \n",
    "          '選修':'初級韓文',\n",
    "          '教程':'教學媒體與應用',\n",
    "          '通識':'20世紀動盪時局下的知識分子',\n",
    "          '學分':{'教學媒體與應用':2,\n",
    "                  '初級韓文':2,\n",
    "                  '20世紀動盪時局下的知識分子':2}},\n",
    "'禮拜三':{'課表':{'色彩學','機構設計'},\n",
    "          '選修':{'色彩學','機構設計'},\n",
    "          '學分':{'色彩學':3,\n",
    "                  '機構設計':3}},\n",
    "'禮拜四':{'課表':{'程式語言','機械製造','輔導原理與實務'},\n",
    "          '必修':{'程式語言','機械製造'},          \n",
    "          '教程':'輔導原理與實務',\n",
    "          '學分':{'程式語言':3,\n",
    "                  '機械製造':3,\n",
    "                  '輔導原理與實務':2}},\n",
    "'禮拜五':{'課表':{'統計學','桌球初級'},\n",
    "          '必修':'桌球初級',\n",
    "          '選修':'統計學',\n",
    "          '學分':{'統計學':3,\n",
    "                  '桌球初級':2}}\n",
    "    \n",
    "    }"
   ]
  },
  {
   "cell_type": "code",
   "execution_count": null,
   "id": "c4c150f4",
   "metadata": {},
   "outputs": [],
   "source": [
    "#https://reurl.cc/MNp79v\n",
    "#1\n",
    "{\n",
    "  \"課程\": [\n",
    "    {\n",
    "      \"禮拜一\": {\n",
    "        \"課表\": [\n",
    "          \"科技英文\",\n",
    "          \"電腦輔助製圖\",\n",
    "          \"班級經營\"\n",
    "        ],\n",
    "        \"必修\": [\n",
    "          \"科技英文\"\n",
    "        ],\n",
    "        \"選修\": [\n",
    "          \"電腦輔助製圖\"\n",
    "        ],\n",
    "        \"教程\": [\n",
    "          \"班級經營\"\n",
    "        ],\n",
    "        \"學分\": [\n",
    "          {\n",
    "            \"科技英文\": 2,\n",
    "            \"電腦輔助製圖\": 3,\n",
    "            \"班級經營\": 2\n",
    "          }\n",
    "        ]\n",
    "      },\n",
    "      \"禮拜二\": {\n",
    "        \"課表\": [\n",
    "          \"教學媒體與應用\",\n",
    "          \"初級韓文\",\n",
    "          \"20世紀動盪時局下的知識分子\"\n",
    "        ],\n",
    "        \"選修\": [\n",
    "          \"初級韓文\"\n",
    "        ],\n",
    "        \"教程\": [\n",
    "          \"教學媒體與應用\"\n",
    "        ],\n",
    "        \"通識\": [\n",
    "          \"20世紀動盪時局下的知識分子\"\n",
    "        ],\n",
    "        \"學分\": [\n",
    "          {\n",
    "            \"教學媒體與應用\": 2,\n",
    "            \"初級韓文\": 2,\n",
    "            \"20世紀動盪時局下的知識分子\": 2\n",
    "          }\n",
    "        ]\n",
    "      },\n",
    "      \"禮拜三\": {\n",
    "        \"課表\": [\n",
    "          \"色彩學\",\n",
    "          \"機構設計\"\n",
    "        ],\n",
    "        \"選修\": [\n",
    "          \"色彩學\",\n",
    "          \"機構設計\"\n",
    "        ],\n",
    "        \"學分\": [\n",
    "          {\n",
    "            \"色彩學\": 3,\n",
    "            \"機構設計\": 3\n",
    "          }\n",
    "        ]\n",
    "      },\n",
    "      \"禮拜四\": {\n",
    "        \"課表\": [\n",
    "          \"程式語言\",\n",
    "          \"機械製造\",\n",
    "          \"輔導原理與實務\"\n",
    "        ],\n",
    "        \"必修\": [\n",
    "          \"程式語言\",\n",
    "          \"機械製造\"\n",
    "        ],\n",
    "        \"教程\": [\n",
    "          \"輔導原理與實務\"\n",
    "        ],\n",
    "        \"學分\": [\n",
    "          {\n",
    "            \"程式語言\": 3,\n",
    "            \"機械製造\": 3,\n",
    "            \"輔導原理與實務\": 2\n",
    "          }\n",
    "        ]\n",
    "      },\n",
    "      \"禮拜五\": {\n",
    "        \"課表\": [\n",
    "          \"統計學\",\n",
    "          \"桌球初級\"\n",
    "        ],\n",
    "        \"必修\": [\n",
    "          \"桌球初級\"\n",
    "        ],\n",
    "        \"選修\": [\n",
    "          \"統計學\"\n",
    "        ],\n",
    "        \"學分\": [\n",
    "          {\n",
    "            \"統計學\": 3,\n",
    "            \"桌球初級\": 1\n",
    "          }\n",
    "        ]\n",
    "      }\n",
    "    }\n",
    "  ]\n",
    "}"
   ]
  },
  {
   "cell_type": "code",
   "execution_count": null,
   "id": "21e4e338",
   "metadata": {},
   "outputs": [],
   "source": [
    "#定義guilt()函數，計算罪責數和處存罪責內容\n",
    "def guilt(dict_name): #name可以隨便取(以老師範例，可能是罪責的名字，跟dictionary裡面的name意思不一樣)\n",
    "    number = len(dict_name['罪責']) \n",
    "    #函式len()用於傳回字典(dictionary)中包含幾個元素，用來計算字典中的元素(key)個數\n",
    "    #len()函式用來計算dict罪責共有幾個key\n",
    "    content = []#把content定義成[]\n",
    "    for i in dict_name['罪責']: #for crime in dict_name['罪責'].items:\n",
    "        crime = (i,dict_name['罪責'][i]) #用 .items 這行就可以不用\n",
    "        content.append(crime)\n",
    "    return number, content"
   ]
  },
  {
   "cell_type": "code",
   "execution_count": null,
   "id": "72d60c36",
   "metadata": {},
   "outputs": [],
   "source": []
  },
  {
   "cell_type": "code",
   "execution_count": null,
   "id": "1d52a9dc",
   "metadata": {},
   "outputs": [],
   "source": []
  },
  {
   "cell_type": "code",
   "execution_count": null,
   "id": "1494baae",
   "metadata": {},
   "outputs": [],
   "source": []
  },
  {
   "cell_type": "code",
   "execution_count": 10,
   "id": "0e5df5c1",
   "metadata": {},
   "outputs": [],
   "source": [
    "#dictionary中，每一個元素都由鍵 (key) 和值 (value) 構成，結構為key:value\n",
    "d = {\n",
    "'課表':\n",
    "    {\n",
    "    '禮拜一':{'科技英文','電腦輔助製圖','班級經營'},\n",
    "    '禮拜二':{'教學媒體與應用','初級韓文','20世紀動盪時局下的知識分子'},\n",
    "    '禮拜三':{'色彩學','機構設計'},\n",
    "    '禮拜四':{'程式語言','機械製造','輔導原理與實務'},\n",
    "    '禮拜五':{'統計學','桌球初級'}\n",
    "    }\n",
    "}"
   ]
  },
  {
   "cell_type": "code",
   "execution_count": 11,
   "id": "a477f32d",
   "metadata": {},
   "outputs": [
    {
     "data": {
      "text/plain": [
       "dict_items([('課表', {'禮拜一': {'科技英文', '電腦輔助製圖', '班級經營'}, '禮拜二': {'初級韓文', '20世紀動盪時局下的知識分子', '教學媒體與應用'}, '禮拜三': {'機構設計', '色彩學'}, '禮拜四': {'程式語言', '輔導原理與實務', '機械製造'}, '禮拜五': {'統計學', '桌球初級'}})])"
      ]
     },
     "execution_count": 11,
     "metadata": {},
     "output_type": "execute_result"
    }
   ],
   "source": [
    "#將d裡面的內容(items)顯示出來\n",
    "d.items()"
   ]
  },
  {
   "cell_type": "code",
   "execution_count": null,
   "id": "ba70b208",
   "metadata": {},
   "outputs": [],
   "source": [
    "#定義quantity()函數，計算每天科目數 和處存罪責內容\n",
    "def quantity(dict_name): \n",
    "    number = len(dict_name['科目']) #函式len()用於傳回字典(dictionary)中包含幾個元素，用來計算字典中的元素(key)個數\n",
    "    content = []\n",
    "    for i in dict_name['科目']: #for section in dict_name['科目'].items: 這邊也不知意思\n",
    "        section = (i,dict_name['科目'][i]) #用 .items 這行就可以不用 為啥\n",
    "        content.append(crime)\n",
    "    return number, content"
   ]
  },
  {
   "cell_type": "code",
   "execution_count": null,
   "id": "12945dc0",
   "metadata": {},
   "outputs": [],
   "source": [
    "#沒改\n",
    "#定義money()函數，計算總金額和處存罰鍰內容 我該怎麼改咧\n",
    "def money(dict_name): \n",
    "    sum = 0\n",
    "    content = []\n",
    "    for i in dict_name['罰鍰']: #for key, value in dict_name['罰鍰'].items:\n",
    "        crime = (i,dict_name['罰鍰'][i]) #crime = (key, value)\n",
    "        content.append(crime)\n",
    "        sum += dict_name['罰鍰'][i] #sum += value\n",
    "    return sum, content"
   ]
  },
  {
   "cell_type": "code",
   "execution_count": 12,
   "id": "aed3df4f",
   "metadata": {},
   "outputs": [
    {
     "ename": "NameError",
     "evalue": "name 'guilt' is not defined",
     "output_type": "error",
     "traceback": [
      "\u001b[1;31m---------------------------------------------------------------------------\u001b[0m",
      "\u001b[1;31mNameError\u001b[0m                                 Traceback (most recent call last)",
      "Input \u001b[1;32mIn [12]\u001b[0m, in \u001b[0;36m<cell line: 1>\u001b[1;34m()\u001b[0m\n\u001b[0;32m      1\u001b[0m \u001b[38;5;28;01mfor\u001b[39;00m n \u001b[38;5;129;01min\u001b[39;00m d\u001b[38;5;241m.\u001b[39mitems():\n\u001b[0;32m      2\u001b[0m     \u001b[38;5;66;03m#print(n[1])\u001b[39;00m\n\u001b[1;32m----> 3\u001b[0m     a, b \u001b[38;5;241m=\u001b[39m \u001b[43mguilt\u001b[49m(n[\u001b[38;5;241m1\u001b[39m])\n\u001b[0;32m      4\u001b[0m     \u001b[38;5;28mprint\u001b[39m(a)\n\u001b[0;32m      5\u001b[0m     \u001b[38;5;28mprint\u001b[39m(b)\n",
      "\u001b[1;31mNameError\u001b[0m: name 'guilt' is not defined"
     ]
    }
   ],
   "source": [
    "for n in d.items():\n",
    "    #print(n[1])\n",
    "    a, b = quantity(n[1])\n",
    "    print(a)\n",
    "    print(b)"
   ]
  },
  {
   "cell_type": "code",
   "execution_count": null,
   "id": "c73d4efd",
   "metadata": {},
   "outputs": [],
   "source": [
    "ranking_g = []\n",
    "ranking_m = []\n",
    "for i in d.items():\n",
    "    #print(i[1])\n",
    "    person_guilt_num, person_guilt_content = guilt(i[1])\n",
    "    person_money_sum, person_money_content = money(i[1])\n",
    "    ranking_g.append(person_guilt_num)\n",
    "    ranking_m.append(person_money_sum)"
   ]
  },
  {
   "cell_type": "code",
   "execution_count": null,
   "id": "c60632a8",
   "metadata": {},
   "outputs": [],
   "source": [
    "ranking_g"
   ]
  },
  {
   "cell_type": "code",
   "execution_count": null,
   "id": "6633d1ef",
   "metadata": {},
   "outputs": [],
   "source": [
    "ranking_m"
   ]
  },
  {
   "cell_type": "code",
   "execution_count": null,
   "id": "a940b146",
   "metadata": {},
   "outputs": [],
   "source": [
    "ranking_g_enumerate = enumerate(ranking_g, start = 1)\n",
    "ranking_m_enumerate = enumerate(ranking_m, start = 1)"
   ]
  },
  {
   "cell_type": "code",
   "execution_count": null,
   "id": "fb807e44",
   "metadata": {},
   "outputs": [],
   "source": [
    "#進行排名\n",
    "ranking_g_enumerate_sorted = sorted(ranking_g_enumerate, key = lambda s: s[1], reverse = True)\n",
    "ranking_m_enumerate_sorted = sorted(ranking_m_enumerate, key = lambda s: s[1], reverse = True) "
   ]
  },
  {
   "cell_type": "code",
   "execution_count": null,
   "id": "58b27301",
   "metadata": {},
   "outputs": [],
   "source": [
    "ranking_g_enumerate_sorted"
   ]
  },
  {
   "cell_type": "code",
   "execution_count": null,
   "id": "722d24fc",
   "metadata": {},
   "outputs": [],
   "source": [
    "ranking_m_enumerate_sorted"
   ]
  },
  {
   "cell_type": "code",
   "execution_count": 85,
   "id": "ad046899",
   "metadata": {},
   "outputs": [
    {
     "data": {
      "text/plain": [
       "dict_keys(['課表'])"
      ]
     },
     "execution_count": 85,
     "metadata": {},
     "output_type": "execute_result"
    }
   ],
   "source": [
    "d.keys()"
   ]
  },
  {
   "cell_type": "code",
   "execution_count": 86,
   "id": "01cfaf2e",
   "metadata": {},
   "outputs": [
    {
     "data": {
      "text/plain": [
       "dict"
      ]
     },
     "execution_count": 86,
     "metadata": {},
     "output_type": "execute_result"
    }
   ],
   "source": [
    "#確認d['課表']屬性\n",
    "type(d['課表'])"
   ]
  },
  {
   "cell_type": "code",
   "execution_count": 13,
   "id": "9c118a16",
   "metadata": {},
   "outputs": [],
   "source": [
    "ask = \"班級經營\""
   ]
  },
  {
   "cell_type": "code",
   "execution_count": 88,
   "id": "4fad2c7b",
   "metadata": {},
   "outputs": [
    {
     "name": "stdout",
     "output_type": "stream",
     "text": [
      "0\n"
     ]
    }
   ],
   "source": [
    "# 參考網站 https://www.w3schools.com/python/gloss_python_check_if_set_item_exists.asp\n",
    "j=0\n",
    "for n in d.items():\n",
    "    #print(n[1])\n",
    "    #print(n[1].values())\n",
    "    for i in n[1].values():\n",
    "        #print(i)\n",
    "        if ask in i:\n",
    "            print(j)\n",
    "        else:\n",
    "            j=j+1        "
   ]
  },
  {
   "cell_type": "code",
   "execution_count": null,
   "id": "9982a5eb",
   "metadata": {},
   "outputs": [],
   "source": []
  }
 ],
 "metadata": {
  "kernelspec": {
   "display_name": "Python 3 (ipykernel)",
   "language": "python",
   "name": "python3"
  },
  "language_info": {
   "codemirror_mode": {
    "name": "ipython",
    "version": 3
   },
   "file_extension": ".py",
   "mimetype": "text/x-python",
   "name": "python",
   "nbconvert_exporter": "python",
   "pygments_lexer": "ipython3",
   "version": "3.9.12"
  }
 },
 "nbformat": 4,
 "nbformat_minor": 5
}
