{
 "cells": [
  {
   "cell_type": "markdown",
   "id": "5431b3a3",
   "metadata": {},
   "source": [
    "## 從ETtoday旅遊雲爬出在台北的旅遊景點的文章標題"
   ]
  },
  {
   "cell_type": "markdown",
   "id": "d01b6342",
   "metadata": {},
   "source": [
    "#### 參考網站：\n",
    ">\n",
    "> [ETtoday旅遊雲](https://travel.ettoday.net/category/%E5%8F%B0%E5%8C%97/?from=travel_MainMenu_PC)\n",
    ">\n",
    "> [爬蟲方式參考](https://www.learncodewithmike.com/2020/02/python-beautifulsoup-web-scraper.html)\n",
    ">\n",
    "> [Requests套件介紹](https://ithelp.ithome.com.tw/articles/10220161)"
   ]
  },
  {
   "cell_type": "markdown",
   "id": "c8cb52d3",
   "metadata": {},
   "source": [
    "#### 名詞解釋：\n",
    ">\n",
    "> [URL(Uniform Resource Locator)統一資源定位器：](https://zh.wikipedia.org/zh-tw/%E7%BB%9F%E4%B8%80%E8%B5%84%E6%BA%90%E5%AE%9A%E4%BD%8D%E7%AC%A6)簡稱網址，是網際網路上標準的資源的位址（Address），如同在網路上的門牌。\n",
    ">\n",
    "> [HTTP(HyperText Transfer Protocol)超文本傳輸協定：](https://developer.mozilla.org/zh-TW/docs/Web/HTTP)用來傳輸超媒體文件(像是HTML 文件) 的應用層協定，被設計來讓瀏覽器和伺服器進行溝通，但也可做其他用途。\n",
    ">\n",
    "> [Response請求：](https://www.geeksforgeeks.org/response-methods-python-requests/)向 URI 發出請求時，它會返回響應。方法是 get、post、put 等。\n",
    ">> response.headers：返回響應頭的字典。\n",
    ">\n",
    "> [rq.get(url)：](https://ithelp.ithome.com.tw/articles/10186119)response = rq.get(url)   。 用 requests 的 get 方法把網頁抓下來\n",
    ">\n",
    "> [response.text：](https://ithelp.ithome.com.tw/articles/10186119)html_doc = response.text 。 text 屬性就是 html 檔案"
   ]
  },
  {
   "cell_type": "code",
   "execution_count": 40,
   "id": "0daa07f1",
   "metadata": {},
   "outputs": [],
   "source": [
    "#安裝 bs4 套件\n",
    "#pip install beautifulsoup4\n",
    "#安裝 requests 套件\n",
    "#pip install requests"
   ]
  },
  {
   "cell_type": "code",
   "execution_count": 45,
   "id": "8745c755",
   "metadata": {},
   "outputs": [
    {
     "name": "stdout",
     "output_type": "stream",
     "text": [
      "台北相關新聞懶人包, 照片, 影片, 報導, 資訊及訊息 -第1頁| ETtoday 旅遊雲 | ETtoday新聞雲\n"
     ]
    }
   ],
   "source": [
    "#抓取網頁原始碼(HTML)\n",
    "import urllib.request as req\n",
    "url = \"https://travel.ettoday.net/category/%E5%8F%B0%E5%8C%97/?from=travel_MainMenu_PC\"\n",
    "with req.urlopen(url) as response:\n",
    "    data = response.read().decode(\"utf-8\")\n",
    "#print(data)\n",
    "\n",
    "request = req.Request(url,headers = {\n",
    "    \"User-Agent\":\"Mozilla/5.0 (Windows NT 10.0; Win64; x64) AppleWebKit/537.36 (KHTML, like Gecko) Chrome/106.0.0.0 Safari/537.36\"})\n",
    "with req.urlopen(url) as response:\n",
    "    data = response.read().decode(\"utf-8\")\n",
    "#print(data)\n",
    "\n",
    "import bs4 #beautifulsoup4\n",
    "root = bs4.BeautifulSoup(data,\"html.parser\")\n",
    "titles = root.find_all(\"div\",class_ = \"title\") #尋找所有 class = \"title\" 的 div 標籤\n",
    "#print(titles.a.string)\n",
    "#print(titles)\n",
    "#print(data)\n",
    "print(root.title.string)"
   ]
  },
  {
   "cell_type": "code",
   "execution_count": 46,
   "id": "f1bf7052",
   "metadata": {},
   "outputs": [
    {
     "name": "stdout",
     "output_type": "stream",
     "text": [
      "[<h3 itemprop=\"headline\">\n",
      "<a href=\"https://travel.ettoday.net/article/2362156.htm?from=travel_Tag_list_PC\" itemprop=\"url\" title=\"席夢思一夜好眠！開箱台北藝廊式飯店　夜遊浪漫書店喝咖啡耍Chill\">席夢思一夜好眠！開箱台北藝廊式飯店　夜遊浪漫書店喝咖啡耍Chill</a>\n",
      "</h3>, <h3 itemprop=\"headline\">\n",
      "<a href=\"https://travel.ettoday.net/article/2363449.htm?from=travel_Tag_list_PC\" itemprop=\"url\" title=\"「皮卡丘彩繪列車」今啟航！北捷紅線限定　打卡攻略一起看\">「皮卡丘彩繪列車」今啟航！北捷紅線限定　打卡攻略一起看</a>\n",
      "</h3>, <h3 itemprop=\"headline\">\n",
      "<a href=\"https://travel.ettoday.net/article/2362474.htm?from=travel_Tag_list_PC\" itemprop=\"url\" title=\"「飛翔皮卡丘」明登場！來找帕奇利茲　爆炸頭皮卡丘跳舞免費看\">「飛翔皮卡丘」明登場！來找帕奇利茲　爆炸頭皮卡丘跳舞免費看</a>\n",
      "</h3>]\n"
     ]
    }
   ],
   "source": [
    "import requests\n",
    "url = \"https://travel.ettoday.net/category/%E5%8F%B0%E5%8C%97/?from=travel_MainMenu_PC\"\n",
    "\n",
    "from bs4 import BeautifulSoup #加入 #B,S大小寫有差嗎？\n",
    "\n",
    "response = requests.get(url)\n",
    "soup = BeautifulSoup(response.text,\"html.parser\")\n",
    "\n",
    "#print(soup.prettify()) #輸出排版後的HTML內容\n",
    "#find()：只搜尋第一個符合條件的HTML節點，傳入要搜尋的標籤名稱。\n",
    "result = soup.find_all(\"h3\", itemprop=\"headline\", limit=3) \n",
    "#find_all()：搜尋網頁中所有符合條件的HTML節點，傳入要搜尋的HTML標籤名稱。\n",
    "#limit=3：限定搜尋三個節點(搜尋結果只會出現三個)，若要全部出現則不用設限。\n",
    "print(result)"
   ]
  },
  {
   "cell_type": "code",
   "execution_count": 47,
   "id": "d9da9172",
   "metadata": {},
   "outputs": [
    {
     "name": "stdout",
     "output_type": "stream",
     "text": [
      "[<h3 itemprop=\"headline\">\n",
      "<a href=\"https://travel.ettoday.net/article/2362156.htm?from=travel_Tag_list_PC\" itemprop=\"url\" title=\"席夢思一夜好眠！開箱台北藝廊式飯店　夜遊浪漫書店喝咖啡耍Chill\">席夢思一夜好眠！開箱台北藝廊式飯店　夜遊浪漫書店喝咖啡耍Chill</a>\n",
      "</h3>, <p class=\"summary\" itemprop=\"description\">疫情期間，頂級飯店在高雄接二連三的開，反觀台北在這一塊就顯得沉寂許多，不過仔細盤點還是有好幾間質感不錯的商務型飯店陸續加入，可提供來台遊客更多優質選擇。</p>]\n"
     ]
    }
   ],
   "source": [
    "#若要同時搜尋多個HTML標籤，可以將標籤名稱打包成串列(List)後，傳入find_all()\n",
    "\n",
    "result = soup.find_all([\"h3\", \"p\"], limit=2)\n",
    "print(result)\n",
    "#同時搜尋了網頁中所有 <h3> 及 <p> 的HTML標籤內容"
   ]
  },
  {
   "cell_type": "code",
   "execution_count": 48,
   "id": "c027d69c",
   "metadata": {},
   "outputs": [
    {
     "name": "stdout",
     "output_type": "stream",
     "text": [
      "<a href=\"https://travel.ettoday.net/article/2362156.htm?from=travel_Tag_list_PC\" itemprop=\"url\" title=\"席夢思一夜好眠！開箱台北藝廊式飯店　夜遊浪漫書店喝咖啡耍Chill\">席夢思一夜好眠！開箱台北藝廊式飯店　夜遊浪漫書店喝咖啡耍Chill</a>\n"
     ]
    }
   ],
   "source": [
    "#select_one()\n",
    "#某一節點下只有單個子節點時\n",
    "\n",
    "result = soup.find(\"h3\", itemprop=\"headline\")\n",
    "print(result.select_one(\"a\"))"
   ]
  },
  {
   "cell_type": "code",
   "execution_count": 49,
   "id": "8c6a6c40",
   "metadata": {},
   "outputs": [
    {
     "name": "stdout",
     "output_type": "stream",
     "text": [
      "[<a class=\"pic\" href=\"https://travel.ettoday.net/article/2362156.htm?from=travel_Tag_list_PC\" title=\"席夢思一夜好眠！開箱台北藝廊式飯店　夜遊浪漫書店喝咖啡耍Chill\">\n",
      "<img alt=\"席夢思一夜好眠！開箱台北藝廊式飯店　夜遊浪漫書店喝咖啡耍Chill\" data-original=\"https://cdn2.ettoday.net/images/6636/c6636559.jpg\" itemprop=\"image\" onerror=\"this.src='//cdn2.ettoday.net/style/travel/images/fb_ettoday_travel_logo.jpg'\" src=\"https://cdn2.ettoday.net/style/misc/loading_200x150.gif\"/>\n",
      "</a>, <a href=\"https://travel.ettoday.net/article/2362156.htm?from=travel_Tag_list_PC\" itemprop=\"url\" title=\"席夢思一夜好眠！開箱台北藝廊式飯店　夜遊浪漫書店喝咖啡耍Chill\">席夢思一夜好眠！開箱台北藝廊式飯店　夜遊浪漫書店喝咖啡耍Chill</a>]\n"
     ]
    }
   ],
   "source": [
    "#select()\n",
    "#某一節點下有多個子節點時\n",
    "\n",
    "result = soup.find(\"div\", itemprop=\"itemListElement\")\n",
    "print(result.select(\"a\"))\n",
    "#由於<div>標籤下有多個<a>標籤的子節點，所以可以利用select()方法(Method)，選取其下所有的<a>標籤，並且為串列(List)的資料型態。"
   ]
  },
  {
   "cell_type": "markdown",
   "id": "f13e6e37",
   "metadata": {},
   "source": [
    "##### 以CSS屬性搜尋節點\n",
    "##### 使用 class_ 關鍵字參數(Keyword Argument)來進行css屬性值的指定\n",
    "> find()\n",
    ">\n",
    "> find_all()\n",
    ">\n",
    "> select()"
   ]
  },
  {
   "cell_type": "code",
   "execution_count": 50,
   "id": "02ec013e",
   "metadata": {},
   "outputs": [
    {
     "name": "stdout",
     "output_type": "stream",
     "text": [
      "<p class=\"summary\" itemprop=\"description\">疫情期間，頂級飯店在高雄接二連三的開，反觀台北在這一塊就顯得沉寂許多，不過仔細盤點還是有好幾間質感不錯的商務型飯店陸續加入，可提供來台遊客更多優質選擇。</p>\n"
     ]
    }
   ],
   "source": [
    "#find()\n",
    "#搜尋第一個符合指定的HTML標籤及css屬性值的節點\n",
    "titles = soup.find(\"p\", class_=\"summary\")\n",
    "print(titles)"
   ]
  },
  {
   "cell_type": "code",
   "execution_count": 51,
   "id": "c2d773f1",
   "metadata": {},
   "outputs": [
    {
     "name": "stdout",
     "output_type": "stream",
     "text": [
      "[<p class=\"summary\" itemprop=\"description\">疫情期間，頂級飯店在高雄接二連三的開，反觀台北在這一塊就顯得沉寂許多，不過仔細盤點還是有好幾間質感不錯的商務型飯店陸續加入，可提供來台遊客更多優質選擇。</p>, <p class=\"summary\" itemprop=\"description\">年末到來，隨著2022 ITF台北國際旅展即將登場，各大飯店業者也紛紛推出線上旅展。晶華國際酒店集團旗下風格旅店「Just Sleep捷絲旅」集結從北到南共8據點，祭出歷年熱銷、全省通用的「聯合住宿券」，每張2000元並附2客早餐，折扣下殺2折，於10月21日中午12點起開賣。                                                <em content=\"2022-10-20T13:08:00+08:00\" itemprop=\"datePublished\">(2022-10-20 13:08)</em>\n",
      "</p>, <p class=\"summary\" itemprop=\"description\">泡湯季正式來臨，「2022台北溫泉季」將於10/27至10/31在捷運新北投站周邊登場，北投公園今年首度新增野營體驗、星空影院，民眾可以免費參加，到了夜晚，8月份魔法節的燈飾再度點亮北投，呈現日夜皆美的意境。                                                <em content=\"2022-10-18T20:40:00+08:00\" itemprop=\"datePublished\">(2022-10-18 20:40)</em>\n",
      "</p>]\n"
     ]
    }
   ],
   "source": [
    "#find_all()\n",
    "#搜尋網頁中符合指定的HTML標籤及css屬性值的 「所有」 節點\n",
    "titles = soup.find_all(\"p\", class_=\"summary\", limit=3)\n",
    "print(titles)\n",
    "#第二、三個<p>節點由於其下還有<em>節點，所以也會進行回傳。"
   ]
  },
  {
   "cell_type": "code",
   "execution_count": 52,
   "id": "a9dfc363",
   "metadata": {},
   "outputs": [
    {
     "name": "stdout",
     "output_type": "stream",
     "text": [
      "[<p class=\"summary\" itemprop=\"description\">疫情期間，頂級飯店在高雄接二連三的開，反觀台北在這一塊就顯得沉寂許多，不過仔細盤點還是有好幾間質感不錯的商務型飯店陸續加入，可提供來台遊客更多優質選擇。</p>, <p class=\"summary\" itemprop=\"description\">年末到來，隨著2022 ITF台北國際旅展即將登場，各大飯店業者也紛紛推出線上旅展。晶華國際酒店集團旗下風格旅店「Just Sleep捷絲旅」集結從北到南共8據點，祭出歷年熱銷、全省通用的「聯合住宿券」，每張2000元並附2客早餐，折扣下殺2折，於10月21日中午12點起開賣。                                                <em content=\"2022-10-20T13:08:00+08:00\" itemprop=\"datePublished\">(2022-10-20 13:08)</em>\n",
      "</p>, <p class=\"summary\" itemprop=\"description\">泡湯季正式來臨，「2022台北溫泉季」將於10/27至10/31在捷運新北投站周邊登場，北投公園今年首度新增野營體驗、星空影院，民眾可以免費參加，到了夜晚，8月份魔法節的燈飾再度點亮北投，呈現日夜皆美的意境。                                                <em content=\"2022-10-18T20:40:00+08:00\" itemprop=\"datePublished\">(2022-10-18 20:40)</em>\n",
      "</p>]\n"
     ]
    }
   ],
   "source": [
    "#select()\n",
    "#單純透過css屬性值來進行HTML節點的搜尋\n",
    "titles = soup.select(\".summary\", limit=3)\n",
    "print(titles)"
   ]
  },
  {
   "cell_type": "markdown",
   "id": "960fb4ae",
   "metadata": {},
   "source": [
    "##### 搜尋父節點\n",
    "> find_parent()\n",
    ">\n",
    "> find_parents()"
   ]
  },
  {
   "cell_type": "code",
   "execution_count": 53,
   "id": "61c0f7a2",
   "metadata": {},
   "outputs": [
    {
     "name": "stdout",
     "output_type": "stream",
     "text": [
      "[<h3 itemprop=\"headline\">\n",
      "<a href=\"https://travel.ettoday.net/article/2362156.htm?from=travel_Tag_list_PC\" itemprop=\"url\" title=\"席夢思一夜好眠！開箱台北藝廊式飯店　夜遊浪漫書店喝咖啡耍Chill\">席夢思一夜好眠！開箱台北藝廊式飯店　夜遊浪漫書店喝咖啡耍Chill</a>\n",
      "</h3>]\n"
     ]
    }
   ],
   "source": [
    "#find_parent()或find_parents()\n",
    "#從某一個節點向上搜尋\n",
    "result = soup.find(\"a\", itemprop=\"url\")\n",
    "parents = result.find_parents(\"h3\")\n",
    "print(parents)\n",
    "#搜尋<a>標籤且itemprop屬性值為url的節點，透過find_parents()，向上搜尋<h3>標籤的父節點。"
   ]
  },
  {
   "cell_type": "markdown",
   "id": "1be6a65f",
   "metadata": {},
   "source": [
    "##### 搜尋前、後節點\n",
    "> find_previous_siblings()\n",
    ">\n",
    "> find_next_siblings()"
   ]
  },
  {
   "cell_type": "code",
   "execution_count": 54,
   "id": "93f3f0f3",
   "metadata": {},
   "outputs": [
    {
     "name": "stdout",
     "output_type": "stream",
     "text": [
      "[<a class=\"pic\" href=\"https://travel.ettoday.net/article/2362156.htm?from=travel_Tag_list_PC\" title=\"席夢思一夜好眠！開箱台北藝廊式飯店　夜遊浪漫書店喝咖啡耍Chill\">\n",
      "<img alt=\"席夢思一夜好眠！開箱台北藝廊式飯店　夜遊浪漫書店喝咖啡耍Chill\" data-original=\"https://cdn2.ettoday.net/images/6636/c6636559.jpg\" itemprop=\"image\" onerror=\"this.src='//cdn2.ettoday.net/style/travel/images/fb_ettoday_travel_logo.jpg'\" src=\"https://cdn2.ettoday.net/style/misc/loading_200x150.gif\"/>\n",
      "</a>]\n"
     ]
    }
   ],
   "source": [
    "#前節點 #在同一層級的節點，想要搜尋前一個節點\n",
    "#find_previous_siblings()\n",
    "\n",
    "result = soup.find(\"h3\", itemprop=\"headline\")\n",
    "previous_node = result.find_previous_siblings(\"a\")\n",
    "print(previous_node)"
   ]
  },
  {
   "cell_type": "code",
   "execution_count": 55,
   "id": "f9d8251d",
   "metadata": {},
   "outputs": [
    {
     "name": "stdout",
     "output_type": "stream",
     "text": [
      "[<p class=\"summary\" itemprop=\"description\">疫情期間，頂級飯店在高雄接二連三的開，反觀台北在這一塊就顯得沉寂許多，不過仔細盤點還是有好幾間質感不錯的商務型飯店陸續加入，可提供來台遊客更多優質選擇。</p>]\n"
     ]
    }
   ],
   "source": [
    "#後節點 #在同一層級的節點，想要搜尋後一個節點\n",
    "#find_next_siblings()\n",
    "\n",
    "result = soup.find(\"h3\", itemprop=\"headline\")\n",
    "next_node = result.find_next_siblings(\"p\")\n",
    "print(next_node)"
   ]
  },
  {
   "cell_type": "markdown",
   "id": "bca2f60b",
   "metadata": {},
   "source": [
    "##### 取得屬性值\n",
    "> get()"
   ]
  },
  {
   "cell_type": "code",
   "execution_count": 56,
   "id": "689ef5b2",
   "metadata": {},
   "outputs": [
    {
     "name": "stdout",
     "output_type": "stream",
     "text": [
      "<a href=\"https://travel.ettoday.net/article/2362156.htm?from=travel_Tag_list_PC\" itemprop=\"url\" title=\"席夢思一夜好眠！開箱台北藝廊式飯店　夜遊浪漫書店喝咖啡耍Chill\">席夢思一夜好眠！開箱台北藝廊式飯店　夜遊浪漫書店喝咖啡耍Chill</a>\n",
      "<a href=\"https://travel.ettoday.net/article/2363449.htm?from=travel_Tag_list_PC\" itemprop=\"url\" title=\"「皮卡丘彩繪列車」今啟航！北捷紅線限定　打卡攻略一起看\">「皮卡丘彩繪列車」今啟航！北捷紅線限定　打卡攻略一起看</a>\n",
      "<a href=\"https://travel.ettoday.net/article/2362474.htm?from=travel_Tag_list_PC\" itemprop=\"url\" title=\"「飛翔皮卡丘」明登場！來找帕奇利茲　爆炸頭皮卡丘跳舞免費看\">「飛翔皮卡丘」明登場！來找帕奇利茲　爆炸頭皮卡丘跳舞免費看</a>\n"
     ]
    }
   ],
   "source": [
    "#想要爬取「ETtoday的旅遊雲」台北景點首頁的標題連結\n",
    "#find_all()方法搜尋網頁中所有<h3>標籤且itemprop屬性值為headline的節點\n",
    "\n",
    "#透過for迴圈讀取串列(List)中的節點\n",
    "#    由於<h3>標籤底下只有一個<a>標籤，所以可以利用select_one()進行選取\n",
    "titles = soup.find_all(\"h3\", itemprop=\"headline\", limit=3)\n",
    "for title in titles:\n",
    "    print(title.select_one(\"a\"))"
   ]
  },
  {
   "cell_type": "code",
   "execution_count": 57,
   "id": "a228f443",
   "metadata": {},
   "outputs": [
    {
     "name": "stdout",
     "output_type": "stream",
     "text": [
      "https://travel.ettoday.net/article/2362156.htm?from=travel_Tag_list_PC\n",
      "https://travel.ettoday.net/article/2363449.htm?from=travel_Tag_list_PC\n",
      "https://travel.ettoday.net/article/2362474.htm?from=travel_Tag_list_PC\n",
      "https://travel.ettoday.net/article/2362292.htm?from=travel_Tag_list_PC\n",
      "https://travel.ettoday.net/article/2361089.htm?from=travel_Tag_list_PC\n",
      "https://travel.ettoday.net/article/2355854.htm?from=travel_Tag_list_PC\n",
      "https://travel.ettoday.net/article/2354921.htm?from=travel_Tag_list_PC\n",
      "https://travel.ettoday.net/article/2357514.htm?from=travel_Tag_list_PC\n",
      "https://travel.ettoday.net/article/2356031.htm?from=travel_Tag_list_PC\n",
      "https://travel.ettoday.net/article/2355914.htm?from=travel_Tag_list_PC\n",
      "https://travel.ettoday.net/article/2355804.htm?from=travel_Tag_list_PC\n",
      "https://travel.ettoday.net/article/2354766.htm?from=travel_Tag_list_PC\n",
      "https://travel.ettoday.net/article/2353095.htm?from=travel_Tag_list_PC\n",
      "https://travel.ettoday.net/article/2353670.htm?from=travel_Tag_list_PC\n",
      "https://travel.ettoday.net/article/2353510.htm?from=travel_Tag_list_PC\n",
      "https://travel.ettoday.net/article/2352617.htm?from=travel_Tag_list_PC\n",
      "https://travel.ettoday.net/article/2347604.htm?from=travel_Tag_list_PC\n",
      "https://travel.ettoday.net/article/2347640.htm?from=travel_Tag_list_PC\n"
     ]
    }
   ],
   "source": [
    "#利用get()取得href屬性值中的網址\n",
    "titles = soup.find_all(\"h3\", itemprop=\"headline\")\n",
    "for title in titles:\n",
    "    print(title.select_one(\"a\").get(\"href\"))"
   ]
  },
  {
   "cell_type": "markdown",
   "id": "067a59c5",
   "metadata": {},
   "source": [
    "##### 取得連結文字 \n",
    "> getText()"
   ]
  },
  {
   "cell_type": "code",
   "execution_count": 58,
   "id": "7cf582ef",
   "metadata": {},
   "outputs": [
    {
     "name": "stdout",
     "output_type": "stream",
     "text": [
      "席夢思一夜好眠！開箱台北藝廊式飯店　夜遊浪漫書店喝咖啡耍Chill\n",
      "「皮卡丘彩繪列車」今啟航！北捷紅線限定　打卡攻略一起看\n",
      "「飛翔皮卡丘」明登場！來找帕奇利茲　爆炸頭皮卡丘跳舞免費看\n",
      "捷絲旅住宿券下殺2折！全台8館都能用　住泳池飯店每人1150起含早\n",
      "北投溫泉季10／27開跑！泡湯買1送1「野營體驗、星空影院」都免費\n",
      "圓山「菁英環景套房」一生必去一次！無敵視野俯瞰大台北＋密道行程\n",
      "秋日落下一場「黃金雨」！北市7路段都有台灣欒樹　最美地點在這\n",
      "把握秋季限定美景！滿山谷紅楓葉超壯麗　金瓜石夢幻芒草雪景來襲\n",
      "北市新亮點！「蒂芬尼拱門、4米藝術牆」超好拍　繡學號工廠2.0版\n",
      "史上最大規模！「2023台灣燈會」2／5回歸台北　4大燈區亮點、時間\n",
      "寶可夢來了！「5大區域」先筆記　皮卡丘霓虹牆、彩蛋藏在這\n",
      "全台4處療癒溫泉地！森林系湯屋看山泡湯　巨型「鍋物湯屋」超好拍\n",
      "只有3天！北市2市集「逾百攤好吃好逛」巨無霸芋圓、牛肉御守燒\n",
      "免抽獎「直接送機票」！住晶華送台北-新加坡機票　開搶時間曝光\n",
      "醉了就上樓睡！一層一酒莊、百坪露天風呂　秋日2微醺飯店度假\n",
      "壽星免費玩整天！兒童新樂園「雙十優惠」只有3天　暢玩13項設施\n",
      "老宅新生懷舊再現！盤點北部六間特色民宿　天井、磨石樓梯超復古\n",
      "吸收書香氣息！精選北部五大特色圖書館　邊讀書邊享受田園風光\n"
     ]
    }
   ],
   "source": [
    "#取得<a>標籤的連結文字\n",
    "titles = soup.find_all(\"h3\", itemprop=\"headline\")\n",
    "for title in titles:\n",
    "    print(title.select_one(\"a\").getText())"
   ]
  },
  {
   "cell_type": "code",
   "execution_count": null,
   "id": "9e1a2c61",
   "metadata": {},
   "outputs": [],
   "source": []
  }
 ],
 "metadata": {
  "kernelspec": {
   "display_name": "Python 3 (ipykernel)",
   "language": "python",
   "name": "python3"
  },
  "language_info": {
   "codemirror_mode": {
    "name": "ipython",
    "version": 3
   },
   "file_extension": ".py",
   "mimetype": "text/x-python",
   "name": "python",
   "nbconvert_exporter": "python",
   "pygments_lexer": "ipython3",
   "version": "3.9.12"
  }
 },
 "nbformat": 4,
 "nbformat_minor": 5
}
