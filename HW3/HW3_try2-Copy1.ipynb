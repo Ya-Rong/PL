{
 "cells": [
  {
   "cell_type": "markdown",
   "id": "ce50d0ba",
   "metadata": {},
   "source": [
    "## 從ETtoday旅遊雲爬出在台北的旅遊景點的文章標題"
   ]
  },
  {
   "cell_type": "markdown",
   "id": "501e312a",
   "metadata": {},
   "source": [
    "#### 參考網站：\n",
    ">\n",
    "> [ETtoday旅遊雲](https://travel.ettoday.net/category/%E5%8F%B0%E5%8C%97/?from=travel_MainMenu_PC)\n",
    ">\n",
    "> [爬蟲方式參考](https://www.learncodewithmike.com/2020/02/python-beautifulsoup-web-scraper.html)\n",
    ">\n",
    "> [Requests套件介紹](https://ithelp.ithome.com.tw/articles/10220161)"
   ]
  },
  {
   "cell_type": "markdown",
   "id": "2157d4d8",
   "metadata": {},
   "source": [
    "#### 名詞解釋：\n",
    ">\n",
    "> [URL(Uniform Resource Locator)統一資源定位器：](https://zh.wikipedia.org/zh-tw/%E7%BB%9F%E4%B8%80%E8%B5%84%E6%BA%90%E5%AE%9A%E4%BD%8D%E7%AC%A6)簡稱網址，是網際網路上標準的資源的位址（Address），如同在網路上的門牌。\n",
    ">\n",
    "> [HTTP(HyperText Transfer Protocol)超文本傳輸協定：](https://developer.mozilla.org/zh-TW/docs/Web/HTTP)用來傳輸超媒體文件(像是HTML 文件) 的應用層協定，被設計來讓瀏覽器和伺服器進行溝通，但也可做其他用途。\n",
    ">\n",
    "> [Response請求：](https://www.geeksforgeeks.org/response-methods-python-requests/)向 URI 發出請求時，它會返回響應。方法是 get、post、put 等。\n",
    ">> response.headers：返回響應頭的字典。\n",
    ">\n",
    "> [rq.get(url)：](https://ithelp.ithome.com.tw/articles/10186119)response = rq.get(url)   。 用 requests 的 get 方法把網頁抓下來\n",
    ">\n",
    "> [response.text：](https://ithelp.ithome.com.tw/articles/10186119)html_doc = response.text 。 text 屬性就是 html 檔案"
   ]
  },
  {
   "cell_type": "code",
   "execution_count": 10,
   "id": "e168c7b1",
   "metadata": {},
   "outputs": [
    {
     "name": "stdout",
     "output_type": "stream",
     "text": [
      "台北相關新聞懶人包, 照片, 影片, 報導, 資訊及訊息 -第1頁| ETtoday 旅遊雲 | ETtoday新聞雲\n"
     ]
    }
   ],
   "source": [
    "#抓取網頁原始碼(HTML)\n",
    "import urllib.request as req\n",
    "url = \"https://travel.ettoday.net/category/%E5%8F%B0%E5%8C%97/?from=travel_MainMenu_PC\"\n",
    "with req.urlopen(url) as response:\n",
    "    data = response.read().decode(\"utf-8\")\n",
    "#print(data)\n",
    "\n",
    "request = req.Request(url,headers = {\n",
    "    \"User-Agent\":\"Mozilla/5.0 (Windows NT 10.0; Win64; x64) AppleWebKit/537.36 (KHTML, like Gecko) Chrome/106.0.0.0 Safari/537.36\"})\n",
    "with req.urlopen(url) as response:\n",
    "    data = response.read().decode(\"utf-8\")\n",
    "#print(data)\n",
    "\n",
    "import bs4 #beautifulsoup4\n",
    "root = bs4.BeautifulSoup(data,\"html.parser\")\n",
    "titles = root.find_all(\"div\",class_ = \"title\") #尋找所有 class = \"title\" 的 div 標籤\n",
    "#print(titles.a.string)\n",
    "#print(titles)\n",
    "#print(data)\n",
    "print(root.title.string)"
   ]
  },
  {
   "cell_type": "code",
   "execution_count": 11,
   "id": "d3ee850b",
   "metadata": {},
   "outputs": [
    {
     "name": "stdout",
     "output_type": "stream",
     "text": [
      "[<h3 itemprop=\"headline\">\n",
      "<a href=\"https://travel.ettoday.net/article/2362156.htm?from=travel_Tag_list_PC\" itemprop=\"url\" title=\"席夢思一夜好眠！開箱台北藝廊式飯店　夜遊浪漫書店喝咖啡耍Chill\">席夢思一夜好眠！開箱台北藝廊式飯店　夜遊浪漫書店喝咖啡耍Chill</a>\n",
      "</h3>, <h3 itemprop=\"headline\">\n",
      "<a href=\"https://travel.ettoday.net/article/2363449.htm?from=travel_Tag_list_PC\" itemprop=\"url\" title=\"「皮卡丘彩繪列車」今啟航！北捷紅線限定　打卡攻略一起看\">「皮卡丘彩繪列車」今啟航！北捷紅線限定　打卡攻略一起看</a>\n",
      "</h3>, <h3 itemprop=\"headline\">\n",
      "<a href=\"https://travel.ettoday.net/article/2362474.htm?from=travel_Tag_list_PC\" itemprop=\"url\" title=\"「飛翔皮卡丘」明登場！來找帕奇利茲　爆炸頭皮卡丘跳舞免費看\">「飛翔皮卡丘」明登場！來找帕奇利茲　爆炸頭皮卡丘跳舞免費看</a>\n",
      "</h3>]\n"
     ]
    }
   ],
   "source": [
    "import requests\n",
    "url = \"https://travel.ettoday.net/category/%E5%8F%B0%E5%8C%97/?from=travel_MainMenu_PC\"\n",
    "\n",
    "from bs4 import BeautifulSoup #加入 #B,S大小寫有差嗎？\n",
    "\n",
    "response = requests.get(url)\n",
    "soup = BeautifulSoup(response.text,\"html.parser\")\n",
    "\n",
    "#print(soup.prettify()) #輸出排版後的HTML內容\n",
    "#find()：只搜尋第一個符合條件的HTML節點，傳入要搜尋的標籤名稱。\n",
    "result = soup.find_all(\"h3\", itemprop=\"headline\", limit=3) \n",
    "#find_all()：搜尋網頁中所有符合條件的HTML節點，傳入要搜尋的HTML標籤名稱。\n",
    "#limit=3：限定搜尋三個節點(搜尋結果只會出現三個)，若要全部出現則不用設限。\n",
    "print(result)"
   ]
  },
  {
   "cell_type": "code",
   "execution_count": 34,
   "id": "e0da130f",
   "metadata": {},
   "outputs": [
    {
     "name": "stdout",
     "output_type": "stream",
     "text": [
      "https://travel.ettoday.net/article/2362156.htm?from=travel_Tag_list_PC\n",
      "https://travel.ettoday.net/article/2363449.htm?from=travel_Tag_list_PC\n",
      "https://travel.ettoday.net/article/2362474.htm?from=travel_Tag_list_PC\n",
      "https://travel.ettoday.net/article/2362292.htm?from=travel_Tag_list_PC\n",
      "https://travel.ettoday.net/article/2361089.htm?from=travel_Tag_list_PC\n",
      "https://travel.ettoday.net/article/2355854.htm?from=travel_Tag_list_PC\n",
      "https://travel.ettoday.net/article/2354921.htm?from=travel_Tag_list_PC\n",
      "https://travel.ettoday.net/article/2357514.htm?from=travel_Tag_list_PC\n",
      "https://travel.ettoday.net/article/2356031.htm?from=travel_Tag_list_PC\n",
      "https://travel.ettoday.net/article/2355914.htm?from=travel_Tag_list_PC\n",
      "https://travel.ettoday.net/article/2355804.htm?from=travel_Tag_list_PC\n",
      "https://travel.ettoday.net/article/2354766.htm?from=travel_Tag_list_PC\n",
      "https://travel.ettoday.net/article/2353095.htm?from=travel_Tag_list_PC\n",
      "https://travel.ettoday.net/article/2353670.htm?from=travel_Tag_list_PC\n",
      "https://travel.ettoday.net/article/2353510.htm?from=travel_Tag_list_PC\n",
      "https://travel.ettoday.net/article/2352617.htm?from=travel_Tag_list_PC\n",
      "https://travel.ettoday.net/article/2347604.htm?from=travel_Tag_list_PC\n",
      "https://travel.ettoday.net/article/2347640.htm?from=travel_Tag_list_PC\n"
     ]
    }
   ],
   "source": [
    "#利用get()取得href屬性值中的網址\n",
    "titles = soup.find_all(\"h3\", itemprop=\"headline\")\n",
    "for title in titles:\n",
    "    print(title.select_one(\"a\").get(\"href\"))"
   ]
  },
  {
   "cell_type": "code",
   "execution_count": 33,
   "id": "3c48136d",
   "metadata": {},
   "outputs": [
    {
     "name": "stdout",
     "output_type": "stream",
     "text": [
      "席夢思一夜好眠！開箱台北藝廊式飯店　夜遊浪漫書店喝咖啡耍Chill\n",
      "「皮卡丘彩繪列車」今啟航！北捷紅線限定　打卡攻略一起看\n",
      "「飛翔皮卡丘」明登場！來找帕奇利茲　爆炸頭皮卡丘跳舞免費看\n",
      "捷絲旅住宿券下殺2折！全台8館都能用　住泳池飯店每人1150起含早\n",
      "北投溫泉季10／27開跑！泡湯買1送1「野營體驗、星空影院」都免費\n",
      "圓山「菁英環景套房」一生必去一次！無敵視野俯瞰大台北＋密道行程\n",
      "秋日落下一場「黃金雨」！北市7路段都有台灣欒樹　最美地點在這\n",
      "把握秋季限定美景！滿山谷紅楓葉超壯麗　金瓜石夢幻芒草雪景來襲\n",
      "北市新亮點！「蒂芬尼拱門、4米藝術牆」超好拍　繡學號工廠2.0版\n",
      "史上最大規模！「2023台灣燈會」2／5回歸台北　4大燈區亮點、時間\n",
      "寶可夢來了！「5大區域」先筆記　皮卡丘霓虹牆、彩蛋藏在這\n",
      "全台4處療癒溫泉地！森林系湯屋看山泡湯　巨型「鍋物湯屋」超好拍\n",
      "只有3天！北市2市集「逾百攤好吃好逛」巨無霸芋圓、牛肉御守燒\n",
      "免抽獎「直接送機票」！住晶華送台北-新加坡機票　開搶時間曝光\n",
      "醉了就上樓睡！一層一酒莊、百坪露天風呂　秋日2微醺飯店度假\n",
      "壽星免費玩整天！兒童新樂園「雙十優惠」只有3天　暢玩13項設施\n",
      "老宅新生懷舊再現！盤點北部六間特色民宿　天井、磨石樓梯超復古\n",
      "吸收書香氣息！精選北部五大特色圖書館　邊讀書邊享受田園風光\n"
     ]
    }
   ],
   "source": [
    "#取得<a>標籤的連結文字\n",
    "titles = soup.find_all(\"h3\", itemprop=\"headline\")\n",
    "for title in titles:\n",
    "    print(title.select_one(\"a\").getText())"
   ]
  },
  {
   "cell_type": "code",
   "execution_count": 14,
   "id": "8323c8ad",
   "metadata": {},
   "outputs": [],
   "source": [
    "#python save dataframe to csv\n",
    "\n",
    "import csv\n",
    "\n",
    "# field names \n",
    "fields = ['Name', 'Internet site'] \n",
    "\n",
    "# data rows of csv file\n",
    "rows = ['b','a']\n",
    "\n"
   ]
  },
  {
   "cell_type": "code",
   "execution_count": 31,
   "id": "417a0b59",
   "metadata": {},
   "outputs": [
    {
     "name": "stdout",
     "output_type": "stream",
     "text": [
      "https://travel.ettoday.net/article/2347640.htm?from=travel_Tag_list_PC\n",
      "吸收書香氣息！精選北部五大特色圖書館　邊讀書邊享受田園風光\n",
      "{'Name': 'b', 'Internet site': 'a'}\n"
     ]
    }
   ],
   "source": [
    "a = {print(title.select_one(\"a\").get(\"href\"))}\n",
    "b = {print(title.select_one(\"a\").getText())}\n",
    "import json\n",
    "\n",
    "d = {\"Name\":\"b\",\n",
    "    \"Internet site\":\"a\"}\n",
    "print(d)"
   ]
  },
  {
   "cell_type": "code",
   "execution_count": null,
   "id": "5c20a3f4",
   "metadata": {},
   "outputs": [],
   "source": []
  }
 ],
 "metadata": {
  "kernelspec": {
   "display_name": "Python 3 (ipykernel)",
   "language": "python",
   "name": "python3"
  },
  "language_info": {
   "codemirror_mode": {
    "name": "ipython",
    "version": 3
   },
   "file_extension": ".py",
   "mimetype": "text/x-python",
   "name": "python",
   "nbconvert_exporter": "python",
   "pygments_lexer": "ipython3",
   "version": "3.9.12"
  }
 },
 "nbformat": 4,
 "nbformat_minor": 5
}
