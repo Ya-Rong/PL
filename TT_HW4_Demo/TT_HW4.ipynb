{
 "cells": [
  {
   "cell_type": "code",
   "execution_count": 4,
   "id": "de201ac9",
   "metadata": {},
   "outputs": [
    {
     "name": "stdout",
     "output_type": "stream",
     "text": [
      "Requirement already satisfied: pymongo in c:\\programdata\\anaconda3\\lib\\site-packages (4.3.3)\n",
      "Requirement already satisfied: dnspython<3.0.0,>=1.16.0 in c:\\programdata\\anaconda3\\lib\\site-packages (from pymongo) (2.2.1)\n"
     ]
    }
   ],
   "source": [
    "!pip3 install pymongo"
   ]
  },
  {
   "cell_type": "code",
   "execution_count": 6,
   "id": "d4d6f2e9",
   "metadata": {},
   "outputs": [],
   "source": [
    "from pymongo import MongoClient"
   ]
  },
  {
   "cell_type": "code",
   "execution_count": 7,
   "id": "8c50979f",
   "metadata": {},
   "outputs": [],
   "source": [
    "url = 'mongodb://localhost:27017'\n",
    "client = MongoClient(url)"
   ]
  },
  {
   "cell_type": "code",
   "execution_count": 8,
   "id": "36540483",
   "metadata": {},
   "outputs": [
    {
     "data": {
      "text/plain": [
       "['admin', 'config', 'local']"
      ]
     },
     "execution_count": 8,
     "metadata": {},
     "output_type": "execute_result"
    }
   ],
   "source": [
    "# client 底下那層就是database\n",
    "client.list_database_names()"
   ]
  },
  {
   "cell_type": "code",
   "execution_count": 10,
   "id": "f2cfe790",
   "metadata": {},
   "outputs": [],
   "source": [
    "## 連接 Database\n",
    "db = client['HW4']"
   ]
  },
  {
   "cell_type": "code",
   "execution_count": 11,
   "id": "cf269042",
   "metadata": {},
   "outputs": [],
   "source": [
    "## 連接 collection\n",
    "col = db['pchome_crawler']"
   ]
  },
  {
   "cell_type": "code",
   "execution_count": 13,
   "id": "72a3396b",
   "metadata": {},
   "outputs": [
    {
     "data": {
      "text/plain": [
       "<pymongo.results.InsertOneResult at 0x1d22ef84460>"
      ]
     },
     "execution_count": 13,
     "metadata": {},
     "output_type": "execute_result"
    }
   ],
   "source": [
    "col.insert_one({\n",
    "    'id': 1,\n",
    "    'Name':'台師大科技系pecuLab教戰守則',\n",
    "    'Price':78.87\n",
    "})"
   ]
  },
  {
   "cell_type": "markdown",
   "id": "fa0f6a8c",
   "metadata": {},
   "source": [
    "## 流程\n",
    "* 先去 pchome 爬蟲\n",
    "* 資料拉下來存進 python 變數後 (a = requests.get())\n",
    "* 處理資料\n",
    "* 存進 mongodb"
   ]
  },
  {
   "cell_type": "code",
   "execution_count": null,
   "id": "aa1aeb2a",
   "metadata": {},
   "outputs": [],
   "source": [
    "import requests"
   ]
  },
  {
   "cell_type": "code",
   "execution_count": null,
   "id": "07a8350d",
   "metadata": {},
   "outputs": [],
   "source": [
    "# F12 先看 preview0d4j看網址內有啥\n",
    "url = ''"
   ]
  },
  {
   "cell_type": "code",
   "execution_count": null,
   "id": "e92d2b7f",
   "metadata": {},
   "outputs": [],
   "source": [
    "a = requests.get(url)"
   ]
  },
  {
   "cell_type": "code",
   "execution_count": null,
   "id": "768ca171",
   "metadata": {},
   "outputs": [],
   "source": [
    "a"
   ]
  },
  {
   "cell_type": "code",
   "execution_count": null,
   "id": "75187a3e",
   "metadata": {},
   "outputs": [],
   "source": [
    "result = a.json()"
   ]
  },
  {
   "cell_type": "code",
   "execution_count": null,
   "id": "31b388ec",
   "metadata": {},
   "outputs": [],
   "source": [
    "col.insert_many(resul['prods'])"
   ]
  },
  {
   "cell_type": "code",
   "execution_count": null,
   "id": "5b8cfbf7",
   "metadata": {},
   "outputs": [],
   "source": [
    "results.keys()"
   ]
  },
  {
   "cell_type": "code",
   "execution_count": null,
   "id": "c01e756c",
   "metadata": {},
   "outputs": [],
   "source": [
    "result['prods']"
   ]
  },
  {
   "cell_type": "code",
   "execution_count": null,
   "id": "fe8745c3",
   "metadata": {},
   "outputs": [],
   "source": [
    "type(result['prods'])"
   ]
  },
  {
   "cell_type": "code",
   "execution_count": null,
   "id": "4a8f391a",
   "metadata": {},
   "outputs": [],
   "source": []
  },
  {
   "cell_type": "code",
   "execution_count": null,
   "id": "fa46b785",
   "metadata": {},
   "outputs": [],
   "source": []
  }
 ],
 "metadata": {
  "kernelspec": {
   "display_name": "Python 3 (ipykernel)",
   "language": "python",
   "name": "python3"
  },
  "language_info": {
   "codemirror_mode": {
    "name": "ipython",
    "version": 3
   },
   "file_extension": ".py",
   "mimetype": "text/x-python",
   "name": "python",
   "nbconvert_exporter": "python",
   "pygments_lexer": "ipython3",
   "version": "3.9.12"
  }
 },
 "nbformat": 4,
 "nbformat_minor": 5
}
