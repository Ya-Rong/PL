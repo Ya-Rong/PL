{
 "cells": [
  {
   "cell_type": "markdown",
   "id": "1afa8dfd",
   "metadata": {},
   "source": [
    "## 用文字探勘方式找出臺灣各縣市自行車道路難度指數分布狀況與共同特性"
   ]
  },
  {
   "cell_type": "markdown",
   "id": "d650c6e1",
   "metadata": {},
   "source": [
    "### 各縣市自行車道路資訊"
   ]
  },
  {
   "cell_type": "code",
   "execution_count": 204,
   "id": "38855726",
   "metadata": {},
   "outputs": [],
   "source": [
    "import jieba\n",
    "import jieba.analyse\n",
    "import pandas as pd\n",
    "import numpy\n",
    "from collections import Counter"
   ]
  },
  {
   "cell_type": "code",
   "execution_count": 205,
   "id": "bab4135f",
   "metadata": {},
   "outputs": [],
   "source": [
    "orgdata = pd.read_csv('bike_road_list_pandas.csv')"
   ]
  },
  {
   "cell_type": "code",
   "execution_count": 206,
   "id": "3590efa3",
   "metadata": {},
   "outputs": [
    {
     "data": {
      "text/html": [
       "<div>\n",
       "<style scoped>\n",
       "    .dataframe tbody tr th:only-of-type {\n",
       "        vertical-align: middle;\n",
       "    }\n",
       "\n",
       "    .dataframe tbody tr th {\n",
       "        vertical-align: top;\n",
       "    }\n",
       "\n",
       "    .dataframe thead th {\n",
       "        text-align: right;\n",
       "    }\n",
       "</style>\n",
       "<table border=\"1\" class=\"dataframe\">\n",
       "  <thead>\n",
       "    <tr style=\"text-align: right;\">\n",
       "      <th></th>\n",
       "      <th>縣市</th>\n",
       "      <th>自行車道路名稱</th>\n",
       "      <th>簡介</th>\n",
       "      <th>挑戰指數</th>\n",
       "      <th>總計長度</th>\n",
       "      <th>路面狀況</th>\n",
       "      <th>重點提醒</th>\n",
       "    </tr>\n",
       "  </thead>\n",
       "  <tbody>\n",
       "    <tr>\n",
       "      <th>0</th>\n",
       "      <td>台北市</td>\n",
       "      <td>基隆河沿岸自行車道</td>\n",
       "      <td>曾幾何時，基隆河已不再是水患的根源地，她廣袤的河濱腹地，已成為台北市的「城市之肺」，在有計畫...</td>\n",
       "      <td>2級。適合有中程騎乘經驗者。</td>\n",
       "      <td>左岸全長為18.1公里，右岸全長17.6公里。出入口多，可隨喜好選擇騎乘段落。</td>\n",
       "      <td>多為柏油路，平整好騎。且為自行車專用道，安全無虞。</td>\n",
       "      <td>可由大直橋銜接兩岸，但建議親子同遊時左右岸分日完成，遊程約安排在3小時上下，以免消耗太多體力。</td>\n",
       "    </tr>\n",
       "    <tr>\n",
       "      <th>1</th>\n",
       "      <td>台北市</td>\n",
       "      <td>景美舊橋至社子島自行車道</td>\n",
       "      <td>台北的自行車網路極為綿密，沿著汀州路防洪壁的任何一道水門走出去，都可以通往景美溪自行車道，以...</td>\n",
       "      <td>3級。若要騎完全程，則適合有長途經驗者。</td>\n",
       "      <td>由景美舊橋至社子島，全長27.08公里，出入口多，可隨喜好選擇段落騎乘。</td>\n",
       "      <td>全程柏油路面無坑洞，平整好騎，且騎經多處河濱公園，不愁沒地方休息。</td>\n",
       "      <td>該路段適合親子共騎，各租借站亦有童車可出租。惟路程較長，需注意幼兒的體能狀況。</td>\n",
       "    </tr>\n",
       "    <tr>\n",
       "      <th>2</th>\n",
       "      <td>新北市</td>\n",
       "      <td>八里左岸自行車道</td>\n",
       "      <td>您知道嗎？從二重疏洪道有條風景優美的自行車道，可以一直騎到八里左岸喔！二重疏洪道有多座規劃完...</td>\n",
       "      <td>3級。若欲騎完全程，建議有長途騎乘經驗較佳。</td>\n",
       "      <td>全程25公里，出入口多可隨喜好選擇騎乘段落。</td>\n",
       "      <td>多為柏油路，平整好騎，且人車分道，安全無虞。</td>\n",
       "      <td>建議親子同遊時，八里與二重疏洪道路分日完成，遊程約安排在3小時上下，以免消耗太多體力。</td>\n",
       "    </tr>\n",
       "    <tr>\n",
       "      <th>3</th>\n",
       "      <td>新北市</td>\n",
       "      <td>大漢溪右岸新店土城線</td>\n",
       "      <td>大漢、新店溪的河濱公園是附近居民散步休閒的最佳空間。這條自行車道橫跨了新店、永和、板橋、土城...</td>\n",
       "      <td>3級。若欲騎完全程，建議有長途騎乘經驗較佳。</td>\n",
       "      <td>大漢溪右岸、新店至土城30公里，出入口多，可隨喜好選擇騎乘段落。</td>\n",
       "      <td>多為柏油路，平整好騎，且人車分道，安全無虞。</td>\n",
       "      <td>光復賞鳥公園有自行車天橋可利用，惟上下坡時需注意安全。河濱公園內較無販賣部，部分定點於租借站...</td>\n",
       "    </tr>\n",
       "    <tr>\n",
       "      <th>4</th>\n",
       "      <td>基隆市</td>\n",
       "      <td>北寧路自行車道</td>\n",
       "      <td>北寧路自行車道是由八斗子海濱公園，一直到平浪橋的這段自行車道。此段路程風光明媚，海天相伴，美...</td>\n",
       "      <td>1級。適合親子共遊，但上下橋請注意兒童安全。</td>\n",
       "      <td>從平浪橋段經潮境公園至八斗子海濱公園。全長2公里。</td>\n",
       "      <td>平整好騎。平浪橋有上坡，需有耐力。下坡時需注意安全。</td>\n",
       "      <td>全程無樹蔭，要注意防曬。附近無租車店家，需準備自行車。</td>\n",
       "    </tr>\n",
       "  </tbody>\n",
       "</table>\n",
       "</div>"
      ],
      "text/plain": [
       "    縣市       自行車道路名稱                                                 簡介  \\\n",
       "0  台北市     基隆河沿岸自行車道  曾幾何時，基隆河已不再是水患的根源地，她廣袤的河濱腹地，已成為台北市的「城市之肺」，在有計畫...   \n",
       "1  台北市  景美舊橋至社子島自行車道  台北的自行車網路極為綿密，沿著汀州路防洪壁的任何一道水門走出去，都可以通往景美溪自行車道，以...   \n",
       "2  新北市      八里左岸自行車道  您知道嗎？從二重疏洪道有條風景優美的自行車道，可以一直騎到八里左岸喔！二重疏洪道有多座規劃完...   \n",
       "3  新北市    大漢溪右岸新店土城線  大漢、新店溪的河濱公園是附近居民散步休閒的最佳空間。這條自行車道橫跨了新店、永和、板橋、土城...   \n",
       "4  基隆市       北寧路自行車道  北寧路自行車道是由八斗子海濱公園，一直到平浪橋的這段自行車道。此段路程風光明媚，海天相伴，美...   \n",
       "\n",
       "                     挑戰指數                                     總計長度  \\\n",
       "0          2級。適合有中程騎乘經驗者。  左岸全長為18.1公里，右岸全長17.6公里。出入口多，可隨喜好選擇騎乘段落。   \n",
       "1    3級。若要騎完全程，則適合有長途經驗者。     由景美舊橋至社子島，全長27.08公里，出入口多，可隨喜好選擇段落騎乘。   \n",
       "2  3級。若欲騎完全程，建議有長途騎乘經驗較佳。                   全程25公里，出入口多可隨喜好選擇騎乘段落。   \n",
       "3  3級。若欲騎完全程，建議有長途騎乘經驗較佳。         大漢溪右岸、新店至土城30公里，出入口多，可隨喜好選擇騎乘段落。   \n",
       "4  1級。適合親子共遊，但上下橋請注意兒童安全。                從平浪橋段經潮境公園至八斗子海濱公園。全長2公里。   \n",
       "\n",
       "                                路面狀況  \\\n",
       "0          多為柏油路，平整好騎。且為自行車專用道，安全無虞。   \n",
       "1  全程柏油路面無坑洞，平整好騎，且騎經多處河濱公園，不愁沒地方休息。   \n",
       "2             多為柏油路，平整好騎，且人車分道，安全無虞。   \n",
       "3             多為柏油路，平整好騎，且人車分道，安全無虞。   \n",
       "4         平整好騎。平浪橋有上坡，需有耐力。下坡時需注意安全。   \n",
       "\n",
       "                                                重點提醒  \n",
       "0    可由大直橋銜接兩岸，但建議親子同遊時左右岸分日完成，遊程約安排在3小時上下，以免消耗太多體力。  \n",
       "1            該路段適合親子共騎，各租借站亦有童車可出租。惟路程較長，需注意幼兒的體能狀況。  \n",
       "2        建議親子同遊時，八里與二重疏洪道路分日完成，遊程約安排在3小時上下，以免消耗太多體力。  \n",
       "3  光復賞鳥公園有自行車天橋可利用，惟上下坡時需注意安全。河濱公園內較無販賣部，部分定點於租借站...  \n",
       "4                        全程無樹蔭，要注意防曬。附近無租車店家，需準備自行車。  "
      ]
     },
     "execution_count": 206,
     "metadata": {},
     "output_type": "execute_result"
    }
   ],
   "source": [
    "orgdata.head()"
   ]
  },
  {
   "cell_type": "code",
   "execution_count": 207,
   "id": "ec6eb345",
   "metadata": {},
   "outputs": [
    {
     "name": "stdout",
     "output_type": "stream",
     "text": [
      "我/是/國立臺灣師範大學/科技系/二年級/吳亞蓉\n"
     ]
    }
   ],
   "source": [
    "documents = ['我是國立臺灣師範大學科技系二年級吳亞蓉']\n",
    "# 精確模式\n",
    "for sentence in documents:\n",
    "    seg_list = jieba.cut(sentence)\n",
    "    print('/'.join(seg_list))"
   ]
  },
  {
   "cell_type": "code",
   "execution_count": 208,
   "id": "6c014acb",
   "metadata": {},
   "outputs": [
    {
     "name": "stdout",
     "output_type": "stream",
     "text": [
      "我/是/國立臺灣師範大學/科技系/二年級/吳亞蓉\n"
     ]
    }
   ],
   "source": [
    "jieba.load_userdict('./userdict.txt') #userdict 自己的斷詞字典(自己建立)\n",
    "\n",
    "for sentence in documents: #從文章中取出第一句話\n",
    "    seg_list = jieba.cut(sentence) #用結巴 cut 斷詞\n",
    "    print('/'.join(seg_list)) #並將斷詞用 / 隔開"
   ]
  },
  {
   "cell_type": "code",
   "execution_count": 209,
   "id": "f27674cd",
   "metadata": {},
   "outputs": [
    {
     "data": {
      "text/html": [
       "<div>\n",
       "<style scoped>\n",
       "    .dataframe tbody tr th:only-of-type {\n",
       "        vertical-align: middle;\n",
       "    }\n",
       "\n",
       "    .dataframe tbody tr th {\n",
       "        vertical-align: top;\n",
       "    }\n",
       "\n",
       "    .dataframe thead th {\n",
       "        text-align: right;\n",
       "    }\n",
       "</style>\n",
       "<table border=\"1\" class=\"dataframe\">\n",
       "  <thead>\n",
       "    <tr style=\"text-align: right;\">\n",
       "      <th></th>\n",
       "      <th>縣市</th>\n",
       "      <th>自行車道路名稱</th>\n",
       "      <th>簡介</th>\n",
       "      <th>挑戰指數</th>\n",
       "      <th>總計長度</th>\n",
       "      <th>路面狀況</th>\n",
       "      <th>重點提醒</th>\n",
       "      <th>seg</th>\n",
       "    </tr>\n",
       "  </thead>\n",
       "  <tbody>\n",
       "    <tr>\n",
       "      <th>0</th>\n",
       "      <td>台北市</td>\n",
       "      <td>基隆河沿岸自行車道</td>\n",
       "      <td>曾幾何時，基隆河已不再是水患的根源地，她廣袤的河濱腹地，已成為台北市的「城市之肺」，在有計畫...</td>\n",
       "      <td>2級。適合有中程騎乘經驗者。</td>\n",
       "      <td>左岸全長為18.1公里，右岸全長17.6公里。出入口多，可隨喜好選擇騎乘段落。</td>\n",
       "      <td>多為柏油路，平整好騎。且為自行車專用道，安全無虞。</td>\n",
       "      <td>可由大直橋銜接兩岸，但建議親子同遊時左右岸分日完成，遊程約安排在3小時上下，以免消耗太多體力。</td>\n",
       "      <td></td>\n",
       "    </tr>\n",
       "    <tr>\n",
       "      <th>1</th>\n",
       "      <td>台北市</td>\n",
       "      <td>景美舊橋至社子島自行車道</td>\n",
       "      <td>台北的自行車網路極為綿密，沿著汀州路防洪壁的任何一道水門走出去，都可以通往景美溪自行車道，以...</td>\n",
       "      <td>3級。若要騎完全程，則適合有長途經驗者。</td>\n",
       "      <td>由景美舊橋至社子島，全長27.08公里，出入口多，可隨喜好選擇段落騎乘。</td>\n",
       "      <td>全程柏油路面無坑洞，平整好騎，且騎經多處河濱公園，不愁沒地方休息。</td>\n",
       "      <td>該路段適合親子共騎，各租借站亦有童車可出租。惟路程較長，需注意幼兒的體能狀況。</td>\n",
       "      <td></td>\n",
       "    </tr>\n",
       "    <tr>\n",
       "      <th>2</th>\n",
       "      <td>新北市</td>\n",
       "      <td>八里左岸自行車道</td>\n",
       "      <td>您知道嗎？從二重疏洪道有條風景優美的自行車道，可以一直騎到八里左岸喔！二重疏洪道有多座規劃完...</td>\n",
       "      <td>3級。若欲騎完全程，建議有長途騎乘經驗較佳。</td>\n",
       "      <td>全程25公里，出入口多可隨喜好選擇騎乘段落。</td>\n",
       "      <td>多為柏油路，平整好騎，且人車分道，安全無虞。</td>\n",
       "      <td>建議親子同遊時，八里與二重疏洪道路分日完成，遊程約安排在3小時上下，以免消耗太多體力。</td>\n",
       "      <td></td>\n",
       "    </tr>\n",
       "    <tr>\n",
       "      <th>3</th>\n",
       "      <td>新北市</td>\n",
       "      <td>大漢溪右岸新店土城線</td>\n",
       "      <td>大漢、新店溪的河濱公園是附近居民散步休閒的最佳空間。這條自行車道橫跨了新店、永和、板橋、土城...</td>\n",
       "      <td>3級。若欲騎完全程，建議有長途騎乘經驗較佳。</td>\n",
       "      <td>大漢溪右岸、新店至土城30公里，出入口多，可隨喜好選擇騎乘段落。</td>\n",
       "      <td>多為柏油路，平整好騎，且人車分道，安全無虞。</td>\n",
       "      <td>光復賞鳥公園有自行車天橋可利用，惟上下坡時需注意安全。河濱公園內較無販賣部，部分定點於租借站...</td>\n",
       "      <td></td>\n",
       "    </tr>\n",
       "    <tr>\n",
       "      <th>4</th>\n",
       "      <td>基隆市</td>\n",
       "      <td>北寧路自行車道</td>\n",
       "      <td>北寧路自行車道是由八斗子海濱公園，一直到平浪橋的這段自行車道。此段路程風光明媚，海天相伴，美...</td>\n",
       "      <td>1級。適合親子共遊，但上下橋請注意兒童安全。</td>\n",
       "      <td>從平浪橋段經潮境公園至八斗子海濱公園。全長2公里。</td>\n",
       "      <td>平整好騎。平浪橋有上坡，需有耐力。下坡時需注意安全。</td>\n",
       "      <td>全程無樹蔭，要注意防曬。附近無租車店家，需準備自行車。</td>\n",
       "      <td></td>\n",
       "    </tr>\n",
       "  </tbody>\n",
       "</table>\n",
       "</div>"
      ],
      "text/plain": [
       "    縣市       自行車道路名稱                                                 簡介  \\\n",
       "0  台北市     基隆河沿岸自行車道  曾幾何時，基隆河已不再是水患的根源地，她廣袤的河濱腹地，已成為台北市的「城市之肺」，在有計畫...   \n",
       "1  台北市  景美舊橋至社子島自行車道  台北的自行車網路極為綿密，沿著汀州路防洪壁的任何一道水門走出去，都可以通往景美溪自行車道，以...   \n",
       "2  新北市      八里左岸自行車道  您知道嗎？從二重疏洪道有條風景優美的自行車道，可以一直騎到八里左岸喔！二重疏洪道有多座規劃完...   \n",
       "3  新北市    大漢溪右岸新店土城線  大漢、新店溪的河濱公園是附近居民散步休閒的最佳空間。這條自行車道橫跨了新店、永和、板橋、土城...   \n",
       "4  基隆市       北寧路自行車道  北寧路自行車道是由八斗子海濱公園，一直到平浪橋的這段自行車道。此段路程風光明媚，海天相伴，美...   \n",
       "\n",
       "                     挑戰指數                                     總計長度  \\\n",
       "0          2級。適合有中程騎乘經驗者。  左岸全長為18.1公里，右岸全長17.6公里。出入口多，可隨喜好選擇騎乘段落。   \n",
       "1    3級。若要騎完全程，則適合有長途經驗者。     由景美舊橋至社子島，全長27.08公里，出入口多，可隨喜好選擇段落騎乘。   \n",
       "2  3級。若欲騎完全程，建議有長途騎乘經驗較佳。                   全程25公里，出入口多可隨喜好選擇騎乘段落。   \n",
       "3  3級。若欲騎完全程，建議有長途騎乘經驗較佳。         大漢溪右岸、新店至土城30公里，出入口多，可隨喜好選擇騎乘段落。   \n",
       "4  1級。適合親子共遊，但上下橋請注意兒童安全。                從平浪橋段經潮境公園至八斗子海濱公園。全長2公里。   \n",
       "\n",
       "                                路面狀況  \\\n",
       "0          多為柏油路，平整好騎。且為自行車專用道，安全無虞。   \n",
       "1  全程柏油路面無坑洞，平整好騎，且騎經多處河濱公園，不愁沒地方休息。   \n",
       "2             多為柏油路，平整好騎，且人車分道，安全無虞。   \n",
       "3             多為柏油路，平整好騎，且人車分道，安全無虞。   \n",
       "4         平整好騎。平浪橋有上坡，需有耐力。下坡時需注意安全。   \n",
       "\n",
       "                                                重點提醒 seg  \n",
       "0    可由大直橋銜接兩岸，但建議親子同遊時左右岸分日完成，遊程約安排在3小時上下，以免消耗太多體力。      \n",
       "1            該路段適合親子共騎，各租借站亦有童車可出租。惟路程較長，需注意幼兒的體能狀況。      \n",
       "2        建議親子同遊時，八里與二重疏洪道路分日完成，遊程約安排在3小時上下，以免消耗太多體力。      \n",
       "3  光復賞鳥公園有自行車天橋可利用，惟上下坡時需注意安全。河濱公園內較無販賣部，部分定點於租借站...      \n",
       "4                        全程無樹蔭，要注意防曬。附近無租車店家，需準備自行車。      "
      ]
     },
     "execution_count": 209,
     "metadata": {},
     "output_type": "execute_result"
    }
   ],
   "source": [
    "orgdata['seg'] = \"\"\n",
    "orgdata.head()"
   ]
  },
  {
   "cell_type": "code",
   "execution_count": 210,
   "id": "0f6a938d",
   "metadata": {},
   "outputs": [],
   "source": [
    "jieba.analyse.set_stop_words('stopwords.txt') #stopwords 自己不要的字的字典(自己建立)\n",
    "index = 0\n",
    "for documents in orgdata['路面狀況']: #從 csv. 檔中的 JOB_DETAIL 欄位中找尋資料\n",
    "    seg_list = jieba.analyse.extract_tags(documents, 150) #150 為前150個權重最高的單詞\n",
    "    #seg_list = jieba.lcut(documents)\n",
    "    orgdata['seg'].iloc[index] = seg_list\n",
    "    index += 1"
   ]
  },
  {
   "cell_type": "code",
   "execution_count": 211,
   "id": "fa107bb1",
   "metadata": {},
   "outputs": [],
   "source": [
    "jieba.load_userdict('./userdict.txt')\n",
    "jieba.analyse.set_stop_words('stopwords.txt')\n",
    "index = 0\n",
    "for documents in orgdata['路面狀況']: #從 csv. 檔中的 JOB_DETAIL 欄位中找尋資料\n",
    "    seg_list = jieba.analyse.extract_tags(documents, 150) #150 為前150個權重最高的單詞\n",
    "    #seg_list = jieba.lcut(documents)\n",
    "    orgdata['seg'].iloc[index] = seg_list\n",
    "    index += 1"
   ]
  },
  {
   "cell_type": "code",
   "execution_count": 212,
   "id": "625ea267",
   "metadata": {},
   "outputs": [
    {
     "data": {
      "text/plain": [
       "0                           [好騎, 自行車專用道, 安全無虞, 柏油路, 平整]\n",
       "1                 [柏油路面, 好騎, 經多處, 河濱公園, 坑洞, 平整, 休息, 地方]\n",
       "2                             [好騎, 人車分道, 安全無虞, 柏油路, 平整]\n",
       "3                             [好騎, 人車分道, 安全無虞, 柏油路, 平整]\n",
       "4                         [好騎, 平浪橋, 耐力, 上坡, 下坡, 平整, 安全]\n",
       "5                         [有護欄, 濱海, 舒暢, 愜意, 坑洞, 平整, 沿海]\n",
       "6                                      [柏油路面, 人車分道, 平整]\n",
       "7                                           [木棧道, AC路面]\n",
       "8                                   [木棧道, 柏油路面, 好騎, 平坦]\n",
       "9                                  [環湖, 好騎, 寬敞, 平坦, 公路]\n",
       "10                            [柏油路面, 人車分道, 防風林, 筆直, 平整]\n",
       "11                                     [綠蔭, 遮陽, 防蚊, 水泥]\n",
       "12                               [上坡路, 平順, 足夠, 體力, 柏油路]\n",
       "13                     [汽車, 進入, 自行車專用道, 好騎, 沿路, 禁止, 安全]\n",
       "14        [柏油路面, 寬敞, 東豐, 車綠廊, 綠蔭, 遮陽, 豐鐵馬道, 防曬, 而后, 自行]\n",
       "15    [大智, 大學, 旅是, 中興大學, 正門, 公園, 旅則, 東光園道, 漫遊, 旱溪老街,...\n",
       "16                                     [地圖, 補給, 平整, 商家]\n",
       "17    [依循, 車道, 比鄰, 車專屬, 空間, 標示, 旅人, 迷路, 蜿蜒, 不致, 山路, ...\n",
       "18          [水泥, 鋪設, 柏油路面, 並設, 多個, 涼亭, 停車區, 路滑, 青苔, 有些]\n",
       "19                                           [20.8, 公里]\n",
       "20                                   [舊中潭, 柏油路, 平坦, 公路]\n",
       "21                                                [柏油路]\n",
       "22                   [安國小前, 標示, 無坡, 防汛, 共用, 平坦, 完整, 公里]\n",
       "23                             [好騎, 涼亭, 同遊, 改建, 全家, 平坦]\n",
       "24                                           [柏油路面, 平穩]\n",
       "25    [車道, 舊鐵道, 鐵軌, 兩側, 綠化植, 景觀, 涼亭, 遊憩, 設施, 枕木, 碎石,...\n",
       "26                           [環潭, 好騎, 林蔭, 風光明媚, 平坦, 公路]\n",
       "27                       [柏油路面, 騎起, 感覺, 拉力, 石子, 登山, 水泥]\n",
       "28                       [柏油路面, 自行車專用道, 車輛, 水泥, 注意, 其他]\n",
       "29                                   [柏油路面, 順暢, 標誌, 平整]\n",
       "30                                  [沿運河, 柏油路面, 舒適, 照明]\n",
       "31                                    [連鎖磚, 平整, 照明, 良好]\n",
       "32                                   [自行車專用道, 木棧道, 柏油路]\n",
       "33                                   [設施眾, 指標, 條優質, 公共]\n",
       "34         [美濃, 顏色分類, 標線, 同樣, 顏色, 迷失方向, 路旁, 不致, 依照, 所以]\n",
       "35         [美濃, 顏色分類, 標線, 同樣, 顏色, 迷失方向, 路旁, 不致, 依照, 所以]\n",
       "36                                       [柏油路面, 好騎, 平坦]\n",
       "37                        [筆直, 柏油路面, 路標, 略有不足, 需準備, 地圖]\n",
       "38                                  [柏油路面, 有橋面, 遮蔭, 水泥]\n",
       "39                          [優質, 柏油路面, 社區, 有樹蔭, 愜意, 珍珠]\n",
       "40                   [平穩, 好騎, 遼闊, 海風大, 柏油, 太平洋, 安全, 就是]\n",
       "41                                       [柏油路面, 好騎, 平坦]\n",
       "42                [此路線, 為遊, 客遊, 花蓮, 景點, 維持, 路標, 已成, 清楚]\n",
       "43                                       [柏油路面, 好騎, 平坦]\n",
       "44           [鋪設, 中間則, 紅色, 磚塊區, 雙向, 車道, 自行車專用道, 柏油, 隔成]\n",
       "45                           [非獨立, 車輛, 寬敞, 好騎, 柏油路, 平整]\n",
       "46                                        [指標, 柏油路, 分叉]\n",
       "47                                    [國家級, 好騎, 平坦, 良好]\n",
       "48                                    [國家級, 好騎, 平坦, 良好]\n",
       "49                                        [樹林間, 涼爽, 好騎]\n",
       "Name: seg, dtype: object"
      ]
     },
     "execution_count": 212,
     "metadata": {},
     "output_type": "execute_result"
    }
   ],
   "source": [
    "orgdata['seg']"
   ]
  },
  {
   "cell_type": "code",
   "execution_count": 213,
   "id": "441d505c",
   "metadata": {},
   "outputs": [],
   "source": [
    "level_split = orgdata['挑戰指數'].iloc[0].split('。')"
   ]
  },
  {
   "cell_type": "code",
   "execution_count": 214,
   "id": "e740754e",
   "metadata": {},
   "outputs": [
    {
     "data": {
      "text/plain": [
       "'2級'"
      ]
     },
     "execution_count": 214,
     "metadata": {},
     "output_type": "execute_result"
    }
   ],
   "source": [
    "level_split[0]"
   ]
  },
  {
   "cell_type": "code",
   "execution_count": 215,
   "id": "32abf8e8",
   "metadata": {},
   "outputs": [],
   "source": [
    "orgdata['等級'] = \"\"\n",
    "index = 0\n",
    "for documents in orgdata['挑戰指數']:\n",
    "    level_split = documents.split('。')\n",
    "    orgdata['等級'].iloc[index] = level_split[0]\n",
    "    index += 1"
   ]
  },
  {
   "cell_type": "code",
   "execution_count": 216,
   "id": "f26b12ce",
   "metadata": {},
   "outputs": [
    {
     "data": {
      "text/html": [
       "<div>\n",
       "<style scoped>\n",
       "    .dataframe tbody tr th:only-of-type {\n",
       "        vertical-align: middle;\n",
       "    }\n",
       "\n",
       "    .dataframe tbody tr th {\n",
       "        vertical-align: top;\n",
       "    }\n",
       "\n",
       "    .dataframe thead th {\n",
       "        text-align: right;\n",
       "    }\n",
       "</style>\n",
       "<table border=\"1\" class=\"dataframe\">\n",
       "  <thead>\n",
       "    <tr style=\"text-align: right;\">\n",
       "      <th></th>\n",
       "      <th>縣市</th>\n",
       "      <th>自行車道路名稱</th>\n",
       "      <th>簡介</th>\n",
       "      <th>挑戰指數</th>\n",
       "      <th>總計長度</th>\n",
       "      <th>路面狀況</th>\n",
       "      <th>重點提醒</th>\n",
       "      <th>seg</th>\n",
       "      <th>等級</th>\n",
       "    </tr>\n",
       "  </thead>\n",
       "  <tbody>\n",
       "    <tr>\n",
       "      <th>0</th>\n",
       "      <td>台北市</td>\n",
       "      <td>基隆河沿岸自行車道</td>\n",
       "      <td>曾幾何時，基隆河已不再是水患的根源地，她廣袤的河濱腹地，已成為台北市的「城市之肺」，在有計畫...</td>\n",
       "      <td>2級。適合有中程騎乘經驗者。</td>\n",
       "      <td>左岸全長為18.1公里，右岸全長17.6公里。出入口多，可隨喜好選擇騎乘段落。</td>\n",
       "      <td>多為柏油路，平整好騎。且為自行車專用道，安全無虞。</td>\n",
       "      <td>可由大直橋銜接兩岸，但建議親子同遊時左右岸分日完成，遊程約安排在3小時上下，以免消耗太多體力。</td>\n",
       "      <td>[好騎, 自行車專用道, 安全無虞, 柏油路, 平整]</td>\n",
       "      <td>2級</td>\n",
       "    </tr>\n",
       "    <tr>\n",
       "      <th>1</th>\n",
       "      <td>台北市</td>\n",
       "      <td>景美舊橋至社子島自行車道</td>\n",
       "      <td>台北的自行車網路極為綿密，沿著汀州路防洪壁的任何一道水門走出去，都可以通往景美溪自行車道，以...</td>\n",
       "      <td>3級。若要騎完全程，則適合有長途經驗者。</td>\n",
       "      <td>由景美舊橋至社子島，全長27.08公里，出入口多，可隨喜好選擇段落騎乘。</td>\n",
       "      <td>全程柏油路面無坑洞，平整好騎，且騎經多處河濱公園，不愁沒地方休息。</td>\n",
       "      <td>該路段適合親子共騎，各租借站亦有童車可出租。惟路程較長，需注意幼兒的體能狀況。</td>\n",
       "      <td>[柏油路面, 好騎, 經多處, 河濱公園, 坑洞, 平整, 休息, 地方]</td>\n",
       "      <td>3級</td>\n",
       "    </tr>\n",
       "    <tr>\n",
       "      <th>2</th>\n",
       "      <td>新北市</td>\n",
       "      <td>八里左岸自行車道</td>\n",
       "      <td>您知道嗎？從二重疏洪道有條風景優美的自行車道，可以一直騎到八里左岸喔！二重疏洪道有多座規劃完...</td>\n",
       "      <td>3級。若欲騎完全程，建議有長途騎乘經驗較佳。</td>\n",
       "      <td>全程25公里，出入口多可隨喜好選擇騎乘段落。</td>\n",
       "      <td>多為柏油路，平整好騎，且人車分道，安全無虞。</td>\n",
       "      <td>建議親子同遊時，八里與二重疏洪道路分日完成，遊程約安排在3小時上下，以免消耗太多體力。</td>\n",
       "      <td>[好騎, 人車分道, 安全無虞, 柏油路, 平整]</td>\n",
       "      <td>3級</td>\n",
       "    </tr>\n",
       "    <tr>\n",
       "      <th>3</th>\n",
       "      <td>新北市</td>\n",
       "      <td>大漢溪右岸新店土城線</td>\n",
       "      <td>大漢、新店溪的河濱公園是附近居民散步休閒的最佳空間。這條自行車道橫跨了新店、永和、板橋、土城...</td>\n",
       "      <td>3級。若欲騎完全程，建議有長途騎乘經驗較佳。</td>\n",
       "      <td>大漢溪右岸、新店至土城30公里，出入口多，可隨喜好選擇騎乘段落。</td>\n",
       "      <td>多為柏油路，平整好騎，且人車分道，安全無虞。</td>\n",
       "      <td>光復賞鳥公園有自行車天橋可利用，惟上下坡時需注意安全。河濱公園內較無販賣部，部分定點於租借站...</td>\n",
       "      <td>[好騎, 人車分道, 安全無虞, 柏油路, 平整]</td>\n",
       "      <td>3級</td>\n",
       "    </tr>\n",
       "    <tr>\n",
       "      <th>4</th>\n",
       "      <td>基隆市</td>\n",
       "      <td>北寧路自行車道</td>\n",
       "      <td>北寧路自行車道是由八斗子海濱公園，一直到平浪橋的這段自行車道。此段路程風光明媚，海天相伴，美...</td>\n",
       "      <td>1級。適合親子共遊，但上下橋請注意兒童安全。</td>\n",
       "      <td>從平浪橋段經潮境公園至八斗子海濱公園。全長2公里。</td>\n",
       "      <td>平整好騎。平浪橋有上坡，需有耐力。下坡時需注意安全。</td>\n",
       "      <td>全程無樹蔭，要注意防曬。附近無租車店家，需準備自行車。</td>\n",
       "      <td>[好騎, 平浪橋, 耐力, 上坡, 下坡, 平整, 安全]</td>\n",
       "      <td>1級</td>\n",
       "    </tr>\n",
       "  </tbody>\n",
       "</table>\n",
       "</div>"
      ],
      "text/plain": [
       "    縣市       自行車道路名稱                                                 簡介  \\\n",
       "0  台北市     基隆河沿岸自行車道  曾幾何時，基隆河已不再是水患的根源地，她廣袤的河濱腹地，已成為台北市的「城市之肺」，在有計畫...   \n",
       "1  台北市  景美舊橋至社子島自行車道  台北的自行車網路極為綿密，沿著汀州路防洪壁的任何一道水門走出去，都可以通往景美溪自行車道，以...   \n",
       "2  新北市      八里左岸自行車道  您知道嗎？從二重疏洪道有條風景優美的自行車道，可以一直騎到八里左岸喔！二重疏洪道有多座規劃完...   \n",
       "3  新北市    大漢溪右岸新店土城線  大漢、新店溪的河濱公園是附近居民散步休閒的最佳空間。這條自行車道橫跨了新店、永和、板橋、土城...   \n",
       "4  基隆市       北寧路自行車道  北寧路自行車道是由八斗子海濱公園，一直到平浪橋的這段自行車道。此段路程風光明媚，海天相伴，美...   \n",
       "\n",
       "                     挑戰指數                                     總計長度  \\\n",
       "0          2級。適合有中程騎乘經驗者。  左岸全長為18.1公里，右岸全長17.6公里。出入口多，可隨喜好選擇騎乘段落。   \n",
       "1    3級。若要騎完全程，則適合有長途經驗者。     由景美舊橋至社子島，全長27.08公里，出入口多，可隨喜好選擇段落騎乘。   \n",
       "2  3級。若欲騎完全程，建議有長途騎乘經驗較佳。                   全程25公里，出入口多可隨喜好選擇騎乘段落。   \n",
       "3  3級。若欲騎完全程，建議有長途騎乘經驗較佳。         大漢溪右岸、新店至土城30公里，出入口多，可隨喜好選擇騎乘段落。   \n",
       "4  1級。適合親子共遊，但上下橋請注意兒童安全。                從平浪橋段經潮境公園至八斗子海濱公園。全長2公里。   \n",
       "\n",
       "                                路面狀況  \\\n",
       "0          多為柏油路，平整好騎。且為自行車專用道，安全無虞。   \n",
       "1  全程柏油路面無坑洞，平整好騎，且騎經多處河濱公園，不愁沒地方休息。   \n",
       "2             多為柏油路，平整好騎，且人車分道，安全無虞。   \n",
       "3             多為柏油路，平整好騎，且人車分道，安全無虞。   \n",
       "4         平整好騎。平浪橋有上坡，需有耐力。下坡時需注意安全。   \n",
       "\n",
       "                                                重點提醒  \\\n",
       "0    可由大直橋銜接兩岸，但建議親子同遊時左右岸分日完成，遊程約安排在3小時上下，以免消耗太多體力。   \n",
       "1            該路段適合親子共騎，各租借站亦有童車可出租。惟路程較長，需注意幼兒的體能狀況。   \n",
       "2        建議親子同遊時，八里與二重疏洪道路分日完成，遊程約安排在3小時上下，以免消耗太多體力。   \n",
       "3  光復賞鳥公園有自行車天橋可利用，惟上下坡時需注意安全。河濱公園內較無販賣部，部分定點於租借站...   \n",
       "4                        全程無樹蔭，要注意防曬。附近無租車店家，需準備自行車。   \n",
       "\n",
       "                                     seg  等級  \n",
       "0            [好騎, 自行車專用道, 安全無虞, 柏油路, 平整]  2級  \n",
       "1  [柏油路面, 好騎, 經多處, 河濱公園, 坑洞, 平整, 休息, 地方]  3級  \n",
       "2              [好騎, 人車分道, 安全無虞, 柏油路, 平整]  3級  \n",
       "3              [好騎, 人車分道, 安全無虞, 柏油路, 平整]  3級  \n",
       "4          [好騎, 平浪橋, 耐力, 上坡, 下坡, 平整, 安全]  1級  "
      ]
     },
     "execution_count": 216,
     "metadata": {},
     "output_type": "execute_result"
    }
   ],
   "source": [
    "orgdata.head()"
   ]
  },
  {
   "cell_type": "code",
   "execution_count": 217,
   "id": "cdf452ab",
   "metadata": {},
   "outputs": [],
   "source": [
    "# 把 dataframe 的資料寫進 csv.檔，和爬蟲的資料寫到 csv.檔是一樣的\n",
    "orgdata.to_csv(\"bike_road_list_textmining.csv\", index=False)"
   ]
  },
  {
   "cell_type": "code",
   "execution_count": 218,
   "id": "4715b733",
   "metadata": {},
   "outputs": [
    {
     "data": {
      "text/plain": [
       "dict_keys(['2級', '3級', '1級', '0～2級', '0級', '0～3級'])"
      ]
     },
     "execution_count": 218,
     "metadata": {},
     "output_type": "execute_result"
    }
   ],
   "source": [
    "Counter(orgdata['等級']).keys()"
   ]
  },
  {
   "cell_type": "code",
   "execution_count": null,
   "id": "1b553c5f",
   "metadata": {},
   "outputs": [],
   "source": []
  },
  {
   "cell_type": "code",
   "execution_count": 219,
   "id": "503a8250",
   "metadata": {},
   "outputs": [],
   "source": [
    "words = list(orgdata['等級'])\n",
    "show_key = pd.DataFrame(Counter(words).keys())\n",
    "show_values = pd.DataFrame(Counter(words).values())"
   ]
  },
  {
   "cell_type": "code",
   "execution_count": 220,
   "id": "6496b638",
   "metadata": {},
   "outputs": [],
   "source": [
    "df = [show_key, show_values]"
   ]
  },
  {
   "cell_type": "code",
   "execution_count": 221,
   "id": "bc8fead9",
   "metadata": {},
   "outputs": [
    {
     "data": {
      "text/html": [
       "<div>\n",
       "<style scoped>\n",
       "    .dataframe tbody tr th:only-of-type {\n",
       "        vertical-align: middle;\n",
       "    }\n",
       "\n",
       "    .dataframe tbody tr th {\n",
       "        vertical-align: top;\n",
       "    }\n",
       "\n",
       "    .dataframe thead th {\n",
       "        text-align: right;\n",
       "    }\n",
       "</style>\n",
       "<table border=\"1\" class=\"dataframe\">\n",
       "  <thead>\n",
       "    <tr style=\"text-align: right;\">\n",
       "      <th></th>\n",
       "      <th>level</th>\n",
       "      <th>frequency</th>\n",
       "    </tr>\n",
       "  </thead>\n",
       "  <tbody>\n",
       "    <tr>\n",
       "      <th>0</th>\n",
       "      <td>2級</td>\n",
       "      <td>16</td>\n",
       "    </tr>\n",
       "    <tr>\n",
       "      <th>1</th>\n",
       "      <td>3級</td>\n",
       "      <td>9</td>\n",
       "    </tr>\n",
       "    <tr>\n",
       "      <th>2</th>\n",
       "      <td>1級</td>\n",
       "      <td>17</td>\n",
       "    </tr>\n",
       "    <tr>\n",
       "      <th>3</th>\n",
       "      <td>0～2級</td>\n",
       "      <td>3</td>\n",
       "    </tr>\n",
       "    <tr>\n",
       "      <th>4</th>\n",
       "      <td>0級</td>\n",
       "      <td>3</td>\n",
       "    </tr>\n",
       "    <tr>\n",
       "      <th>5</th>\n",
       "      <td>0～3級</td>\n",
       "      <td>2</td>\n",
       "    </tr>\n",
       "  </tbody>\n",
       "</table>\n",
       "</div>"
      ],
      "text/plain": [
       "  level  frequency\n",
       "0    2級         16\n",
       "1    3級          9\n",
       "2    1級         17\n",
       "3  0～2級          3\n",
       "4    0級          3\n",
       "5  0～3級          2"
      ]
     },
     "execution_count": 221,
     "metadata": {},
     "output_type": "execute_result"
    }
   ],
   "source": [
    "result = pd.concat(df, axis=1)\n",
    "# concat 裡的 axis 預設是 0，也就是你的資料是會往下長。設成1，是想讓資料往橫的方向長。\n",
    "result.columns = ['level', 'frequency']\n",
    "result"
   ]
  },
  {
   "cell_type": "code",
   "execution_count": null,
   "id": "c9d32a87",
   "metadata": {},
   "outputs": [],
   "source": []
  },
  {
   "cell_type": "code",
   "execution_count": 222,
   "id": "ac5374cd",
   "metadata": {},
   "outputs": [
    {
     "data": {
      "application/vnd.plotly.v1+json": {
       "config": {
        "plotlyServerURL": "https://plot.ly"
       },
       "data": [
        {
         "alignmentgroup": "True",
         "hovertemplate": "level=%{x}<br>frequency=%{y}<extra></extra>",
         "legendgroup": "",
         "marker": {
          "color": "#636efa",
          "pattern": {
           "shape": ""
          }
         },
         "name": "",
         "offsetgroup": "",
         "orientation": "v",
         "showlegend": false,
         "textposition": "auto",
         "type": "bar",
         "x": [
          "2級",
          "3級",
          "1級",
          "0～2級",
          "0級",
          "0～3級"
         ],
         "xaxis": "x",
         "y": [
          16,
          9,
          17,
          3,
          3,
          2
         ],
         "yaxis": "y"
        }
       ],
       "layout": {
        "barmode": "relative",
        "legend": {
         "tracegroupgap": 0
        },
        "template": {
         "data": {
          "bar": [
           {
            "error_x": {
             "color": "#2a3f5f"
            },
            "error_y": {
             "color": "#2a3f5f"
            },
            "marker": {
             "line": {
              "color": "#E5ECF6",
              "width": 0.5
             },
             "pattern": {
              "fillmode": "overlay",
              "size": 10,
              "solidity": 0.2
             }
            },
            "type": "bar"
           }
          ],
          "barpolar": [
           {
            "marker": {
             "line": {
              "color": "#E5ECF6",
              "width": 0.5
             },
             "pattern": {
              "fillmode": "overlay",
              "size": 10,
              "solidity": 0.2
             }
            },
            "type": "barpolar"
           }
          ],
          "carpet": [
           {
            "aaxis": {
             "endlinecolor": "#2a3f5f",
             "gridcolor": "white",
             "linecolor": "white",
             "minorgridcolor": "white",
             "startlinecolor": "#2a3f5f"
            },
            "baxis": {
             "endlinecolor": "#2a3f5f",
             "gridcolor": "white",
             "linecolor": "white",
             "minorgridcolor": "white",
             "startlinecolor": "#2a3f5f"
            },
            "type": "carpet"
           }
          ],
          "choropleth": [
           {
            "colorbar": {
             "outlinewidth": 0,
             "ticks": ""
            },
            "type": "choropleth"
           }
          ],
          "contour": [
           {
            "colorbar": {
             "outlinewidth": 0,
             "ticks": ""
            },
            "colorscale": [
             [
              0,
              "#0d0887"
             ],
             [
              0.1111111111111111,
              "#46039f"
             ],
             [
              0.2222222222222222,
              "#7201a8"
             ],
             [
              0.3333333333333333,
              "#9c179e"
             ],
             [
              0.4444444444444444,
              "#bd3786"
             ],
             [
              0.5555555555555556,
              "#d8576b"
             ],
             [
              0.6666666666666666,
              "#ed7953"
             ],
             [
              0.7777777777777778,
              "#fb9f3a"
             ],
             [
              0.8888888888888888,
              "#fdca26"
             ],
             [
              1,
              "#f0f921"
             ]
            ],
            "type": "contour"
           }
          ],
          "contourcarpet": [
           {
            "colorbar": {
             "outlinewidth": 0,
             "ticks": ""
            },
            "type": "contourcarpet"
           }
          ],
          "heatmap": [
           {
            "colorbar": {
             "outlinewidth": 0,
             "ticks": ""
            },
            "colorscale": [
             [
              0,
              "#0d0887"
             ],
             [
              0.1111111111111111,
              "#46039f"
             ],
             [
              0.2222222222222222,
              "#7201a8"
             ],
             [
              0.3333333333333333,
              "#9c179e"
             ],
             [
              0.4444444444444444,
              "#bd3786"
             ],
             [
              0.5555555555555556,
              "#d8576b"
             ],
             [
              0.6666666666666666,
              "#ed7953"
             ],
             [
              0.7777777777777778,
              "#fb9f3a"
             ],
             [
              0.8888888888888888,
              "#fdca26"
             ],
             [
              1,
              "#f0f921"
             ]
            ],
            "type": "heatmap"
           }
          ],
          "heatmapgl": [
           {
            "colorbar": {
             "outlinewidth": 0,
             "ticks": ""
            },
            "colorscale": [
             [
              0,
              "#0d0887"
             ],
             [
              0.1111111111111111,
              "#46039f"
             ],
             [
              0.2222222222222222,
              "#7201a8"
             ],
             [
              0.3333333333333333,
              "#9c179e"
             ],
             [
              0.4444444444444444,
              "#bd3786"
             ],
             [
              0.5555555555555556,
              "#d8576b"
             ],
             [
              0.6666666666666666,
              "#ed7953"
             ],
             [
              0.7777777777777778,
              "#fb9f3a"
             ],
             [
              0.8888888888888888,
              "#fdca26"
             ],
             [
              1,
              "#f0f921"
             ]
            ],
            "type": "heatmapgl"
           }
          ],
          "histogram": [
           {
            "marker": {
             "pattern": {
              "fillmode": "overlay",
              "size": 10,
              "solidity": 0.2
             }
            },
            "type": "histogram"
           }
          ],
          "histogram2d": [
           {
            "colorbar": {
             "outlinewidth": 0,
             "ticks": ""
            },
            "colorscale": [
             [
              0,
              "#0d0887"
             ],
             [
              0.1111111111111111,
              "#46039f"
             ],
             [
              0.2222222222222222,
              "#7201a8"
             ],
             [
              0.3333333333333333,
              "#9c179e"
             ],
             [
              0.4444444444444444,
              "#bd3786"
             ],
             [
              0.5555555555555556,
              "#d8576b"
             ],
             [
              0.6666666666666666,
              "#ed7953"
             ],
             [
              0.7777777777777778,
              "#fb9f3a"
             ],
             [
              0.8888888888888888,
              "#fdca26"
             ],
             [
              1,
              "#f0f921"
             ]
            ],
            "type": "histogram2d"
           }
          ],
          "histogram2dcontour": [
           {
            "colorbar": {
             "outlinewidth": 0,
             "ticks": ""
            },
            "colorscale": [
             [
              0,
              "#0d0887"
             ],
             [
              0.1111111111111111,
              "#46039f"
             ],
             [
              0.2222222222222222,
              "#7201a8"
             ],
             [
              0.3333333333333333,
              "#9c179e"
             ],
             [
              0.4444444444444444,
              "#bd3786"
             ],
             [
              0.5555555555555556,
              "#d8576b"
             ],
             [
              0.6666666666666666,
              "#ed7953"
             ],
             [
              0.7777777777777778,
              "#fb9f3a"
             ],
             [
              0.8888888888888888,
              "#fdca26"
             ],
             [
              1,
              "#f0f921"
             ]
            ],
            "type": "histogram2dcontour"
           }
          ],
          "mesh3d": [
           {
            "colorbar": {
             "outlinewidth": 0,
             "ticks": ""
            },
            "type": "mesh3d"
           }
          ],
          "parcoords": [
           {
            "line": {
             "colorbar": {
              "outlinewidth": 0,
              "ticks": ""
             }
            },
            "type": "parcoords"
           }
          ],
          "pie": [
           {
            "automargin": true,
            "type": "pie"
           }
          ],
          "scatter": [
           {
            "marker": {
             "colorbar": {
              "outlinewidth": 0,
              "ticks": ""
             }
            },
            "type": "scatter"
           }
          ],
          "scatter3d": [
           {
            "line": {
             "colorbar": {
              "outlinewidth": 0,
              "ticks": ""
             }
            },
            "marker": {
             "colorbar": {
              "outlinewidth": 0,
              "ticks": ""
             }
            },
            "type": "scatter3d"
           }
          ],
          "scattercarpet": [
           {
            "marker": {
             "colorbar": {
              "outlinewidth": 0,
              "ticks": ""
             }
            },
            "type": "scattercarpet"
           }
          ],
          "scattergeo": [
           {
            "marker": {
             "colorbar": {
              "outlinewidth": 0,
              "ticks": ""
             }
            },
            "type": "scattergeo"
           }
          ],
          "scattergl": [
           {
            "marker": {
             "colorbar": {
              "outlinewidth": 0,
              "ticks": ""
             }
            },
            "type": "scattergl"
           }
          ],
          "scattermapbox": [
           {
            "marker": {
             "colorbar": {
              "outlinewidth": 0,
              "ticks": ""
             }
            },
            "type": "scattermapbox"
           }
          ],
          "scatterpolar": [
           {
            "marker": {
             "colorbar": {
              "outlinewidth": 0,
              "ticks": ""
             }
            },
            "type": "scatterpolar"
           }
          ],
          "scatterpolargl": [
           {
            "marker": {
             "colorbar": {
              "outlinewidth": 0,
              "ticks": ""
             }
            },
            "type": "scatterpolargl"
           }
          ],
          "scatterternary": [
           {
            "marker": {
             "colorbar": {
              "outlinewidth": 0,
              "ticks": ""
             }
            },
            "type": "scatterternary"
           }
          ],
          "surface": [
           {
            "colorbar": {
             "outlinewidth": 0,
             "ticks": ""
            },
            "colorscale": [
             [
              0,
              "#0d0887"
             ],
             [
              0.1111111111111111,
              "#46039f"
             ],
             [
              0.2222222222222222,
              "#7201a8"
             ],
             [
              0.3333333333333333,
              "#9c179e"
             ],
             [
              0.4444444444444444,
              "#bd3786"
             ],
             [
              0.5555555555555556,
              "#d8576b"
             ],
             [
              0.6666666666666666,
              "#ed7953"
             ],
             [
              0.7777777777777778,
              "#fb9f3a"
             ],
             [
              0.8888888888888888,
              "#fdca26"
             ],
             [
              1,
              "#f0f921"
             ]
            ],
            "type": "surface"
           }
          ],
          "table": [
           {
            "cells": {
             "fill": {
              "color": "#EBF0F8"
             },
             "line": {
              "color": "white"
             }
            },
            "header": {
             "fill": {
              "color": "#C8D4E3"
             },
             "line": {
              "color": "white"
             }
            },
            "type": "table"
           }
          ]
         },
         "layout": {
          "annotationdefaults": {
           "arrowcolor": "#2a3f5f",
           "arrowhead": 0,
           "arrowwidth": 1
          },
          "autotypenumbers": "strict",
          "coloraxis": {
           "colorbar": {
            "outlinewidth": 0,
            "ticks": ""
           }
          },
          "colorscale": {
           "diverging": [
            [
             0,
             "#8e0152"
            ],
            [
             0.1,
             "#c51b7d"
            ],
            [
             0.2,
             "#de77ae"
            ],
            [
             0.3,
             "#f1b6da"
            ],
            [
             0.4,
             "#fde0ef"
            ],
            [
             0.5,
             "#f7f7f7"
            ],
            [
             0.6,
             "#e6f5d0"
            ],
            [
             0.7,
             "#b8e186"
            ],
            [
             0.8,
             "#7fbc41"
            ],
            [
             0.9,
             "#4d9221"
            ],
            [
             1,
             "#276419"
            ]
           ],
           "sequential": [
            [
             0,
             "#0d0887"
            ],
            [
             0.1111111111111111,
             "#46039f"
            ],
            [
             0.2222222222222222,
             "#7201a8"
            ],
            [
             0.3333333333333333,
             "#9c179e"
            ],
            [
             0.4444444444444444,
             "#bd3786"
            ],
            [
             0.5555555555555556,
             "#d8576b"
            ],
            [
             0.6666666666666666,
             "#ed7953"
            ],
            [
             0.7777777777777778,
             "#fb9f3a"
            ],
            [
             0.8888888888888888,
             "#fdca26"
            ],
            [
             1,
             "#f0f921"
            ]
           ],
           "sequentialminus": [
            [
             0,
             "#0d0887"
            ],
            [
             0.1111111111111111,
             "#46039f"
            ],
            [
             0.2222222222222222,
             "#7201a8"
            ],
            [
             0.3333333333333333,
             "#9c179e"
            ],
            [
             0.4444444444444444,
             "#bd3786"
            ],
            [
             0.5555555555555556,
             "#d8576b"
            ],
            [
             0.6666666666666666,
             "#ed7953"
            ],
            [
             0.7777777777777778,
             "#fb9f3a"
            ],
            [
             0.8888888888888888,
             "#fdca26"
            ],
            [
             1,
             "#f0f921"
            ]
           ]
          },
          "colorway": [
           "#636efa",
           "#EF553B",
           "#00cc96",
           "#ab63fa",
           "#FFA15A",
           "#19d3f3",
           "#FF6692",
           "#B6E880",
           "#FF97FF",
           "#FECB52"
          ],
          "font": {
           "color": "#2a3f5f"
          },
          "geo": {
           "bgcolor": "white",
           "lakecolor": "white",
           "landcolor": "#E5ECF6",
           "showlakes": true,
           "showland": true,
           "subunitcolor": "white"
          },
          "hoverlabel": {
           "align": "left"
          },
          "hovermode": "closest",
          "mapbox": {
           "style": "light"
          },
          "paper_bgcolor": "white",
          "plot_bgcolor": "#E5ECF6",
          "polar": {
           "angularaxis": {
            "gridcolor": "white",
            "linecolor": "white",
            "ticks": ""
           },
           "bgcolor": "#E5ECF6",
           "radialaxis": {
            "gridcolor": "white",
            "linecolor": "white",
            "ticks": ""
           }
          },
          "scene": {
           "xaxis": {
            "backgroundcolor": "#E5ECF6",
            "gridcolor": "white",
            "gridwidth": 2,
            "linecolor": "white",
            "showbackground": true,
            "ticks": "",
            "zerolinecolor": "white"
           },
           "yaxis": {
            "backgroundcolor": "#E5ECF6",
            "gridcolor": "white",
            "gridwidth": 2,
            "linecolor": "white",
            "showbackground": true,
            "ticks": "",
            "zerolinecolor": "white"
           },
           "zaxis": {
            "backgroundcolor": "#E5ECF6",
            "gridcolor": "white",
            "gridwidth": 2,
            "linecolor": "white",
            "showbackground": true,
            "ticks": "",
            "zerolinecolor": "white"
           }
          },
          "shapedefaults": {
           "line": {
            "color": "#2a3f5f"
           }
          },
          "ternary": {
           "aaxis": {
            "gridcolor": "white",
            "linecolor": "white",
            "ticks": ""
           },
           "baxis": {
            "gridcolor": "white",
            "linecolor": "white",
            "ticks": ""
           },
           "bgcolor": "#E5ECF6",
           "caxis": {
            "gridcolor": "white",
            "linecolor": "white",
            "ticks": ""
           }
          },
          "title": {
           "x": 0.05
          },
          "xaxis": {
           "automargin": true,
           "gridcolor": "white",
           "linecolor": "white",
           "ticks": "",
           "title": {
            "standoff": 15
           },
           "zerolinecolor": "white",
           "zerolinewidth": 2
          },
          "yaxis": {
           "automargin": true,
           "gridcolor": "white",
           "linecolor": "white",
           "ticks": "",
           "title": {
            "standoff": 15
           },
           "zerolinecolor": "white",
           "zerolinewidth": 2
          }
         }
        },
        "title": {
         "text": "level term from 0 to 3"
        },
        "xaxis": {
         "anchor": "y",
         "domain": [
          0,
          1
         ],
         "title": {
          "text": "level"
         }
        },
        "yaxis": {
         "anchor": "x",
         "domain": [
          0,
          1
         ],
         "title": {
          "text": "frequency"
         }
        }
       }
      },
      "text/html": [
       "<div>                            <div id=\"5c64bd72-2aa9-4dd9-b6e1-685666f57acd\" class=\"plotly-graph-div\" style=\"height:525px; width:100%;\"></div>            <script type=\"text/javascript\">                require([\"plotly\"], function(Plotly) {                    window.PLOTLYENV=window.PLOTLYENV || {};                                    if (document.getElementById(\"5c64bd72-2aa9-4dd9-b6e1-685666f57acd\")) {                    Plotly.newPlot(                        \"5c64bd72-2aa9-4dd9-b6e1-685666f57acd\",                        [{\"alignmentgroup\":\"True\",\"hovertemplate\":\"level=%{x}<br>frequency=%{y}<extra></extra>\",\"legendgroup\":\"\",\"marker\":{\"color\":\"#636efa\",\"pattern\":{\"shape\":\"\"}},\"name\":\"\",\"offsetgroup\":\"\",\"orientation\":\"v\",\"showlegend\":false,\"textposition\":\"auto\",\"x\":[\"2\\u7d1a\",\"3\\u7d1a\",\"1\\u7d1a\",\"0\\uff5e2\\u7d1a\",\"0\\u7d1a\",\"0\\uff5e3\\u7d1a\"],\"xaxis\":\"x\",\"y\":[16,9,17,3,3,2],\"yaxis\":\"y\",\"type\":\"bar\"}],                        {\"template\":{\"data\":{\"bar\":[{\"error_x\":{\"color\":\"#2a3f5f\"},\"error_y\":{\"color\":\"#2a3f5f\"},\"marker\":{\"line\":{\"color\":\"#E5ECF6\",\"width\":0.5},\"pattern\":{\"fillmode\":\"overlay\",\"size\":10,\"solidity\":0.2}},\"type\":\"bar\"}],\"barpolar\":[{\"marker\":{\"line\":{\"color\":\"#E5ECF6\",\"width\":0.5},\"pattern\":{\"fillmode\":\"overlay\",\"size\":10,\"solidity\":0.2}},\"type\":\"barpolar\"}],\"carpet\":[{\"aaxis\":{\"endlinecolor\":\"#2a3f5f\",\"gridcolor\":\"white\",\"linecolor\":\"white\",\"minorgridcolor\":\"white\",\"startlinecolor\":\"#2a3f5f\"},\"baxis\":{\"endlinecolor\":\"#2a3f5f\",\"gridcolor\":\"white\",\"linecolor\":\"white\",\"minorgridcolor\":\"white\",\"startlinecolor\":\"#2a3f5f\"},\"type\":\"carpet\"}],\"choropleth\":[{\"colorbar\":{\"outlinewidth\":0,\"ticks\":\"\"},\"type\":\"choropleth\"}],\"contour\":[{\"colorbar\":{\"outlinewidth\":0,\"ticks\":\"\"},\"colorscale\":[[0.0,\"#0d0887\"],[0.1111111111111111,\"#46039f\"],[0.2222222222222222,\"#7201a8\"],[0.3333333333333333,\"#9c179e\"],[0.4444444444444444,\"#bd3786\"],[0.5555555555555556,\"#d8576b\"],[0.6666666666666666,\"#ed7953\"],[0.7777777777777778,\"#fb9f3a\"],[0.8888888888888888,\"#fdca26\"],[1.0,\"#f0f921\"]],\"type\":\"contour\"}],\"contourcarpet\":[{\"colorbar\":{\"outlinewidth\":0,\"ticks\":\"\"},\"type\":\"contourcarpet\"}],\"heatmap\":[{\"colorbar\":{\"outlinewidth\":0,\"ticks\":\"\"},\"colorscale\":[[0.0,\"#0d0887\"],[0.1111111111111111,\"#46039f\"],[0.2222222222222222,\"#7201a8\"],[0.3333333333333333,\"#9c179e\"],[0.4444444444444444,\"#bd3786\"],[0.5555555555555556,\"#d8576b\"],[0.6666666666666666,\"#ed7953\"],[0.7777777777777778,\"#fb9f3a\"],[0.8888888888888888,\"#fdca26\"],[1.0,\"#f0f921\"]],\"type\":\"heatmap\"}],\"heatmapgl\":[{\"colorbar\":{\"outlinewidth\":0,\"ticks\":\"\"},\"colorscale\":[[0.0,\"#0d0887\"],[0.1111111111111111,\"#46039f\"],[0.2222222222222222,\"#7201a8\"],[0.3333333333333333,\"#9c179e\"],[0.4444444444444444,\"#bd3786\"],[0.5555555555555556,\"#d8576b\"],[0.6666666666666666,\"#ed7953\"],[0.7777777777777778,\"#fb9f3a\"],[0.8888888888888888,\"#fdca26\"],[1.0,\"#f0f921\"]],\"type\":\"heatmapgl\"}],\"histogram\":[{\"marker\":{\"pattern\":{\"fillmode\":\"overlay\",\"size\":10,\"solidity\":0.2}},\"type\":\"histogram\"}],\"histogram2d\":[{\"colorbar\":{\"outlinewidth\":0,\"ticks\":\"\"},\"colorscale\":[[0.0,\"#0d0887\"],[0.1111111111111111,\"#46039f\"],[0.2222222222222222,\"#7201a8\"],[0.3333333333333333,\"#9c179e\"],[0.4444444444444444,\"#bd3786\"],[0.5555555555555556,\"#d8576b\"],[0.6666666666666666,\"#ed7953\"],[0.7777777777777778,\"#fb9f3a\"],[0.8888888888888888,\"#fdca26\"],[1.0,\"#f0f921\"]],\"type\":\"histogram2d\"}],\"histogram2dcontour\":[{\"colorbar\":{\"outlinewidth\":0,\"ticks\":\"\"},\"colorscale\":[[0.0,\"#0d0887\"],[0.1111111111111111,\"#46039f\"],[0.2222222222222222,\"#7201a8\"],[0.3333333333333333,\"#9c179e\"],[0.4444444444444444,\"#bd3786\"],[0.5555555555555556,\"#d8576b\"],[0.6666666666666666,\"#ed7953\"],[0.7777777777777778,\"#fb9f3a\"],[0.8888888888888888,\"#fdca26\"],[1.0,\"#f0f921\"]],\"type\":\"histogram2dcontour\"}],\"mesh3d\":[{\"colorbar\":{\"outlinewidth\":0,\"ticks\":\"\"},\"type\":\"mesh3d\"}],\"parcoords\":[{\"line\":{\"colorbar\":{\"outlinewidth\":0,\"ticks\":\"\"}},\"type\":\"parcoords\"}],\"pie\":[{\"automargin\":true,\"type\":\"pie\"}],\"scatter\":[{\"marker\":{\"colorbar\":{\"outlinewidth\":0,\"ticks\":\"\"}},\"type\":\"scatter\"}],\"scatter3d\":[{\"line\":{\"colorbar\":{\"outlinewidth\":0,\"ticks\":\"\"}},\"marker\":{\"colorbar\":{\"outlinewidth\":0,\"ticks\":\"\"}},\"type\":\"scatter3d\"}],\"scattercarpet\":[{\"marker\":{\"colorbar\":{\"outlinewidth\":0,\"ticks\":\"\"}},\"type\":\"scattercarpet\"}],\"scattergeo\":[{\"marker\":{\"colorbar\":{\"outlinewidth\":0,\"ticks\":\"\"}},\"type\":\"scattergeo\"}],\"scattergl\":[{\"marker\":{\"colorbar\":{\"outlinewidth\":0,\"ticks\":\"\"}},\"type\":\"scattergl\"}],\"scattermapbox\":[{\"marker\":{\"colorbar\":{\"outlinewidth\":0,\"ticks\":\"\"}},\"type\":\"scattermapbox\"}],\"scatterpolar\":[{\"marker\":{\"colorbar\":{\"outlinewidth\":0,\"ticks\":\"\"}},\"type\":\"scatterpolar\"}],\"scatterpolargl\":[{\"marker\":{\"colorbar\":{\"outlinewidth\":0,\"ticks\":\"\"}},\"type\":\"scatterpolargl\"}],\"scatterternary\":[{\"marker\":{\"colorbar\":{\"outlinewidth\":0,\"ticks\":\"\"}},\"type\":\"scatterternary\"}],\"surface\":[{\"colorbar\":{\"outlinewidth\":0,\"ticks\":\"\"},\"colorscale\":[[0.0,\"#0d0887\"],[0.1111111111111111,\"#46039f\"],[0.2222222222222222,\"#7201a8\"],[0.3333333333333333,\"#9c179e\"],[0.4444444444444444,\"#bd3786\"],[0.5555555555555556,\"#d8576b\"],[0.6666666666666666,\"#ed7953\"],[0.7777777777777778,\"#fb9f3a\"],[0.8888888888888888,\"#fdca26\"],[1.0,\"#f0f921\"]],\"type\":\"surface\"}],\"table\":[{\"cells\":{\"fill\":{\"color\":\"#EBF0F8\"},\"line\":{\"color\":\"white\"}},\"header\":{\"fill\":{\"color\":\"#C8D4E3\"},\"line\":{\"color\":\"white\"}},\"type\":\"table\"}]},\"layout\":{\"annotationdefaults\":{\"arrowcolor\":\"#2a3f5f\",\"arrowhead\":0,\"arrowwidth\":1},\"autotypenumbers\":\"strict\",\"coloraxis\":{\"colorbar\":{\"outlinewidth\":0,\"ticks\":\"\"}},\"colorscale\":{\"diverging\":[[0,\"#8e0152\"],[0.1,\"#c51b7d\"],[0.2,\"#de77ae\"],[0.3,\"#f1b6da\"],[0.4,\"#fde0ef\"],[0.5,\"#f7f7f7\"],[0.6,\"#e6f5d0\"],[0.7,\"#b8e186\"],[0.8,\"#7fbc41\"],[0.9,\"#4d9221\"],[1,\"#276419\"]],\"sequential\":[[0.0,\"#0d0887\"],[0.1111111111111111,\"#46039f\"],[0.2222222222222222,\"#7201a8\"],[0.3333333333333333,\"#9c179e\"],[0.4444444444444444,\"#bd3786\"],[0.5555555555555556,\"#d8576b\"],[0.6666666666666666,\"#ed7953\"],[0.7777777777777778,\"#fb9f3a\"],[0.8888888888888888,\"#fdca26\"],[1.0,\"#f0f921\"]],\"sequentialminus\":[[0.0,\"#0d0887\"],[0.1111111111111111,\"#46039f\"],[0.2222222222222222,\"#7201a8\"],[0.3333333333333333,\"#9c179e\"],[0.4444444444444444,\"#bd3786\"],[0.5555555555555556,\"#d8576b\"],[0.6666666666666666,\"#ed7953\"],[0.7777777777777778,\"#fb9f3a\"],[0.8888888888888888,\"#fdca26\"],[1.0,\"#f0f921\"]]},\"colorway\":[\"#636efa\",\"#EF553B\",\"#00cc96\",\"#ab63fa\",\"#FFA15A\",\"#19d3f3\",\"#FF6692\",\"#B6E880\",\"#FF97FF\",\"#FECB52\"],\"font\":{\"color\":\"#2a3f5f\"},\"geo\":{\"bgcolor\":\"white\",\"lakecolor\":\"white\",\"landcolor\":\"#E5ECF6\",\"showlakes\":true,\"showland\":true,\"subunitcolor\":\"white\"},\"hoverlabel\":{\"align\":\"left\"},\"hovermode\":\"closest\",\"mapbox\":{\"style\":\"light\"},\"paper_bgcolor\":\"white\",\"plot_bgcolor\":\"#E5ECF6\",\"polar\":{\"angularaxis\":{\"gridcolor\":\"white\",\"linecolor\":\"white\",\"ticks\":\"\"},\"bgcolor\":\"#E5ECF6\",\"radialaxis\":{\"gridcolor\":\"white\",\"linecolor\":\"white\",\"ticks\":\"\"}},\"scene\":{\"xaxis\":{\"backgroundcolor\":\"#E5ECF6\",\"gridcolor\":\"white\",\"gridwidth\":2,\"linecolor\":\"white\",\"showbackground\":true,\"ticks\":\"\",\"zerolinecolor\":\"white\"},\"yaxis\":{\"backgroundcolor\":\"#E5ECF6\",\"gridcolor\":\"white\",\"gridwidth\":2,\"linecolor\":\"white\",\"showbackground\":true,\"ticks\":\"\",\"zerolinecolor\":\"white\"},\"zaxis\":{\"backgroundcolor\":\"#E5ECF6\",\"gridcolor\":\"white\",\"gridwidth\":2,\"linecolor\":\"white\",\"showbackground\":true,\"ticks\":\"\",\"zerolinecolor\":\"white\"}},\"shapedefaults\":{\"line\":{\"color\":\"#2a3f5f\"}},\"ternary\":{\"aaxis\":{\"gridcolor\":\"white\",\"linecolor\":\"white\",\"ticks\":\"\"},\"baxis\":{\"gridcolor\":\"white\",\"linecolor\":\"white\",\"ticks\":\"\"},\"bgcolor\":\"#E5ECF6\",\"caxis\":{\"gridcolor\":\"white\",\"linecolor\":\"white\",\"ticks\":\"\"}},\"title\":{\"x\":0.05},\"xaxis\":{\"automargin\":true,\"gridcolor\":\"white\",\"linecolor\":\"white\",\"ticks\":\"\",\"title\":{\"standoff\":15},\"zerolinecolor\":\"white\",\"zerolinewidth\":2},\"yaxis\":{\"automargin\":true,\"gridcolor\":\"white\",\"linecolor\":\"white\",\"ticks\":\"\",\"title\":{\"standoff\":15},\"zerolinecolor\":\"white\",\"zerolinewidth\":2}}},\"xaxis\":{\"anchor\":\"y\",\"domain\":[0.0,1.0],\"title\":{\"text\":\"level\"}},\"yaxis\":{\"anchor\":\"x\",\"domain\":[0.0,1.0],\"title\":{\"text\":\"frequency\"}},\"legend\":{\"tracegroupgap\":0},\"title\":{\"text\":\"level term from 0 to 3\"},\"barmode\":\"relative\"},                        {\"responsive\": true}                    ).then(function(){\n",
       "                            \n",
       "var gd = document.getElementById('5c64bd72-2aa9-4dd9-b6e1-685666f57acd');\n",
       "var x = new MutationObserver(function (mutations, observer) {{\n",
       "        var display = window.getComputedStyle(gd).display;\n",
       "        if (!display || display === 'none') {{\n",
       "            console.log([gd, 'removed!']);\n",
       "            Plotly.purge(gd);\n",
       "            observer.disconnect();\n",
       "        }}\n",
       "}});\n",
       "\n",
       "// Listen for the removal of the full notebook cells\n",
       "var notebookContainer = gd.closest('#notebook-container');\n",
       "if (notebookContainer) {{\n",
       "    x.observe(notebookContainer, {childList: true});\n",
       "}}\n",
       "\n",
       "// Listen for the clearing of the current output cell\n",
       "var outputEl = gd.closest('.output');\n",
       "if (outputEl) {{\n",
       "    x.observe(outputEl, {childList: true});\n",
       "}}\n",
       "\n",
       "                        })                };                });            </script>        </div>"
      ]
     },
     "metadata": {},
     "output_type": "display_data"
    }
   ],
   "source": [
    "import plotly.express as px\n",
    "import pandas as pd\n",
    "\n",
    "px.bar(result, x='level', y='frequency', title='level term from 0 to 3')"
   ]
  },
  {
   "attachments": {
    "image.png": {
     "image/png": "[encoded data removed]"
    }
   },
   "cell_type": "markdown",
   "id": "7585e736",
   "metadata": {},
   "source": [
    "![image.png](attachment:image.png)"
   ]
  },
  {
   "cell_type": "code",
   "execution_count": null,
   "id": "906230f5",
   "metadata": {},
   "outputs": [],
   "source": []
  },
  {
   "cell_type": "code",
   "execution_count": 223,
   "id": "2faa1708",
   "metadata": {},
   "outputs": [
    {
     "data": {
      "text/html": [
       "<div>\n",
       "<style scoped>\n",
       "    .dataframe tbody tr th:only-of-type {\n",
       "        vertical-align: middle;\n",
       "    }\n",
       "\n",
       "    .dataframe tbody tr th {\n",
       "        vertical-align: top;\n",
       "    }\n",
       "\n",
       "    .dataframe thead th {\n",
       "        text-align: right;\n",
       "    }\n",
       "</style>\n",
       "<table border=\"1\" class=\"dataframe\">\n",
       "  <thead>\n",
       "    <tr style=\"text-align: right;\">\n",
       "      <th></th>\n",
       "      <th>縣市</th>\n",
       "      <th>自行車道路名稱</th>\n",
       "      <th>簡介</th>\n",
       "      <th>挑戰指數</th>\n",
       "      <th>總計長度</th>\n",
       "      <th>路面狀況</th>\n",
       "      <th>重點提醒</th>\n",
       "      <th>seg</th>\n",
       "      <th>等級</th>\n",
       "    </tr>\n",
       "  </thead>\n",
       "  <tbody>\n",
       "    <tr>\n",
       "      <th>4</th>\n",
       "      <td>基隆市</td>\n",
       "      <td>北寧路自行車道</td>\n",
       "      <td>北寧路自行車道是由八斗子海濱公園，一直到平浪橋的這段自行車道。此段路程風光明媚，海天相伴，美...</td>\n",
       "      <td>1級。適合親子共遊，但上下橋請注意兒童安全。</td>\n",
       "      <td>從平浪橋段經潮境公園至八斗子海濱公園。全長2公里。</td>\n",
       "      <td>平整好騎。平浪橋有上坡，需有耐力。下坡時需注意安全。</td>\n",
       "      <td>全程無樹蔭，要注意防曬。附近無租車店家，需準備自行車。</td>\n",
       "      <td>[好騎, 平浪橋, 耐力, 上坡, 下坡, 平整, 安全]</td>\n",
       "      <td>1級</td>\n",
       "    </tr>\n",
       "    <tr>\n",
       "      <th>5</th>\n",
       "      <td>基隆市</td>\n",
       "      <td>外木山濱海自行車步道</td>\n",
       "      <td>風景優美、沿海規劃的外木山濱海自行車道，是條寬3公尺、全長只有3公里的封閉型車道，它是基隆市...</td>\n",
       "      <td>1級。適合親子共遊。部分路段有上下坡，需注意兒童安全。</td>\n",
       "      <td>全長3公里</td>\n",
       "      <td>沿海有護欄，濱海而騎舒暢愜意。路面平整無坑洞。</td>\n",
       "      <td>全程少樹蔭，要注意防曬。附近無租車店家，需準備自行車，也需攜帶足夠的飲用水，隨時補充。</td>\n",
       "      <td>[有護欄, 濱海, 舒暢, 愜意, 坑洞, 平整, 沿海]</td>\n",
       "      <td>1級</td>\n",
       "    </tr>\n",
       "    <tr>\n",
       "      <th>6</th>\n",
       "      <td>桃園縣</td>\n",
       "      <td>新屋鄉綠色隧道</td>\n",
       "      <td>新屋綠色走廊可說是北台灣最具規模的自行車專用道，利用防風林與海堤規劃而成的自行車道，遊客在綠...</td>\n",
       "      <td>1級。適合親子共遊。</td>\n",
       "      <td>北起永安漁港，南至蚵殼港，全長4公里。</td>\n",
       "      <td>柏油路面，人車分道，路面維護得極佳，很平整。</td>\n",
       "      <td>整段路無明顯上坡，兒童亦可獨自騎乘。綠色隧道兩端都有自行車可租借，但無甲地租車乙地還服務，須...</td>\n",
       "      <td>[柏油路面, 人車分道, 平整]</td>\n",
       "      <td>1級</td>\n",
       "    </tr>\n",
       "    <tr>\n",
       "      <th>7</th>\n",
       "      <td>桃園縣</td>\n",
       "      <td>龍潭大池自行車道</td>\n",
       "      <td>龍潭大池原為老街溪中的一個深水潭，清朝乾隆13年，平埔族人欲引水灌溉農田，遂截堵溪水形成池塘...</td>\n",
       "      <td>1級。適合親子共遊。</td>\n",
       "      <td>單程長有2 . 7公里。</td>\n",
       "      <td>平均寬度約2公尺，以木棧道及AC路面鋪成，路況頗佳。</td>\n",
       "      <td>NaN</td>\n",
       "      <td>[木棧道, AC路面]</td>\n",
       "      <td>1級</td>\n",
       "    </tr>\n",
       "    <tr>\n",
       "      <th>8</th>\n",
       "      <td>新竹市</td>\n",
       "      <td>新竹17公里海岸自行車道</td>\n",
       "      <td>到新竹，如果想來趟輕鬆的自行車行，到長達17公里的海岸風景區準沒錯！北起南寮漁港、南至南港賞...</td>\n",
       "      <td>1級。適合親子共遊。如欲一次騎完，則需有中程騎乘經驗較佳。</td>\n",
       "      <td>全長17公里，有多個出入口，有兒童共騎者可視體能決定騎乘距離。</td>\n",
       "      <td>全程以木棧道及柏油路面組成，平坦好騎。</td>\n",
       "      <td>全線配合地形，部分路段有上下坡，惟坡度不大。另自行車道往南過了紅樹林後，因水資源局處理中心施...</td>\n",
       "      <td>[木棧道, 柏油路面, 好騎, 平坦]</td>\n",
       "      <td>1級</td>\n",
       "    </tr>\n",
       "    <tr>\n",
       "      <th>9</th>\n",
       "      <td>新竹縣</td>\n",
       "      <td>峨眉十二寮自行車道</td>\n",
       "      <td>峨眉湖因是重要水庫，湖邊受開發限制，得以保持原始風貌。民國90年湖畔規劃環湖步道，旅人可以騎...</td>\n",
       "      <td>1級。適合親子共遊。</td>\n",
       "      <td>5公里。</td>\n",
       "      <td>環湖公路平坦好騎，路面寬敞。</td>\n",
       "      <td>附近無租車店家，十二寮休閒農園有休閒自行車出租。有孩童隨行者可以在此租車。山區蚊蟲多，注意防蚊。</td>\n",
       "      <td>[環湖, 好騎, 寬敞, 平坦, 公路]</td>\n",
       "      <td>1級</td>\n",
       "    </tr>\n",
       "    <tr>\n",
       "      <th>10</th>\n",
       "      <td>新竹縣</td>\n",
       "      <td>新豐紅樹林自行車道</td>\n",
       "      <td>新豐紅毛港海岸邊，就是新豐紅樹林自行車道的入口，遊客穿梭在木麻黃林間，聽著海潮聲輕鬆行，自行...</td>\n",
       "      <td>1級。適合親子共遊。</td>\n",
       "      <td>5公里。</td>\n",
       "      <td>柏油路面，無人車分道，防風林路段平整筆直。</td>\n",
       "      <td>該車道行經防風林，林蔭繁茂景色純樸，可盡享沿線漁家風情，可惜商家略少，需自備飲水。沿線雖無明...</td>\n",
       "      <td>[柏油路面, 人車分道, 防風林, 筆直, 平整]</td>\n",
       "      <td>1級</td>\n",
       "    </tr>\n",
       "    <tr>\n",
       "      <th>11</th>\n",
       "      <td>苗栗縣</td>\n",
       "      <td>竹南海濱森林公園</td>\n",
       "      <td>位在竹南鎮西濱的竹南海濱森林公園，沿著海岸線的原始木麻黃、棕櫚樹林，規劃了一處適合全家共遊的...</td>\n",
       "      <td>1級。適合親子共遊</td>\n",
       "      <td>6.82公里。全程有三個休憩點，都備有小型車停車場。</td>\n",
       "      <td>水泥路面，沿途不乏綠蔭遮陽，但要小心防蚊。</td>\n",
       "      <td>附近幾無租車店家，最好自行攜帶自行車。龍鳳漁港及竹南濱海森林遊憩區假日時會有小販，但平日就得...</td>\n",
       "      <td>[綠蔭, 遮陽, 防蚊, 水泥]</td>\n",
       "      <td>1級</td>\n",
       "    </tr>\n",
       "    <tr>\n",
       "      <th>16</th>\n",
       "      <td>台中市</td>\n",
       "      <td>環市自行車道鐵道、怡情之旅</td>\n",
       "      <td>這條延續大學、密林之旅的鐵道、怡情自行車道，展現另一種風情，利用鐵路意象，配合鋪面材料及街道...</td>\n",
       "      <td>1級。適合親子共遊。</td>\n",
       "      <td>由大智路至太原車站，全長5.1公里。</td>\n",
       "      <td>沿途道路平整，地圖明確，周邊商家林立，不必擔心補給問題。</td>\n",
       "      <td>太原車站有一租借點，若以大智路為起點則無租車店家。騎經路口時請注意交通號誌，並照顧隨行的孩童。</td>\n",
       "      <td>[地圖, 補給, 平整, 商家]</td>\n",
       "      <td>1級</td>\n",
       "    </tr>\n",
       "    <tr>\n",
       "      <th>21</th>\n",
       "      <td>雲林縣</td>\n",
       "      <td>口湖濱海自行車道</td>\n",
       "      <td>這條由金湖延伸至台子的自行車道，是沿海規劃的幽靜車道，出海口生態非常豐富，遊客可欣賞海蚵農膠...</td>\n",
       "      <td>1級。適合親子共遊。</td>\n",
       "      <td>金湖段4公里，台子段3.31公里，全長7.31公里。</td>\n",
       "      <td>全線沿著漁塭規劃，皆為柏油路。</td>\n",
       "      <td>漁塭區的小路多，不過自行車道路面都有標示，沿著騎就不會錯。路面很寬敞且有護欄，但有幼兒同行仍...</td>\n",
       "      <td>[柏油路]</td>\n",
       "      <td>1級</td>\n",
       "    </tr>\n",
       "    <tr>\n",
       "      <th>23</th>\n",
       "      <td>嘉義縣</td>\n",
       "      <td>大林自行車道</td>\n",
       "      <td>騎乘在大林自行車道上，除了可到大林糖廠參觀除役的老蒸汽火車頭，以及台糖「平客6203」車廂，...</td>\n",
       "      <td>1級。適合親子同遊。</td>\n",
       "      <td>大林糖廠為起點，經大糖里、湖北里、穿越台1線省道（走涵洞），經三村里、溝背里、三角里，全長8公里。</td>\n",
       "      <td>由廢棄鐵道改建，平坦好騎，沿途不乏涼亭等休憩點，適合全家大小同遊。</td>\n",
       "      <td>當地無自行車租借，需自備自行車。</td>\n",
       "      <td>[好騎, 涼亭, 同遊, 改建, 全家, 平坦]</td>\n",
       "      <td>1級</td>\n",
       "    </tr>\n",
       "    <tr>\n",
       "      <th>26</th>\n",
       "      <td>嘉義市</td>\n",
       "      <td>蘭潭風景區環潭公路自行車網</td>\n",
       "      <td>近年來，嘉義市在市區規劃出各具特色的自行車路線，有的是挑戰腳力的高手級路段，像是鹿寮段，也有...</td>\n",
       "      <td>1級。適合親子同遊。</td>\n",
       "      <td>崇仁護校至蘭潭水庫三信亭，共計4.2公里</td>\n",
       "      <td>環潭公路平坦好騎，沿途林蔭密佈，風光明媚。</td>\n",
       "      <td>自行車道附近有一座高爾夫球場有提供租借服務，遊客可詢問。</td>\n",
       "      <td>[環潭, 好騎, 林蔭, 風光明媚, 平坦, 公路]</td>\n",
       "      <td>1級</td>\n",
       "    </tr>\n",
       "    <tr>\n",
       "      <th>29</th>\n",
       "      <td>台南市</td>\n",
       "      <td>府城市區自行車道</td>\n",
       "      <td>在台南，自行車道有個美麗的名字：翡翠項鍊公園道，公園被稱為「翡翠」，自行車道就有如項鍊般，將...</td>\n",
       "      <td>1級。適合親子同遊。</td>\n",
       "      <td>東豐路自行車道1.5公里、林森路一段至三段自行車2.9公里、永華路自行車道3公里。共計7.4公里。</td>\n",
       "      <td>柏油路面，平整順暢。沿途有相關標誌。</td>\n",
       "      <td>路程雖短，但因未有自行車專用道，與其他車輛共用，須注意安全。</td>\n",
       "      <td>[柏油路面, 順暢, 標誌, 平整]</td>\n",
       "      <td>1級</td>\n",
       "    </tr>\n",
       "    <tr>\n",
       "      <th>30</th>\n",
       "      <td>台南市</td>\n",
       "      <td>運河北岸自行車道</td>\n",
       "      <td>台南運河宛如台南市的動脈，以往肩負著貨運交通的重要任務，如今功成身退，運河成為台南市民的親水...</td>\n",
       "      <td>1級。適合親子共遊。</td>\n",
       "      <td>安億橋至臨安橋的運河北岸之安平路段，共計2.54公里。</td>\n",
       "      <td>沿運河而建的自行車道，皆為柏油路面，夜間有照明，騎乘起來極為舒適。</td>\n",
       "      <td>本段路程短，騎不過癮的旅客可以續行至四草。四草自行車道系統全長共計12公里，讓遊客更能體驗騎...</td>\n",
       "      <td>[沿運河, 柏油路面, 舒適, 照明]</td>\n",
       "      <td>1級</td>\n",
       "    </tr>\n",
       "    <tr>\n",
       "      <th>38</th>\n",
       "      <td>屏東縣</td>\n",
       "      <td>蘭花蕨大道自行車道</td>\n",
       "      <td>從南二高九如交流道一直延伸至麟洛，共9.3公里的高架橋下，在政府巧妙的規劃下，硬梆梆的水泥橋...</td>\n",
       "      <td>1級。適合親子同遊。</td>\n",
       "      <td>南二高九如交流道至長治交流道的高架橋下空間，自行規劃設置的「蘭花蕨」自行車道，全長7.4公里...</td>\n",
       "      <td>皆為水泥或柏油路面，有橋面遮蔭。</td>\n",
       "      <td>沿線無自行車租借服務，需自行準備。</td>\n",
       "      <td>[柏油路面, 有橋面, 遮蔭, 水泥]</td>\n",
       "      <td>1級</td>\n",
       "    </tr>\n",
       "    <tr>\n",
       "      <th>41</th>\n",
       "      <td>花蓮縣</td>\n",
       "      <td>吉安鄉親山自行車道</td>\n",
       "      <td>吉安鄉運用地理環境，建構了完整的全鄉自行車旅遊系統，透過環鄉自行車道串連至各個休閒景點，目前...</td>\n",
       "      <td>1級。適合親子同遊。</td>\n",
       "      <td>親山線自行車道起於太昌村大山橋，終至南華山邊落羽松林，全長5公里。</td>\n",
       "      <td>皆為柏油路面，平坦好騎。</td>\n",
       "      <td>該自行車道沿線並無自行車租借服務，需自備自行車。不過附近民宿飯店業者有自行車租借服務，可以先...</td>\n",
       "      <td>[柏油路面, 好騎, 平坦]</td>\n",
       "      <td>1級</td>\n",
       "    </tr>\n",
       "    <tr>\n",
       "      <th>46</th>\n",
       "      <td>澎湖縣</td>\n",
       "      <td>龍門─果葉─北寮自行車道</td>\n",
       "      <td>這條長約七公里、從澎湖本島東側海岸線開始延伸的自行車道，雖不是遊客經常造訪的路線，但正因為如...</td>\n",
       "      <td>1級。適合親子共遊。</td>\n",
       "      <td>6.9公里。</td>\n",
       "      <td>全線皆柏油路，沿途指標不甚明顯，遇分叉有時未有指標，需注意。</td>\n",
       "      <td>全程樹少無遮蔽，須小心防曬。自行車道沿海而建，沿途幾乎沒有商家，須準備充足飲水。無自行車租借...</td>\n",
       "      <td>[指標, 柏油路, 分叉]</td>\n",
       "      <td>1級</td>\n",
       "    </tr>\n",
       "  </tbody>\n",
       "</table>\n",
       "</div>"
      ],
      "text/plain": [
       "     縣市        自行車道路名稱                                                 簡介  \\\n",
       "4   基隆市        北寧路自行車道  北寧路自行車道是由八斗子海濱公園，一直到平浪橋的這段自行車道。此段路程風光明媚，海天相伴，美...   \n",
       "5   基隆市     外木山濱海自行車步道  風景優美、沿海規劃的外木山濱海自行車道，是條寬3公尺、全長只有3公里的封閉型車道，它是基隆市...   \n",
       "6   桃園縣        新屋鄉綠色隧道  新屋綠色走廊可說是北台灣最具規模的自行車專用道，利用防風林與海堤規劃而成的自行車道，遊客在綠...   \n",
       "7   桃園縣       龍潭大池自行車道  龍潭大池原為老街溪中的一個深水潭，清朝乾隆13年，平埔族人欲引水灌溉農田，遂截堵溪水形成池塘...   \n",
       "8   新竹市   新竹17公里海岸自行車道  到新竹，如果想來趟輕鬆的自行車行，到長達17公里的海岸風景區準沒錯！北起南寮漁港、南至南港賞...   \n",
       "9   新竹縣      峨眉十二寮自行車道  峨眉湖因是重要水庫，湖邊受開發限制，得以保持原始風貌。民國90年湖畔規劃環湖步道，旅人可以騎...   \n",
       "10  新竹縣      新豐紅樹林自行車道  新豐紅毛港海岸邊，就是新豐紅樹林自行車道的入口，遊客穿梭在木麻黃林間，聽著海潮聲輕鬆行，自行...   \n",
       "11  苗栗縣       竹南海濱森林公園  位在竹南鎮西濱的竹南海濱森林公園，沿著海岸線的原始木麻黃、棕櫚樹林，規劃了一處適合全家共遊的...   \n",
       "16  台中市  環市自行車道鐵道、怡情之旅  這條延續大學、密林之旅的鐵道、怡情自行車道，展現另一種風情，利用鐵路意象，配合鋪面材料及街道...   \n",
       "21  雲林縣       口湖濱海自行車道  這條由金湖延伸至台子的自行車道，是沿海規劃的幽靜車道，出海口生態非常豐富，遊客可欣賞海蚵農膠...   \n",
       "23  嘉義縣         大林自行車道  騎乘在大林自行車道上，除了可到大林糖廠參觀除役的老蒸汽火車頭，以及台糖「平客6203」車廂，...   \n",
       "26  嘉義市  蘭潭風景區環潭公路自行車網  近年來，嘉義市在市區規劃出各具特色的自行車路線，有的是挑戰腳力的高手級路段，像是鹿寮段，也有...   \n",
       "29  台南市       府城市區自行車道  在台南，自行車道有個美麗的名字：翡翠項鍊公園道，公園被稱為「翡翠」，自行車道就有如項鍊般，將...   \n",
       "30  台南市       運河北岸自行車道  台南運河宛如台南市的動脈，以往肩負著貨運交通的重要任務，如今功成身退，運河成為台南市民的親水...   \n",
       "38  屏東縣      蘭花蕨大道自行車道  從南二高九如交流道一直延伸至麟洛，共9.3公里的高架橋下，在政府巧妙的規劃下，硬梆梆的水泥橋...   \n",
       "41  花蓮縣      吉安鄉親山自行車道  吉安鄉運用地理環境，建構了完整的全鄉自行車旅遊系統，透過環鄉自行車道串連至各個休閒景點，目前...   \n",
       "46  澎湖縣   龍門─果葉─北寮自行車道  這條長約七公里、從澎湖本島東側海岸線開始延伸的自行車道，雖不是遊客經常造訪的路線，但正因為如...   \n",
       "\n",
       "                             挑戰指數  \\\n",
       "4          1級。適合親子共遊，但上下橋請注意兒童安全。   \n",
       "5     1級。適合親子共遊。部分路段有上下坡，需注意兒童安全。   \n",
       "6                      1級。適合親子共遊。   \n",
       "7                      1級。適合親子共遊。   \n",
       "8   1級。適合親子共遊。如欲一次騎完，則需有中程騎乘經驗較佳。   \n",
       "9                      1級。適合親子共遊。   \n",
       "10                     1級。適合親子共遊。   \n",
       "11                      1級。適合親子共遊   \n",
       "16                     1級。適合親子共遊。   \n",
       "21                     1級。適合親子共遊。   \n",
       "23                     1級。適合親子同遊。   \n",
       "26                     1級。適合親子同遊。   \n",
       "29                     1級。適合親子同遊。   \n",
       "30                     1級。適合親子共遊。   \n",
       "38                     1級。適合親子同遊。   \n",
       "41                     1級。適合親子同遊。   \n",
       "46                     1級。適合親子共遊。   \n",
       "\n",
       "                                                 總計長度  \\\n",
       "4                           從平浪橋段經潮境公園至八斗子海濱公園。全長2公里。   \n",
       "5                                               全長3公里   \n",
       "6                                 北起永安漁港，南至蚵殼港，全長4公里。   \n",
       "7                                        單程長有2 . 7公里。   \n",
       "8                     全長17公里，有多個出入口，有兒童共騎者可視體能決定騎乘距離。   \n",
       "9                                                5公里。   \n",
       "10                                               5公里。   \n",
       "11                         6.82公里。全程有三個休憩點，都備有小型車停車場。   \n",
       "16                                 由大智路至太原車站，全長5.1公里。   \n",
       "21                         金湖段4公里，台子段3.31公里，全長7.31公里。   \n",
       "23  大林糖廠為起點，經大糖里、湖北里、穿越台1線省道（走涵洞），經三村里、溝背里、三角里，全長8公里。   \n",
       "26                               崇仁護校至蘭潭水庫三信亭，共計4.2公里   \n",
       "29  東豐路自行車道1.5公里、林森路一段至三段自行車2.9公里、永華路自行車道3公里。共計7.4公里。   \n",
       "30                        安億橋至臨安橋的運河北岸之安平路段，共計2.54公里。   \n",
       "38  南二高九如交流道至長治交流道的高架橋下空間，自行規劃設置的「蘭花蕨」自行車道，全長7.4公里...   \n",
       "41                  親山線自行車道起於太昌村大山橋，終至南華山邊落羽松林，全長5公里。   \n",
       "46                                             6.9公里。   \n",
       "\n",
       "                                 路面狀況  \\\n",
       "4          平整好騎。平浪橋有上坡，需有耐力。下坡時需注意安全。   \n",
       "5             沿海有護欄，濱海而騎舒暢愜意。路面平整無坑洞。   \n",
       "6              柏油路面，人車分道，路面維護得極佳，很平整。   \n",
       "7          平均寬度約2公尺，以木棧道及AC路面鋪成，路況頗佳。   \n",
       "8                 全程以木棧道及柏油路面組成，平坦好騎。   \n",
       "9                      環湖公路平坦好騎，路面寬敞。   \n",
       "10              柏油路面，無人車分道，防風林路段平整筆直。   \n",
       "11              水泥路面，沿途不乏綠蔭遮陽，但要小心防蚊。   \n",
       "16       沿途道路平整，地圖明確，周邊商家林立，不必擔心補給問題。   \n",
       "21                    全線沿著漁塭規劃，皆為柏油路。   \n",
       "23  由廢棄鐵道改建，平坦好騎，沿途不乏涼亭等休憩點，適合全家大小同遊。   \n",
       "26              環潭公路平坦好騎，沿途林蔭密佈，風光明媚。   \n",
       "29                 柏油路面，平整順暢。沿途有相關標誌。   \n",
       "30  沿運河而建的自行車道，皆為柏油路面，夜間有照明，騎乘起來極為舒適。   \n",
       "38                   皆為水泥或柏油路面，有橋面遮蔭。   \n",
       "41                       皆為柏油路面，平坦好騎。   \n",
       "46     全線皆柏油路，沿途指標不甚明顯，遇分叉有時未有指標，需注意。   \n",
       "\n",
       "                                                 重點提醒  \\\n",
       "4                         全程無樹蔭，要注意防曬。附近無租車店家，需準備自行車。   \n",
       "5         全程少樹蔭，要注意防曬。附近無租車店家，需準備自行車，也需攜帶足夠的飲用水，隨時補充。   \n",
       "6   整段路無明顯上坡，兒童亦可獨自騎乘。綠色隧道兩端都有自行車可租借，但無甲地租車乙地還服務，須...   \n",
       "7                                                 NaN   \n",
       "8   全線配合地形，部分路段有上下坡，惟坡度不大。另自行車道往南過了紅樹林後，因水資源局處理中心施...   \n",
       "9    附近無租車店家，十二寮休閒農園有休閒自行車出租。有孩童隨行者可以在此租車。山區蚊蟲多，注意防蚊。   \n",
       "10  該車道行經防風林，林蔭繁茂景色純樸，可盡享沿線漁家風情，可惜商家略少，需自備飲水。沿線雖無明...   \n",
       "11  附近幾無租車店家，最好自行攜帶自行車。龍鳳漁港及竹南濱海森林遊憩區假日時會有小販，但平日就得...   \n",
       "16    太原車站有一租借點，若以大智路為起點則無租車店家。騎經路口時請注意交通號誌，並照顧隨行的孩童。   \n",
       "21  漁塭區的小路多，不過自行車道路面都有標示，沿著騎就不會錯。路面很寬敞且有護欄，但有幼兒同行仍...   \n",
       "23                                   當地無自行車租借，需自備自行車。   \n",
       "26                       自行車道附近有一座高爾夫球場有提供租借服務，遊客可詢問。   \n",
       "29                     路程雖短，但因未有自行車專用道，與其他車輛共用，須注意安全。   \n",
       "30  本段路程短，騎不過癮的旅客可以續行至四草。四草自行車道系統全長共計12公里，讓遊客更能體驗騎...   \n",
       "38                                  沿線無自行車租借服務，需自行準備。   \n",
       "41  該自行車道沿線並無自行車租借服務，需自備自行車。不過附近民宿飯店業者有自行車租借服務，可以先...   \n",
       "46  全程樹少無遮蔽，須小心防曬。自行車道沿海而建，沿途幾乎沒有商家，須準備充足飲水。無自行車租借...   \n",
       "\n",
       "                              seg  等級  \n",
       "4   [好騎, 平浪橋, 耐力, 上坡, 下坡, 平整, 安全]  1級  \n",
       "5   [有護欄, 濱海, 舒暢, 愜意, 坑洞, 平整, 沿海]  1級  \n",
       "6                [柏油路面, 人車分道, 平整]  1級  \n",
       "7                     [木棧道, AC路面]  1級  \n",
       "8             [木棧道, 柏油路面, 好騎, 平坦]  1級  \n",
       "9            [環湖, 好騎, 寬敞, 平坦, 公路]  1級  \n",
       "10      [柏油路面, 人車分道, 防風林, 筆直, 平整]  1級  \n",
       "11               [綠蔭, 遮陽, 防蚊, 水泥]  1級  \n",
       "16               [地圖, 補給, 平整, 商家]  1級  \n",
       "21                          [柏油路]  1級  \n",
       "23       [好騎, 涼亭, 同遊, 改建, 全家, 平坦]  1級  \n",
       "26     [環潭, 好騎, 林蔭, 風光明媚, 平坦, 公路]  1級  \n",
       "29             [柏油路面, 順暢, 標誌, 平整]  1級  \n",
       "30            [沿運河, 柏油路面, 舒適, 照明]  1級  \n",
       "38            [柏油路面, 有橋面, 遮蔭, 水泥]  1級  \n",
       "41                 [柏油路面, 好騎, 平坦]  1級  \n",
       "46                  [指標, 柏油路, 分叉]  1級  "
      ]
     },
     "execution_count": 223,
     "metadata": {},
     "output_type": "execute_result"
    }
   ],
   "source": [
    "show_sub = orgdata['等級']=='1級'\n",
    "subdata = orgdata[show_sub]\n",
    "subdata"
   ]
  },
  {
   "cell_type": "code",
   "execution_count": 224,
   "id": "6fab064c",
   "metadata": {},
   "outputs": [
    {
     "data": {
      "text/plain": [
       "pandas.core.series.Series"
      ]
     },
     "execution_count": 224,
     "metadata": {},
     "output_type": "execute_result"
    }
   ],
   "source": [
    "type(subdata['seg'])"
   ]
  },
  {
   "cell_type": "code",
   "execution_count": 225,
   "id": "67b83353",
   "metadata": {},
   "outputs": [
    {
     "data": {
      "text/plain": [
       "list"
      ]
     },
     "execution_count": 225,
     "metadata": {},
     "output_type": "execute_result"
    }
   ],
   "source": [
    "subdata_seg_list = subdata['seg'].tolist()\n",
    "type(subdata_seg_list)"
   ]
  },
  {
   "cell_type": "code",
   "execution_count": 226,
   "id": "23ed3d25",
   "metadata": {},
   "outputs": [
    {
     "data": {
      "text/plain": [
       "[['好騎', '平浪橋', '耐力', '上坡', '下坡', '平整', '安全'],\n",
       " ['有護欄', '濱海', '舒暢', '愜意', '坑洞', '平整', '沿海'],\n",
       " ['柏油路面', '人車分道', '平整'],\n",
       " ['木棧道', 'AC路面'],\n",
       " ['木棧道', '柏油路面', '好騎', '平坦'],\n",
       " ['環湖', '好騎', '寬敞', '平坦', '公路'],\n",
       " ['柏油路面', '人車分道', '防風林', '筆直', '平整'],\n",
       " ['綠蔭', '遮陽', '防蚊', '水泥'],\n",
       " ['地圖', '補給', '平整', '商家'],\n",
       " ['柏油路'],\n",
       " ['好騎', '涼亭', '同遊', '改建', '全家', '平坦'],\n",
       " ['環潭', '好騎', '林蔭', '風光明媚', '平坦', '公路'],\n",
       " ['柏油路面', '順暢', '標誌', '平整'],\n",
       " ['沿運河', '柏油路面', '舒適', '照明'],\n",
       " ['柏油路面', '有橋面', '遮蔭', '水泥'],\n",
       " ['柏油路面', '好騎', '平坦'],\n",
       " ['指標', '柏油路', '分叉']]"
      ]
     },
     "execution_count": 226,
     "metadata": {},
     "output_type": "execute_result"
    }
   ],
   "source": [
    "subdata_seg_list"
   ]
  },
  {
   "cell_type": "code",
   "execution_count": null,
   "id": "178f71ef",
   "metadata": {},
   "outputs": [],
   "source": []
  },
  {
   "cell_type": "code",
   "execution_count": 227,
   "id": "feb06737",
   "metadata": {},
   "outputs": [],
   "source": [
    "# for 迴圈的另一寫法\n",
    "flat = [x for sublist in subdata_seg_list for x in sublist]\n",
    "diction = Counter(flat) # Counter：dict 的子類別，用來計算可雜湊 ( hashable ) 物件的數量\n",
    "# 原本 for 迴圈寫法\n",
    "# for sublist in subdata_seg_list:\n",
    "#     for x in sublist:\n",
    "#         flat.append(x)"
   ]
  },
  {
   "cell_type": "code",
   "execution_count": 228,
   "id": "1787dab9",
   "metadata": {},
   "outputs": [
    {
     "data": {
      "text/plain": [
       "dict_keys(['好騎', '平浪橋', '耐力', '上坡', '下坡', '平整', '安全', '有護欄', '濱海', '舒暢', '愜意', '坑洞', '沿海', '柏油路面', '人車分道', '木棧道', 'AC路面', '平坦', '環湖', '寬敞', '公路', '防風林', '筆直', '綠蔭', '遮陽', '防蚊', '水泥', '地圖', '補給', '商家', '柏油路', '涼亭', '同遊', '改建', '全家', '環潭', '林蔭', '風光明媚', '順暢', '標誌', '沿運河', '舒適', '照明', '有橋面', '遮蔭', '指標', '分叉'])"
      ]
     },
     "execution_count": 228,
     "metadata": {},
     "output_type": "execute_result"
    }
   ],
   "source": [
    "diction.keys()"
   ]
  },
  {
   "cell_type": "code",
   "execution_count": 229,
   "id": "6cc07252",
   "metadata": {},
   "outputs": [
    {
     "data": {
      "text/plain": [
       "collections.Counter"
      ]
     },
     "execution_count": 229,
     "metadata": {},
     "output_type": "execute_result"
    }
   ],
   "source": [
    "type(diction)"
   ]
  },
  {
   "cell_type": "code",
   "execution_count": 247,
   "id": "44370eeb",
   "metadata": {},
   "outputs": [
    {
     "data": {
      "text/plain": [
       "Counter({'好騎': 6,\n",
       "         '平浪橋': 1,\n",
       "         '耐力': 1,\n",
       "         '上坡': 1,\n",
       "         '下坡': 1,\n",
       "         '平整': 6,\n",
       "         '安全': 1,\n",
       "         '有護欄': 1,\n",
       "         '濱海': 1,\n",
       "         '舒暢': 1,\n",
       "         '愜意': 1,\n",
       "         '坑洞': 1,\n",
       "         '沿海': 1,\n",
       "         '柏油路面': 7,\n",
       "         '人車分道': 2,\n",
       "         '木棧道': 2,\n",
       "         'AC路面': 1,\n",
       "         '平坦': 5,\n",
       "         '環湖': 1,\n",
       "         '寬敞': 1,\n",
       "         '公路': 2,\n",
       "         '防風林': 1,\n",
       "         '筆直': 1,\n",
       "         '綠蔭': 1,\n",
       "         '遮陽': 1,\n",
       "         '防蚊': 1,\n",
       "         '水泥': 2,\n",
       "         '地圖': 1,\n",
       "         '補給': 1,\n",
       "         '商家': 1,\n",
       "         '柏油路': 2,\n",
       "         '涼亭': 1,\n",
       "         '同遊': 1,\n",
       "         '改建': 1,\n",
       "         '全家': 1,\n",
       "         '環潭': 1,\n",
       "         '林蔭': 1,\n",
       "         '風光明媚': 1,\n",
       "         '順暢': 1,\n",
       "         '標誌': 1,\n",
       "         '沿運河': 1,\n",
       "         '舒適': 1,\n",
       "         '照明': 1,\n",
       "         '有橋面': 1,\n",
       "         '遮蔭': 1,\n",
       "         '指標': 1,\n",
       "         '分叉': 1})"
      ]
     },
     "execution_count": 247,
     "metadata": {},
     "output_type": "execute_result"
    }
   ],
   "source": [
    "diction"
   ]
  },
  {
   "cell_type": "code",
   "execution_count": null,
   "id": "fbbe110b",
   "metadata": {},
   "outputs": [],
   "source": []
  },
  {
   "cell_type": "code",
   "execution_count": 231,
   "id": "84873e46",
   "metadata": {},
   "outputs": [],
   "source": [
    "from PIL import Image # PIL：影像處理套件\n",
    "import matplotlib.pyplot as plt\n",
    "from wordcloud import WordCloud"
   ]
  },
  {
   "cell_type": "code",
   "execution_count": 232,
   "id": "dffbff7b",
   "metadata": {},
   "outputs": [],
   "source": [
    "import numpy as np"
   ]
  },
  {
   "cell_type": "code",
   "execution_count": null,
   "id": "ffd5906e",
   "metadata": {},
   "outputs": [],
   "source": []
  },
  {
   "cell_type": "code",
   "execution_count": 233,
   "id": "851a0f91",
   "metadata": {},
   "outputs": [],
   "source": [
    "mask = np.array(Image.open(\"Black_Circle.jpg\")) # 想呈現的圖案形狀\n",
    "font = \"C:\\Windows\\Fonts\\mingliu.ttc\" # 選取想呈現字體的字體路徑"
   ]
  },
  {
   "cell_type": "markdown",
   "id": "7349d48f",
   "metadata": {},
   "source": [
    "[有些字體呈現中文會出現亂碼或直接不顯示](http://tech.smallya.net/2021/12/20/python-matplotlib%E4%B8%AD%E6%96%87%E8%B2%A0%E6%95%B8%E4%BA%82%E7%A2%BC/)"
   ]
  },
  {
   "cell_type": "code",
   "execution_count": 234,
   "id": "ed3e80e6",
   "metadata": {},
   "outputs": [
    {
     "data": {
      "text/plain": [
       "<wordcloud.wordcloud.WordCloud at 0x252ea30b370>"
      ]
     },
     "execution_count": 234,
     "metadata": {},
     "output_type": "execute_result"
    }
   ],
   "source": [
    " # 把文字變成圖片(文字雲)\n",
    "wordcloud = WordCloud(background_color = \"white\", font_path=font, mask = mask)\n",
    "wordcloud.generate_from_frequencies(diction)"
   ]
  },
  {
   "cell_type": "code",
   "execution_count": 235,
   "id": "064c6a82",
   "metadata": {},
   "outputs": [
    {
     "data": {
      "image/png": "[encoded data removed]",
      "text/plain": [
       "<Figure size 720x720 with 1 Axes>"
      ]
     },
     "metadata": {
      "needs_background": "light"
     },
     "output_type": "display_data"
    }
   ],
   "source": [
    "# 調圖片的大小顯示圖片\n",
    "plt.figure(figsize=(10,10))\n",
    "plt.imshow(wordcloud)\n",
    "plt.axis(\"off\")\n",
    "plt.show()"
   ]
  },
  {
   "cell_type": "code",
   "execution_count": null,
   "id": "408bd093",
   "metadata": {},
   "outputs": [],
   "source": []
  },
  {
   "cell_type": "markdown",
   "id": "b9bedee8",
   "metadata": {},
   "source": [
    "-----------------------\n",
    "． 遇到的問題"
   ]
  },
  {
   "attachments": {
    "image.png": {
     "image/png": "[encoded data removed]"
    }
   },
   "cell_type": "markdown",
   "id": "a9e7898a",
   "metadata": {},
   "source": [
    "[提取關鍵字](https://ithelp.ithome.com.tw/articles/10204535)\n",
    ">\n",
    "> ![image.png](attachment:image.png)"
   ]
  },
  {
   "attachments": {
    "image.png": {
     "image/png": "[encoded data removed]"
    }
   },
   "cell_type": "markdown",
   "id": "fe16ba45",
   "metadata": {},
   "source": [
    "ModuleNotFoundError: No module named ‘xxx’\n",
    ">\n",
    "> 沒有引入‘xxx’套件\n",
    "> eg. 沒有引入'wordcloud'套件\n",
    "![image.png](attachment:image.png)"
   ]
  },
  {
   "cell_type": "code",
   "execution_count": null,
   "id": "7464eada",
   "metadata": {},
   "outputs": [],
   "source": []
  },
  {
   "cell_type": "code",
   "execution_count": 262,
   "id": "7348a042",
   "metadata": {},
   "outputs": [],
   "source": [
    "seg_f = diction"
   ]
  },
  {
   "cell_type": "code",
   "execution_count": 263,
   "id": "685f26ea",
   "metadata": {},
   "outputs": [
    {
     "data": {
      "text/plain": [
       "Counter({'好騎': 6,\n",
       "         '平浪橋': 1,\n",
       "         '耐力': 1,\n",
       "         '上坡': 1,\n",
       "         '下坡': 1,\n",
       "         '平整': 6,\n",
       "         '安全': 1,\n",
       "         '有護欄': 1,\n",
       "         '濱海': 1,\n",
       "         '舒暢': 1,\n",
       "         '愜意': 1,\n",
       "         '坑洞': 1,\n",
       "         '沿海': 1,\n",
       "         '柏油路面': 7,\n",
       "         '人車分道': 2,\n",
       "         '木棧道': 2,\n",
       "         'AC路面': 1,\n",
       "         '平坦': 5,\n",
       "         '環湖': 1,\n",
       "         '寬敞': 1,\n",
       "         '公路': 2,\n",
       "         '防風林': 1,\n",
       "         '筆直': 1,\n",
       "         '綠蔭': 1,\n",
       "         '遮陽': 1,\n",
       "         '防蚊': 1,\n",
       "         '水泥': 2,\n",
       "         '地圖': 1,\n",
       "         '補給': 1,\n",
       "         '商家': 1,\n",
       "         '柏油路': 2,\n",
       "         '涼亭': 1,\n",
       "         '同遊': 1,\n",
       "         '改建': 1,\n",
       "         '全家': 1,\n",
       "         '環潭': 1,\n",
       "         '林蔭': 1,\n",
       "         '風光明媚': 1,\n",
       "         '順暢': 1,\n",
       "         '標誌': 1,\n",
       "         '沿運河': 1,\n",
       "         '舒適': 1,\n",
       "         '照明': 1,\n",
       "         '有橋面': 1,\n",
       "         '遮蔭': 1,\n",
       "         '指標': 1,\n",
       "         '分叉': 1})"
      ]
     },
     "execution_count": 263,
     "metadata": {},
     "output_type": "execute_result"
    }
   ],
   "source": [
    "seg_f"
   ]
  },
  {
   "cell_type": "code",
   "execution_count": 253,
   "id": "5c0c2496",
   "metadata": {},
   "outputs": [],
   "source": [
    "show1_key = pd.DataFrame(Counter(seg_f).keys())\n",
    "show1_values = pd.DataFrame(Counter(seg_f).values())"
   ]
  },
  {
   "cell_type": "code",
   "execution_count": 265,
   "id": "073da237",
   "metadata": {},
   "outputs": [],
   "source": [
    "df = [show1_key, show1_values]"
   ]
  },
  {
   "cell_type": "code",
   "execution_count": 266,
   "id": "f465f2fd",
   "metadata": {},
   "outputs": [
    {
     "data": {
      "text/html": [
       "<div>\n",
       "<style scoped>\n",
       "    .dataframe tbody tr th:only-of-type {\n",
       "        vertical-align: middle;\n",
       "    }\n",
       "\n",
       "    .dataframe tbody tr th {\n",
       "        vertical-align: top;\n",
       "    }\n",
       "\n",
       "    .dataframe thead th {\n",
       "        text-align: right;\n",
       "    }\n",
       "</style>\n",
       "<table border=\"1\" class=\"dataframe\">\n",
       "  <thead>\n",
       "    <tr style=\"text-align: right;\">\n",
       "      <th></th>\n",
       "      <th>key</th>\n",
       "      <th>frequency</th>\n",
       "    </tr>\n",
       "  </thead>\n",
       "  <tbody>\n",
       "    <tr>\n",
       "      <th>0</th>\n",
       "      <td>好騎</td>\n",
       "      <td>6</td>\n",
       "    </tr>\n",
       "    <tr>\n",
       "      <th>1</th>\n",
       "      <td>平浪橋</td>\n",
       "      <td>1</td>\n",
       "    </tr>\n",
       "    <tr>\n",
       "      <th>2</th>\n",
       "      <td>耐力</td>\n",
       "      <td>1</td>\n",
       "    </tr>\n",
       "    <tr>\n",
       "      <th>3</th>\n",
       "      <td>上坡</td>\n",
       "      <td>1</td>\n",
       "    </tr>\n",
       "    <tr>\n",
       "      <th>4</th>\n",
       "      <td>下坡</td>\n",
       "      <td>1</td>\n",
       "    </tr>\n",
       "    <tr>\n",
       "      <th>5</th>\n",
       "      <td>平整</td>\n",
       "      <td>6</td>\n",
       "    </tr>\n",
       "    <tr>\n",
       "      <th>6</th>\n",
       "      <td>安全</td>\n",
       "      <td>1</td>\n",
       "    </tr>\n",
       "    <tr>\n",
       "      <th>7</th>\n",
       "      <td>有護欄</td>\n",
       "      <td>1</td>\n",
       "    </tr>\n",
       "    <tr>\n",
       "      <th>8</th>\n",
       "      <td>濱海</td>\n",
       "      <td>1</td>\n",
       "    </tr>\n",
       "    <tr>\n",
       "      <th>9</th>\n",
       "      <td>舒暢</td>\n",
       "      <td>1</td>\n",
       "    </tr>\n",
       "    <tr>\n",
       "      <th>10</th>\n",
       "      <td>愜意</td>\n",
       "      <td>1</td>\n",
       "    </tr>\n",
       "    <tr>\n",
       "      <th>11</th>\n",
       "      <td>坑洞</td>\n",
       "      <td>1</td>\n",
       "    </tr>\n",
       "    <tr>\n",
       "      <th>12</th>\n",
       "      <td>沿海</td>\n",
       "      <td>1</td>\n",
       "    </tr>\n",
       "    <tr>\n",
       "      <th>13</th>\n",
       "      <td>柏油路面</td>\n",
       "      <td>7</td>\n",
       "    </tr>\n",
       "    <tr>\n",
       "      <th>14</th>\n",
       "      <td>人車分道</td>\n",
       "      <td>2</td>\n",
       "    </tr>\n",
       "    <tr>\n",
       "      <th>15</th>\n",
       "      <td>木棧道</td>\n",
       "      <td>2</td>\n",
       "    </tr>\n",
       "    <tr>\n",
       "      <th>16</th>\n",
       "      <td>AC路面</td>\n",
       "      <td>1</td>\n",
       "    </tr>\n",
       "    <tr>\n",
       "      <th>17</th>\n",
       "      <td>平坦</td>\n",
       "      <td>5</td>\n",
       "    </tr>\n",
       "    <tr>\n",
       "      <th>18</th>\n",
       "      <td>環湖</td>\n",
       "      <td>1</td>\n",
       "    </tr>\n",
       "    <tr>\n",
       "      <th>19</th>\n",
       "      <td>寬敞</td>\n",
       "      <td>1</td>\n",
       "    </tr>\n",
       "    <tr>\n",
       "      <th>20</th>\n",
       "      <td>公路</td>\n",
       "      <td>2</td>\n",
       "    </tr>\n",
       "    <tr>\n",
       "      <th>21</th>\n",
       "      <td>防風林</td>\n",
       "      <td>1</td>\n",
       "    </tr>\n",
       "    <tr>\n",
       "      <th>22</th>\n",
       "      <td>筆直</td>\n",
       "      <td>1</td>\n",
       "    </tr>\n",
       "    <tr>\n",
       "      <th>23</th>\n",
       "      <td>綠蔭</td>\n",
       "      <td>1</td>\n",
       "    </tr>\n",
       "    <tr>\n",
       "      <th>24</th>\n",
       "      <td>遮陽</td>\n",
       "      <td>1</td>\n",
       "    </tr>\n",
       "    <tr>\n",
       "      <th>25</th>\n",
       "      <td>防蚊</td>\n",
       "      <td>1</td>\n",
       "    </tr>\n",
       "    <tr>\n",
       "      <th>26</th>\n",
       "      <td>水泥</td>\n",
       "      <td>2</td>\n",
       "    </tr>\n",
       "    <tr>\n",
       "      <th>27</th>\n",
       "      <td>地圖</td>\n",
       "      <td>1</td>\n",
       "    </tr>\n",
       "    <tr>\n",
       "      <th>28</th>\n",
       "      <td>補給</td>\n",
       "      <td>1</td>\n",
       "    </tr>\n",
       "    <tr>\n",
       "      <th>29</th>\n",
       "      <td>商家</td>\n",
       "      <td>1</td>\n",
       "    </tr>\n",
       "    <tr>\n",
       "      <th>30</th>\n",
       "      <td>柏油路</td>\n",
       "      <td>2</td>\n",
       "    </tr>\n",
       "    <tr>\n",
       "      <th>31</th>\n",
       "      <td>涼亭</td>\n",
       "      <td>1</td>\n",
       "    </tr>\n",
       "    <tr>\n",
       "      <th>32</th>\n",
       "      <td>同遊</td>\n",
       "      <td>1</td>\n",
       "    </tr>\n",
       "    <tr>\n",
       "      <th>33</th>\n",
       "      <td>改建</td>\n",
       "      <td>1</td>\n",
       "    </tr>\n",
       "    <tr>\n",
       "      <th>34</th>\n",
       "      <td>全家</td>\n",
       "      <td>1</td>\n",
       "    </tr>\n",
       "    <tr>\n",
       "      <th>35</th>\n",
       "      <td>環潭</td>\n",
       "      <td>1</td>\n",
       "    </tr>\n",
       "    <tr>\n",
       "      <th>36</th>\n",
       "      <td>林蔭</td>\n",
       "      <td>1</td>\n",
       "    </tr>\n",
       "    <tr>\n",
       "      <th>37</th>\n",
       "      <td>風光明媚</td>\n",
       "      <td>1</td>\n",
       "    </tr>\n",
       "    <tr>\n",
       "      <th>38</th>\n",
       "      <td>順暢</td>\n",
       "      <td>1</td>\n",
       "    </tr>\n",
       "    <tr>\n",
       "      <th>39</th>\n",
       "      <td>標誌</td>\n",
       "      <td>1</td>\n",
       "    </tr>\n",
       "    <tr>\n",
       "      <th>40</th>\n",
       "      <td>沿運河</td>\n",
       "      <td>1</td>\n",
       "    </tr>\n",
       "    <tr>\n",
       "      <th>41</th>\n",
       "      <td>舒適</td>\n",
       "      <td>1</td>\n",
       "    </tr>\n",
       "    <tr>\n",
       "      <th>42</th>\n",
       "      <td>照明</td>\n",
       "      <td>1</td>\n",
       "    </tr>\n",
       "    <tr>\n",
       "      <th>43</th>\n",
       "      <td>有橋面</td>\n",
       "      <td>1</td>\n",
       "    </tr>\n",
       "    <tr>\n",
       "      <th>44</th>\n",
       "      <td>遮蔭</td>\n",
       "      <td>1</td>\n",
       "    </tr>\n",
       "    <tr>\n",
       "      <th>45</th>\n",
       "      <td>指標</td>\n",
       "      <td>1</td>\n",
       "    </tr>\n",
       "    <tr>\n",
       "      <th>46</th>\n",
       "      <td>分叉</td>\n",
       "      <td>1</td>\n",
       "    </tr>\n",
       "  </tbody>\n",
       "</table>\n",
       "</div>"
      ],
      "text/plain": [
       "     key  frequency\n",
       "0     好騎          6\n",
       "1    平浪橋          1\n",
       "2     耐力          1\n",
       "3     上坡          1\n",
       "4     下坡          1\n",
       "5     平整          6\n",
       "6     安全          1\n",
       "7    有護欄          1\n",
       "8     濱海          1\n",
       "9     舒暢          1\n",
       "10    愜意          1\n",
       "11    坑洞          1\n",
       "12    沿海          1\n",
       "13  柏油路面          7\n",
       "14  人車分道          2\n",
       "15   木棧道          2\n",
       "16  AC路面          1\n",
       "17    平坦          5\n",
       "18    環湖          1\n",
       "19    寬敞          1\n",
       "20    公路          2\n",
       "21   防風林          1\n",
       "22    筆直          1\n",
       "23    綠蔭          1\n",
       "24    遮陽          1\n",
       "25    防蚊          1\n",
       "26    水泥          2\n",
       "27    地圖          1\n",
       "28    補給          1\n",
       "29    商家          1\n",
       "30   柏油路          2\n",
       "31    涼亭          1\n",
       "32    同遊          1\n",
       "33    改建          1\n",
       "34    全家          1\n",
       "35    環潭          1\n",
       "36    林蔭          1\n",
       "37  風光明媚          1\n",
       "38    順暢          1\n",
       "39    標誌          1\n",
       "40   沿運河          1\n",
       "41    舒適          1\n",
       "42    照明          1\n",
       "43   有橋面          1\n",
       "44    遮蔭          1\n",
       "45    指標          1\n",
       "46    分叉          1"
      ]
     },
     "execution_count": 266,
     "metadata": {},
     "output_type": "execute_result"
    }
   ],
   "source": [
    "result = pd.concat(df, axis=1)\n",
    "# concat 裡的 axis 預設是 0，也就是你的資料是會往下長。設成1，是想讓資料往橫的方向長。\n",
    "result.columns = ['key', 'frequency']\n",
    "result"
   ]
  },
  {
   "cell_type": "code",
   "execution_count": 267,
   "id": "d66231ec",
   "metadata": {},
   "outputs": [
    {
     "data": {
      "application/vnd.plotly.v1+json": {
       "config": {
        "plotlyServerURL": "https://plot.ly"
       },
       "data": [
        {
         "alignmentgroup": "True",
         "hovertemplate": "key=%{x}<br>frequency=%{y}<extra></extra>",
         "legendgroup": "",
         "marker": {
          "color": "#636efa",
          "pattern": {
           "shape": ""
          }
         },
         "name": "",
         "offsetgroup": "",
         "orientation": "v",
         "showlegend": false,
         "textposition": "auto",
         "type": "bar",
         "x": [
          "好騎",
          "平浪橋",
          "耐力",
          "上坡",
          "下坡",
          "平整",
          "安全",
          "有護欄",
          "濱海",
          "舒暢",
          "愜意",
          "坑洞",
          "沿海",
          "柏油路面",
          "人車分道",
          "木棧道",
          "AC路面",
          "平坦",
          "環湖",
          "寬敞",
          "公路",
          "防風林",
          "筆直",
          "綠蔭",
          "遮陽",
          "防蚊",
          "水泥",
          "地圖",
          "補給",
          "商家",
          "柏油路",
          "涼亭",
          "同遊",
          "改建",
          "全家",
          "環潭",
          "林蔭",
          "風光明媚",
          "順暢",
          "標誌",
          "沿運河",
          "舒適",
          "照明",
          "有橋面",
          "遮蔭",
          "指標",
          "分叉"
         ],
         "xaxis": "x",
         "y": [
          6,
          1,
          1,
          1,
          1,
          6,
          1,
          1,
          1,
          1,
          1,
          1,
          1,
          7,
          2,
          2,
          1,
          5,
          1,
          1,
          2,
          1,
          1,
          1,
          1,
          1,
          2,
          1,
          1,
          1,
          2,
          1,
          1,
          1,
          1,
          1,
          1,
          1,
          1,
          1,
          1,
          1,
          1,
          1,
          1,
          1,
          1
         ],
         "yaxis": "y"
        }
       ],
       "layout": {
        "barmode": "relative",
        "legend": {
         "tracegroupgap": 0
        },
        "template": {
         "data": {
          "bar": [
           {
            "error_x": {
             "color": "#2a3f5f"
            },
            "error_y": {
             "color": "#2a3f5f"
            },
            "marker": {
             "line": {
              "color": "#E5ECF6",
              "width": 0.5
             },
             "pattern": {
              "fillmode": "overlay",
              "size": 10,
              "solidity": 0.2
             }
            },
            "type": "bar"
           }
          ],
          "barpolar": [
           {
            "marker": {
             "line": {
              "color": "#E5ECF6",
              "width": 0.5
             },
             "pattern": {
              "fillmode": "overlay",
              "size": 10,
              "solidity": 0.2
             }
            },
            "type": "barpolar"
           }
          ],
          "carpet": [
           {
            "aaxis": {
             "endlinecolor": "#2a3f5f",
             "gridcolor": "white",
             "linecolor": "white",
             "minorgridcolor": "white",
             "startlinecolor": "#2a3f5f"
            },
            "baxis": {
             "endlinecolor": "#2a3f5f",
             "gridcolor": "white",
             "linecolor": "white",
             "minorgridcolor": "white",
             "startlinecolor": "#2a3f5f"
            },
            "type": "carpet"
           }
          ],
          "choropleth": [
           {
            "colorbar": {
             "outlinewidth": 0,
             "ticks": ""
            },
            "type": "choropleth"
           }
          ],
          "contour": [
           {
            "colorbar": {
             "outlinewidth": 0,
             "ticks": ""
            },
            "colorscale": [
             [
              0,
              "#0d0887"
             ],
             [
              0.1111111111111111,
              "#46039f"
             ],
             [
              0.2222222222222222,
              "#7201a8"
             ],
             [
              0.3333333333333333,
              "#9c179e"
             ],
             [
              0.4444444444444444,
              "#bd3786"
             ],
             [
              0.5555555555555556,
              "#d8576b"
             ],
             [
              0.6666666666666666,
              "#ed7953"
             ],
             [
              0.7777777777777778,
              "#fb9f3a"
             ],
             [
              0.8888888888888888,
              "#fdca26"
             ],
             [
              1,
              "#f0f921"
             ]
            ],
            "type": "contour"
           }
          ],
          "contourcarpet": [
           {
            "colorbar": {
             "outlinewidth": 0,
             "ticks": ""
            },
            "type": "contourcarpet"
           }
          ],
          "heatmap": [
           {
            "colorbar": {
             "outlinewidth": 0,
             "ticks": ""
            },
            "colorscale": [
             [
              0,
              "#0d0887"
             ],
             [
              0.1111111111111111,
              "#46039f"
             ],
             [
              0.2222222222222222,
              "#7201a8"
             ],
             [
              0.3333333333333333,
              "#9c179e"
             ],
             [
              0.4444444444444444,
              "#bd3786"
             ],
             [
              0.5555555555555556,
              "#d8576b"
             ],
             [
              0.6666666666666666,
              "#ed7953"
             ],
             [
              0.7777777777777778,
              "#fb9f3a"
             ],
             [
              0.8888888888888888,
              "#fdca26"
             ],
             [
              1,
              "#f0f921"
             ]
            ],
            "type": "heatmap"
           }
          ],
          "heatmapgl": [
           {
            "colorbar": {
             "outlinewidth": 0,
             "ticks": ""
            },
            "colorscale": [
             [
              0,
              "#0d0887"
             ],
             [
              0.1111111111111111,
              "#46039f"
             ],
             [
              0.2222222222222222,
              "#7201a8"
             ],
             [
              0.3333333333333333,
              "#9c179e"
             ],
             [
              0.4444444444444444,
              "#bd3786"
             ],
             [
              0.5555555555555556,
              "#d8576b"
             ],
             [
              0.6666666666666666,
              "#ed7953"
             ],
             [
              0.7777777777777778,
              "#fb9f3a"
             ],
             [
              0.8888888888888888,
              "#fdca26"
             ],
             [
              1,
              "#f0f921"
             ]
            ],
            "type": "heatmapgl"
           }
          ],
          "histogram": [
           {
            "marker": {
             "pattern": {
              "fillmode": "overlay",
              "size": 10,
              "solidity": 0.2
             }
            },
            "type": "histogram"
           }
          ],
          "histogram2d": [
           {
            "colorbar": {
             "outlinewidth": 0,
             "ticks": ""
            },
            "colorscale": [
             [
              0,
              "#0d0887"
             ],
             [
              0.1111111111111111,
              "#46039f"
             ],
             [
              0.2222222222222222,
              "#7201a8"
             ],
             [
              0.3333333333333333,
              "#9c179e"
             ],
             [
              0.4444444444444444,
              "#bd3786"
             ],
             [
              0.5555555555555556,
              "#d8576b"
             ],
             [
              0.6666666666666666,
              "#ed7953"
             ],
             [
              0.7777777777777778,
              "#fb9f3a"
             ],
             [
              0.8888888888888888,
              "#fdca26"
             ],
             [
              1,
              "#f0f921"
             ]
            ],
            "type": "histogram2d"
           }
          ],
          "histogram2dcontour": [
           {
            "colorbar": {
             "outlinewidth": 0,
             "ticks": ""
            },
            "colorscale": [
             [
              0,
              "#0d0887"
             ],
             [
              0.1111111111111111,
              "#46039f"
             ],
             [
              0.2222222222222222,
              "#7201a8"
             ],
             [
              0.3333333333333333,
              "#9c179e"
             ],
             [
              0.4444444444444444,
              "#bd3786"
             ],
             [
              0.5555555555555556,
              "#d8576b"
             ],
             [
              0.6666666666666666,
              "#ed7953"
             ],
             [
              0.7777777777777778,
              "#fb9f3a"
             ],
             [
              0.8888888888888888,
              "#fdca26"
             ],
             [
              1,
              "#f0f921"
             ]
            ],
            "type": "histogram2dcontour"
           }
          ],
          "mesh3d": [
           {
            "colorbar": {
             "outlinewidth": 0,
             "ticks": ""
            },
            "type": "mesh3d"
           }
          ],
          "parcoords": [
           {
            "line": {
             "colorbar": {
              "outlinewidth": 0,
              "ticks": ""
             }
            },
            "type": "parcoords"
           }
          ],
          "pie": [
           {
            "automargin": true,
            "type": "pie"
           }
          ],
          "scatter": [
           {
            "marker": {
             "colorbar": {
              "outlinewidth": 0,
              "ticks": ""
             }
            },
            "type": "scatter"
           }
          ],
          "scatter3d": [
           {
            "line": {
             "colorbar": {
              "outlinewidth": 0,
              "ticks": ""
             }
            },
            "marker": {
             "colorbar": {
              "outlinewidth": 0,
              "ticks": ""
             }
            },
            "type": "scatter3d"
           }
          ],
          "scattercarpet": [
           {
            "marker": {
             "colorbar": {
              "outlinewidth": 0,
              "ticks": ""
             }
            },
            "type": "scattercarpet"
           }
          ],
          "scattergeo": [
           {
            "marker": {
             "colorbar": {
              "outlinewidth": 0,
              "ticks": ""
             }
            },
            "type": "scattergeo"
           }
          ],
          "scattergl": [
           {
            "marker": {
             "colorbar": {
              "outlinewidth": 0,
              "ticks": ""
             }
            },
            "type": "scattergl"
           }
          ],
          "scattermapbox": [
           {
            "marker": {
             "colorbar": {
              "outlinewidth": 0,
              "ticks": ""
             }
            },
            "type": "scattermapbox"
           }
          ],
          "scatterpolar": [
           {
            "marker": {
             "colorbar": {
              "outlinewidth": 0,
              "ticks": ""
             }
            },
            "type": "scatterpolar"
           }
          ],
          "scatterpolargl": [
           {
            "marker": {
             "colorbar": {
              "outlinewidth": 0,
              "ticks": ""
             }
            },
            "type": "scatterpolargl"
           }
          ],
          "scatterternary": [
           {
            "marker": {
             "colorbar": {
              "outlinewidth": 0,
              "ticks": ""
             }
            },
            "type": "scatterternary"
           }
          ],
          "surface": [
           {
            "colorbar": {
             "outlinewidth": 0,
             "ticks": ""
            },
            "colorscale": [
             [
              0,
              "#0d0887"
             ],
             [
              0.1111111111111111,
              "#46039f"
             ],
             [
              0.2222222222222222,
              "#7201a8"
             ],
             [
              0.3333333333333333,
              "#9c179e"
             ],
             [
              0.4444444444444444,
              "#bd3786"
             ],
             [
              0.5555555555555556,
              "#d8576b"
             ],
             [
              0.6666666666666666,
              "#ed7953"
             ],
             [
              0.7777777777777778,
              "#fb9f3a"
             ],
             [
              0.8888888888888888,
              "#fdca26"
             ],
             [
              1,
              "#f0f921"
             ]
            ],
            "type": "surface"
           }
          ],
          "table": [
           {
            "cells": {
             "fill": {
              "color": "#EBF0F8"
             },
             "line": {
              "color": "white"
             }
            },
            "header": {
             "fill": {
              "color": "#C8D4E3"
             },
             "line": {
              "color": "white"
             }
            },
            "type": "table"
           }
          ]
         },
         "layout": {
          "annotationdefaults": {
           "arrowcolor": "#2a3f5f",
           "arrowhead": 0,
           "arrowwidth": 1
          },
          "autotypenumbers": "strict",
          "coloraxis": {
           "colorbar": {
            "outlinewidth": 0,
            "ticks": ""
           }
          },
          "colorscale": {
           "diverging": [
            [
             0,
             "#8e0152"
            ],
            [
             0.1,
             "#c51b7d"
            ],
            [
             0.2,
             "#de77ae"
            ],
            [
             0.3,
             "#f1b6da"
            ],
            [
             0.4,
             "#fde0ef"
            ],
            [
             0.5,
             "#f7f7f7"
            ],
            [
             0.6,
             "#e6f5d0"
            ],
            [
             0.7,
             "#b8e186"
            ],
            [
             0.8,
             "#7fbc41"
            ],
            [
             0.9,
             "#4d9221"
            ],
            [
             1,
             "#276419"
            ]
           ],
           "sequential": [
            [
             0,
             "#0d0887"
            ],
            [
             0.1111111111111111,
             "#46039f"
            ],
            [
             0.2222222222222222,
             "#7201a8"
            ],
            [
             0.3333333333333333,
             "#9c179e"
            ],
            [
             0.4444444444444444,
             "#bd3786"
            ],
            [
             0.5555555555555556,
             "#d8576b"
            ],
            [
             0.6666666666666666,
             "#ed7953"
            ],
            [
             0.7777777777777778,
             "#fb9f3a"
            ],
            [
             0.8888888888888888,
             "#fdca26"
            ],
            [
             1,
             "#f0f921"
            ]
           ],
           "sequentialminus": [
            [
             0,
             "#0d0887"
            ],
            [
             0.1111111111111111,
             "#46039f"
            ],
            [
             0.2222222222222222,
             "#7201a8"
            ],
            [
             0.3333333333333333,
             "#9c179e"
            ],
            [
             0.4444444444444444,
             "#bd3786"
            ],
            [
             0.5555555555555556,
             "#d8576b"
            ],
            [
             0.6666666666666666,
             "#ed7953"
            ],
            [
             0.7777777777777778,
             "#fb9f3a"
            ],
            [
             0.8888888888888888,
             "#fdca26"
            ],
            [
             1,
             "#f0f921"
            ]
           ]
          },
          "colorway": [
           "#636efa",
           "#EF553B",
           "#00cc96",
           "#ab63fa",
           "#FFA15A",
           "#19d3f3",
           "#FF6692",
           "#B6E880",
           "#FF97FF",
           "#FECB52"
          ],
          "font": {
           "color": "#2a3f5f"
          },
          "geo": {
           "bgcolor": "white",
           "lakecolor": "white",
           "landcolor": "#E5ECF6",
           "showlakes": true,
           "showland": true,
           "subunitcolor": "white"
          },
          "hoverlabel": {
           "align": "left"
          },
          "hovermode": "closest",
          "mapbox": {
           "style": "light"
          },
          "paper_bgcolor": "white",
          "plot_bgcolor": "#E5ECF6",
          "polar": {
           "angularaxis": {
            "gridcolor": "white",
            "linecolor": "white",
            "ticks": ""
           },
           "bgcolor": "#E5ECF6",
           "radialaxis": {
            "gridcolor": "white",
            "linecolor": "white",
            "ticks": ""
           }
          },
          "scene": {
           "xaxis": {
            "backgroundcolor": "#E5ECF6",
            "gridcolor": "white",
            "gridwidth": 2,
            "linecolor": "white",
            "showbackground": true,
            "ticks": "",
            "zerolinecolor": "white"
           },
           "yaxis": {
            "backgroundcolor": "#E5ECF6",
            "gridcolor": "white",
            "gridwidth": 2,
            "linecolor": "white",
            "showbackground": true,
            "ticks": "",
            "zerolinecolor": "white"
           },
           "zaxis": {
            "backgroundcolor": "#E5ECF6",
            "gridcolor": "white",
            "gridwidth": 2,
            "linecolor": "white",
            "showbackground": true,
            "ticks": "",
            "zerolinecolor": "white"
           }
          },
          "shapedefaults": {
           "line": {
            "color": "#2a3f5f"
           }
          },
          "ternary": {
           "aaxis": {
            "gridcolor": "white",
            "linecolor": "white",
            "ticks": ""
           },
           "baxis": {
            "gridcolor": "white",
            "linecolor": "white",
            "ticks": ""
           },
           "bgcolor": "#E5ECF6",
           "caxis": {
            "gridcolor": "white",
            "linecolor": "white",
            "ticks": ""
           }
          },
          "title": {
           "x": 0.05
          },
          "xaxis": {
           "automargin": true,
           "gridcolor": "white",
           "linecolor": "white",
           "ticks": "",
           "title": {
            "standoff": 15
           },
           "zerolinecolor": "white",
           "zerolinewidth": 2
          },
          "yaxis": {
           "automargin": true,
           "gridcolor": "white",
           "linecolor": "white",
           "ticks": "",
           "title": {
            "standoff": 15
           },
           "zerolinecolor": "white",
           "zerolinewidth": 2
          }
         }
        },
        "title": {
         "text": "frequency of each key"
        },
        "xaxis": {
         "anchor": "y",
         "domain": [
          0,
          1
         ],
         "title": {
          "text": "key"
         }
        },
        "yaxis": {
         "anchor": "x",
         "domain": [
          0,
          1
         ],
         "title": {
          "text": "frequency"
         }
        }
       }
      },
      "text/html": [
       "<div>                            <div id=\"46ab104d-c6e1-4782-8cd0-e811c3a7d0ac\" class=\"plotly-graph-div\" style=\"height:525px; width:100%;\"></div>            <script type=\"text/javascript\">                require([\"plotly\"], function(Plotly) {                    window.PLOTLYENV=window.PLOTLYENV || {};                                    if (document.getElementById(\"46ab104d-c6e1-4782-8cd0-e811c3a7d0ac\")) {                    Plotly.newPlot(                        \"46ab104d-c6e1-4782-8cd0-e811c3a7d0ac\",                        [{\"alignmentgroup\":\"True\",\"hovertemplate\":\"key=%{x}<br>frequency=%{y}<extra></extra>\",\"legendgroup\":\"\",\"marker\":{\"color\":\"#636efa\",\"pattern\":{\"shape\":\"\"}},\"name\":\"\",\"offsetgroup\":\"\",\"orientation\":\"v\",\"showlegend\":false,\"textposition\":\"auto\",\"x\":[\"\\u597d\\u9a0e\",\"\\u5e73\\u6d6a\\u6a4b\",\"\\u8010\\u529b\",\"\\u4e0a\\u5761\",\"\\u4e0b\\u5761\",\"\\u5e73\\u6574\",\"\\u5b89\\u5168\",\"\\u6709\\u8b77\\u6b04\",\"\\u6ff1\\u6d77\",\"\\u8212\\u66a2\",\"\\u611c\\u610f\",\"\\u5751\\u6d1e\",\"\\u6cbf\\u6d77\",\"\\u67cf\\u6cb9\\u8def\\u9762\",\"\\u4eba\\u8eca\\u5206\\u9053\",\"\\u6728\\u68e7\\u9053\",\"AC\\u8def\\u9762\",\"\\u5e73\\u5766\",\"\\u74b0\\u6e56\",\"\\u5bec\\u655e\",\"\\u516c\\u8def\",\"\\u9632\\u98a8\\u6797\",\"\\u7b46\\u76f4\",\"\\u7da0\\u852d\",\"\\u906e\\u967d\",\"\\u9632\\u868a\",\"\\u6c34\\u6ce5\",\"\\u5730\\u5716\",\"\\u88dc\\u7d66\",\"\\u5546\\u5bb6\",\"\\u67cf\\u6cb9\\u8def\",\"\\u6dbc\\u4ead\",\"\\u540c\\u904a\",\"\\u6539\\u5efa\",\"\\u5168\\u5bb6\",\"\\u74b0\\u6f6d\",\"\\u6797\\u852d\",\"\\u98a8\\u5149\\u660e\\u5a9a\",\"\\u9806\\u66a2\",\"\\u6a19\\u8a8c\",\"\\u6cbf\\u904b\\u6cb3\",\"\\u8212\\u9069\",\"\\u7167\\u660e\",\"\\u6709\\u6a4b\\u9762\",\"\\u906e\\u852d\",\"\\u6307\\u6a19\",\"\\u5206\\u53c9\"],\"xaxis\":\"x\",\"y\":[6,1,1,1,1,6,1,1,1,1,1,1,1,7,2,2,1,5,1,1,2,1,1,1,1,1,2,1,1,1,2,1,1,1,1,1,1,1,1,1,1,1,1,1,1,1,1],\"yaxis\":\"y\",\"type\":\"bar\"}],                        {\"template\":{\"data\":{\"bar\":[{\"error_x\":{\"color\":\"#2a3f5f\"},\"error_y\":{\"color\":\"#2a3f5f\"},\"marker\":{\"line\":{\"color\":\"#E5ECF6\",\"width\":0.5},\"pattern\":{\"fillmode\":\"overlay\",\"size\":10,\"solidity\":0.2}},\"type\":\"bar\"}],\"barpolar\":[{\"marker\":{\"line\":{\"color\":\"#E5ECF6\",\"width\":0.5},\"pattern\":{\"fillmode\":\"overlay\",\"size\":10,\"solidity\":0.2}},\"type\":\"barpolar\"}],\"carpet\":[{\"aaxis\":{\"endlinecolor\":\"#2a3f5f\",\"gridcolor\":\"white\",\"linecolor\":\"white\",\"minorgridcolor\":\"white\",\"startlinecolor\":\"#2a3f5f\"},\"baxis\":{\"endlinecolor\":\"#2a3f5f\",\"gridcolor\":\"white\",\"linecolor\":\"white\",\"minorgridcolor\":\"white\",\"startlinecolor\":\"#2a3f5f\"},\"type\":\"carpet\"}],\"choropleth\":[{\"colorbar\":{\"outlinewidth\":0,\"ticks\":\"\"},\"type\":\"choropleth\"}],\"contour\":[{\"colorbar\":{\"outlinewidth\":0,\"ticks\":\"\"},\"colorscale\":[[0.0,\"#0d0887\"],[0.1111111111111111,\"#46039f\"],[0.2222222222222222,\"#7201a8\"],[0.3333333333333333,\"#9c179e\"],[0.4444444444444444,\"#bd3786\"],[0.5555555555555556,\"#d8576b\"],[0.6666666666666666,\"#ed7953\"],[0.7777777777777778,\"#fb9f3a\"],[0.8888888888888888,\"#fdca26\"],[1.0,\"#f0f921\"]],\"type\":\"contour\"}],\"contourcarpet\":[{\"colorbar\":{\"outlinewidth\":0,\"ticks\":\"\"},\"type\":\"contourcarpet\"}],\"heatmap\":[{\"colorbar\":{\"outlinewidth\":0,\"ticks\":\"\"},\"colorscale\":[[0.0,\"#0d0887\"],[0.1111111111111111,\"#46039f\"],[0.2222222222222222,\"#7201a8\"],[0.3333333333333333,\"#9c179e\"],[0.4444444444444444,\"#bd3786\"],[0.5555555555555556,\"#d8576b\"],[0.6666666666666666,\"#ed7953\"],[0.7777777777777778,\"#fb9f3a\"],[0.8888888888888888,\"#fdca26\"],[1.0,\"#f0f921\"]],\"type\":\"heatmap\"}],\"heatmapgl\":[{\"colorbar\":{\"outlinewidth\":0,\"ticks\":\"\"},\"colorscale\":[[0.0,\"#0d0887\"],[0.1111111111111111,\"#46039f\"],[0.2222222222222222,\"#7201a8\"],[0.3333333333333333,\"#9c179e\"],[0.4444444444444444,\"#bd3786\"],[0.5555555555555556,\"#d8576b\"],[0.6666666666666666,\"#ed7953\"],[0.7777777777777778,\"#fb9f3a\"],[0.8888888888888888,\"#fdca26\"],[1.0,\"#f0f921\"]],\"type\":\"heatmapgl\"}],\"histogram\":[{\"marker\":{\"pattern\":{\"fillmode\":\"overlay\",\"size\":10,\"solidity\":0.2}},\"type\":\"histogram\"}],\"histogram2d\":[{\"colorbar\":{\"outlinewidth\":0,\"ticks\":\"\"},\"colorscale\":[[0.0,\"#0d0887\"],[0.1111111111111111,\"#46039f\"],[0.2222222222222222,\"#7201a8\"],[0.3333333333333333,\"#9c179e\"],[0.4444444444444444,\"#bd3786\"],[0.5555555555555556,\"#d8576b\"],[0.6666666666666666,\"#ed7953\"],[0.7777777777777778,\"#fb9f3a\"],[0.8888888888888888,\"#fdca26\"],[1.0,\"#f0f921\"]],\"type\":\"histogram2d\"}],\"histogram2dcontour\":[{\"colorbar\":{\"outlinewidth\":0,\"ticks\":\"\"},\"colorscale\":[[0.0,\"#0d0887\"],[0.1111111111111111,\"#46039f\"],[0.2222222222222222,\"#7201a8\"],[0.3333333333333333,\"#9c179e\"],[0.4444444444444444,\"#bd3786\"],[0.5555555555555556,\"#d8576b\"],[0.6666666666666666,\"#ed7953\"],[0.7777777777777778,\"#fb9f3a\"],[0.8888888888888888,\"#fdca26\"],[1.0,\"#f0f921\"]],\"type\":\"histogram2dcontour\"}],\"mesh3d\":[{\"colorbar\":{\"outlinewidth\":0,\"ticks\":\"\"},\"type\":\"mesh3d\"}],\"parcoords\":[{\"line\":{\"colorbar\":{\"outlinewidth\":0,\"ticks\":\"\"}},\"type\":\"parcoords\"}],\"pie\":[{\"automargin\":true,\"type\":\"pie\"}],\"scatter\":[{\"marker\":{\"colorbar\":{\"outlinewidth\":0,\"ticks\":\"\"}},\"type\":\"scatter\"}],\"scatter3d\":[{\"line\":{\"colorbar\":{\"outlinewidth\":0,\"ticks\":\"\"}},\"marker\":{\"colorbar\":{\"outlinewidth\":0,\"ticks\":\"\"}},\"type\":\"scatter3d\"}],\"scattercarpet\":[{\"marker\":{\"colorbar\":{\"outlinewidth\":0,\"ticks\":\"\"}},\"type\":\"scattercarpet\"}],\"scattergeo\":[{\"marker\":{\"colorbar\":{\"outlinewidth\":0,\"ticks\":\"\"}},\"type\":\"scattergeo\"}],\"scattergl\":[{\"marker\":{\"colorbar\":{\"outlinewidth\":0,\"ticks\":\"\"}},\"type\":\"scattergl\"}],\"scattermapbox\":[{\"marker\":{\"colorbar\":{\"outlinewidth\":0,\"ticks\":\"\"}},\"type\":\"scattermapbox\"}],\"scatterpolar\":[{\"marker\":{\"colorbar\":{\"outlinewidth\":0,\"ticks\":\"\"}},\"type\":\"scatterpolar\"}],\"scatterpolargl\":[{\"marker\":{\"colorbar\":{\"outlinewidth\":0,\"ticks\":\"\"}},\"type\":\"scatterpolargl\"}],\"scatterternary\":[{\"marker\":{\"colorbar\":{\"outlinewidth\":0,\"ticks\":\"\"}},\"type\":\"scatterternary\"}],\"surface\":[{\"colorbar\":{\"outlinewidth\":0,\"ticks\":\"\"},\"colorscale\":[[0.0,\"#0d0887\"],[0.1111111111111111,\"#46039f\"],[0.2222222222222222,\"#7201a8\"],[0.3333333333333333,\"#9c179e\"],[0.4444444444444444,\"#bd3786\"],[0.5555555555555556,\"#d8576b\"],[0.6666666666666666,\"#ed7953\"],[0.7777777777777778,\"#fb9f3a\"],[0.8888888888888888,\"#fdca26\"],[1.0,\"#f0f921\"]],\"type\":\"surface\"}],\"table\":[{\"cells\":{\"fill\":{\"color\":\"#EBF0F8\"},\"line\":{\"color\":\"white\"}},\"header\":{\"fill\":{\"color\":\"#C8D4E3\"},\"line\":{\"color\":\"white\"}},\"type\":\"table\"}]},\"layout\":{\"annotationdefaults\":{\"arrowcolor\":\"#2a3f5f\",\"arrowhead\":0,\"arrowwidth\":1},\"autotypenumbers\":\"strict\",\"coloraxis\":{\"colorbar\":{\"outlinewidth\":0,\"ticks\":\"\"}},\"colorscale\":{\"diverging\":[[0,\"#8e0152\"],[0.1,\"#c51b7d\"],[0.2,\"#de77ae\"],[0.3,\"#f1b6da\"],[0.4,\"#fde0ef\"],[0.5,\"#f7f7f7\"],[0.6,\"#e6f5d0\"],[0.7,\"#b8e186\"],[0.8,\"#7fbc41\"],[0.9,\"#4d9221\"],[1,\"#276419\"]],\"sequential\":[[0.0,\"#0d0887\"],[0.1111111111111111,\"#46039f\"],[0.2222222222222222,\"#7201a8\"],[0.3333333333333333,\"#9c179e\"],[0.4444444444444444,\"#bd3786\"],[0.5555555555555556,\"#d8576b\"],[0.6666666666666666,\"#ed7953\"],[0.7777777777777778,\"#fb9f3a\"],[0.8888888888888888,\"#fdca26\"],[1.0,\"#f0f921\"]],\"sequentialminus\":[[0.0,\"#0d0887\"],[0.1111111111111111,\"#46039f\"],[0.2222222222222222,\"#7201a8\"],[0.3333333333333333,\"#9c179e\"],[0.4444444444444444,\"#bd3786\"],[0.5555555555555556,\"#d8576b\"],[0.6666666666666666,\"#ed7953\"],[0.7777777777777778,\"#fb9f3a\"],[0.8888888888888888,\"#fdca26\"],[1.0,\"#f0f921\"]]},\"colorway\":[\"#636efa\",\"#EF553B\",\"#00cc96\",\"#ab63fa\",\"#FFA15A\",\"#19d3f3\",\"#FF6692\",\"#B6E880\",\"#FF97FF\",\"#FECB52\"],\"font\":{\"color\":\"#2a3f5f\"},\"geo\":{\"bgcolor\":\"white\",\"lakecolor\":\"white\",\"landcolor\":\"#E5ECF6\",\"showlakes\":true,\"showland\":true,\"subunitcolor\":\"white\"},\"hoverlabel\":{\"align\":\"left\"},\"hovermode\":\"closest\",\"mapbox\":{\"style\":\"light\"},\"paper_bgcolor\":\"white\",\"plot_bgcolor\":\"#E5ECF6\",\"polar\":{\"angularaxis\":{\"gridcolor\":\"white\",\"linecolor\":\"white\",\"ticks\":\"\"},\"bgcolor\":\"#E5ECF6\",\"radialaxis\":{\"gridcolor\":\"white\",\"linecolor\":\"white\",\"ticks\":\"\"}},\"scene\":{\"xaxis\":{\"backgroundcolor\":\"#E5ECF6\",\"gridcolor\":\"white\",\"gridwidth\":2,\"linecolor\":\"white\",\"showbackground\":true,\"ticks\":\"\",\"zerolinecolor\":\"white\"},\"yaxis\":{\"backgroundcolor\":\"#E5ECF6\",\"gridcolor\":\"white\",\"gridwidth\":2,\"linecolor\":\"white\",\"showbackground\":true,\"ticks\":\"\",\"zerolinecolor\":\"white\"},\"zaxis\":{\"backgroundcolor\":\"#E5ECF6\",\"gridcolor\":\"white\",\"gridwidth\":2,\"linecolor\":\"white\",\"showbackground\":true,\"ticks\":\"\",\"zerolinecolor\":\"white\"}},\"shapedefaults\":{\"line\":{\"color\":\"#2a3f5f\"}},\"ternary\":{\"aaxis\":{\"gridcolor\":\"white\",\"linecolor\":\"white\",\"ticks\":\"\"},\"baxis\":{\"gridcolor\":\"white\",\"linecolor\":\"white\",\"ticks\":\"\"},\"bgcolor\":\"#E5ECF6\",\"caxis\":{\"gridcolor\":\"white\",\"linecolor\":\"white\",\"ticks\":\"\"}},\"title\":{\"x\":0.05},\"xaxis\":{\"automargin\":true,\"gridcolor\":\"white\",\"linecolor\":\"white\",\"ticks\":\"\",\"title\":{\"standoff\":15},\"zerolinecolor\":\"white\",\"zerolinewidth\":2},\"yaxis\":{\"automargin\":true,\"gridcolor\":\"white\",\"linecolor\":\"white\",\"ticks\":\"\",\"title\":{\"standoff\":15},\"zerolinecolor\":\"white\",\"zerolinewidth\":2}}},\"xaxis\":{\"anchor\":\"y\",\"domain\":[0.0,1.0],\"title\":{\"text\":\"key\"}},\"yaxis\":{\"anchor\":\"x\",\"domain\":[0.0,1.0],\"title\":{\"text\":\"frequency\"}},\"legend\":{\"tracegroupgap\":0},\"title\":{\"text\":\"frequency of each key\"},\"barmode\":\"relative\"},                        {\"responsive\": true}                    ).then(function(){\n",
       "                            \n",
       "var gd = document.getElementById('46ab104d-c6e1-4782-8cd0-e811c3a7d0ac');\n",
       "var x = new MutationObserver(function (mutations, observer) {{\n",
       "        var display = window.getComputedStyle(gd).display;\n",
       "        if (!display || display === 'none') {{\n",
       "            console.log([gd, 'removed!']);\n",
       "            Plotly.purge(gd);\n",
       "            observer.disconnect();\n",
       "        }}\n",
       "}});\n",
       "\n",
       "// Listen for the removal of the full notebook cells\n",
       "var notebookContainer = gd.closest('#notebook-container');\n",
       "if (notebookContainer) {{\n",
       "    x.observe(notebookContainer, {childList: true});\n",
       "}}\n",
       "\n",
       "// Listen for the clearing of the current output cell\n",
       "var outputEl = gd.closest('.output');\n",
       "if (outputEl) {{\n",
       "    x.observe(outputEl, {childList: true});\n",
       "}}\n",
       "\n",
       "                        })                };                });            </script>        </div>"
      ]
     },
     "metadata": {},
     "output_type": "display_data"
    }
   ],
   "source": [
    "import plotly.express as px\n",
    "import pandas as pd\n",
    "\n",
    "px.bar(result, x='key', y='frequency', title='frequency of each key')"
   ]
  },
  {
   "cell_type": "code",
   "execution_count": null,
   "id": "1fb95714",
   "metadata": {},
   "outputs": [],
   "source": []
  },
  {
   "cell_type": "code",
   "execution_count": null,
   "id": "65d2a4e9",
   "metadata": {},
   "outputs": [],
   "source": []
  },
  {
   "cell_type": "code",
   "execution_count": 257,
   "id": "7dd404b8",
   "metadata": {},
   "outputs": [],
   "source": [
    "from PIL import Image # PIL：影像處理套件\n",
    "import matplotlib.pyplot as plt\n",
    "from wordcloud import WordCloud"
   ]
  },
  {
   "cell_type": "code",
   "execution_count": 258,
   "id": "251e0e75",
   "metadata": {},
   "outputs": [],
   "source": [
    "import numpy as np"
   ]
  },
  {
   "cell_type": "code",
   "execution_count": 259,
   "id": "c9df130e",
   "metadata": {},
   "outputs": [],
   "source": [
    "mask = np.array(Image.open(\"black_rectangle.png\")) # 想呈現的圖案形狀\n",
    "font = \"C:\\Windows\\Fonts\\mingliu.ttc\" # 選取想呈現字體的字體路徑"
   ]
  },
  {
   "cell_type": "code",
   "execution_count": 260,
   "id": "0d40485b",
   "metadata": {},
   "outputs": [
    {
     "data": {
      "text/plain": [
       "<wordcloud.wordcloud.WordCloud at 0x252ea424160>"
      ]
     },
     "execution_count": 260,
     "metadata": {},
     "output_type": "execute_result"
    }
   ],
   "source": [
    " # 把文字變成圖片(文字雲)\n",
    "wordcloud = WordCloud(background_color = \"white\", font_path=font, mask = mask)\n",
    "wordcloud.generate_from_frequencies(diction)"
   ]
  },
  {
   "cell_type": "code",
   "execution_count": 261,
   "id": "7097b0e6",
   "metadata": {},
   "outputs": [
    {
     "data": {
      "image/png": "[encoded data removed]",
      "text/plain": [
       "<Figure size 720x720 with 1 Axes>"
      ]
     },
     "metadata": {
      "needs_background": "light"
     },
     "output_type": "display_data"
    }
   ],
   "source": [
    "# 調圖片的大小顯示圖片\n",
    "plt.figure(figsize=(10,10))\n",
    "plt.imshow(wordcloud)\n",
    "plt.axis(\"off\")\n",
    "plt.show()"
   ]
  },
  {
   "cell_type": "code",
   "execution_count": null,
   "id": "5cdc5f1b",
   "metadata": {},
   "outputs": [],
   "source": []
  },
  {
   "cell_type": "markdown",
   "id": "22d7757c",
   "metadata": {},
   "source": [
    "參考資料\n",
    ">\n",
    "> [各縣市自行車道路資訊](https://data.gov.tw/dataset/8187)\n",
    ">\n",
    "> [Pandas索引的運用](https://ithelp.ithome.com.tw/articles/10194006?sc=hot)\n",
    ">\n",
    "> [什麼是文字探勘](https://www.tibco.com/zh-hant/reference-center/what-is-text-mining)\n",
    ">\n",
    "> [C6_Python_文字探勘](https://github.com/pecu/LawTech/tree/main/2021LawTech/Learning-Materials/C6_Python_%E6%96%87%E5%AD%97%E6%8E%A2%E5%8B%98)\n",
    ">\n",
    "> [TextMining](https://github.com/pecu/LawTech/blob/main/2021LawTech/Learning-Materials/C6_Python_%E6%96%87%E5%AD%97%E6%8E%A2%E5%8B%98/TextMining.ipynb)\n",
    ">\n",
    "> [regular expression](https://blog.techbridge.cc/2020/05/14/introduction-to-regular-expression/)\n",
    ">\n",
    "> [pandas.concat用法](https://www.796t.com/content/1545045061.html)\n",
    ">\n",
    "> [Pandas官網用法整理](https://pandas.pydata.org/pandas-docs/stable/user_guide/merging.html)\n",
    ">\n",
    "> [矩陣圖片互相轉換](https://medium.com/@e105208024/python%E5%B0%8F%E5%B7%A5%E5%85%B7-%E7%9F%A9%E9%99%A3%E5%9C%96%E7%89%87%E4%BA%92%E7%9B%B8%E8%BD%89%E6%8F%9B-7572ef5285a6)\n",
    "\n",
    "工具網站\n",
    ">\n",
    "> [regex比對](https://regex101.com/)\n",
    "\n"
   ]
  }
 ],
 "metadata": {
  "kernelspec": {
   "display_name": "Python 3 (ipykernel)",
   "language": "python",
   "name": "python3"
  },
  "language_info": {
   "codemirror_mode": {
    "name": "ipython",
    "version": 3
   },
   "file_extension": ".py",
   "mimetype": "text/x-python",
   "name": "python",
   "nbconvert_exporter": "python",
   "pygments_lexer": "ipython3",
   "version": "3.9.12"
  }
 },
 "nbformat": 4,
 "nbformat_minor": 5
}
