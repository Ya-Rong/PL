{
 "cells": [
  {
   "cell_type": "code",
   "execution_count": 5,
   "id": "38855726",
   "metadata": {},
   "outputs": [],
   "source": [
    "import jieba\n",
    "import jieba.analyse\n",
    "import pandas as pd\n",
    "import numpy\n",
    "from collections import Counter"
   ]
  },
  {
   "cell_type": "code",
   "execution_count": 6,
   "id": "bab4135f",
   "metadata": {},
   "outputs": [],
   "source": [
    "orgdata = pd.read_csv('STOCK_DAY_AVG_ALL.csv')"
   ]
  },
  {
   "cell_type": "code",
   "execution_count": 7,
   "id": "3590efa3",
   "metadata": {},
   "outputs": [
    {
     "data": {
      "text/html": [
       "<div>\n",
       "<style scoped>\n",
       "    .dataframe tbody tr th:only-of-type {\n",
       "        vertical-align: middle;\n",
       "    }\n",
       "\n",
       "    .dataframe tbody tr th {\n",
       "        vertical-align: top;\n",
       "    }\n",
       "\n",
       "    .dataframe thead th {\n",
       "        text-align: right;\n",
       "    }\n",
       "</style>\n",
       "<table border=\"1\" class=\"dataframe\">\n",
       "  <thead>\n",
       "    <tr style=\"text-align: right;\">\n",
       "      <th></th>\n",
       "      <th>股票代號</th>\n",
       "      <th>股票名稱</th>\n",
       "      <th>收盤價</th>\n",
       "      <th>月平均價</th>\n",
       "    </tr>\n",
       "  </thead>\n",
       "  <tbody>\n",
       "    <tr>\n",
       "      <th>0</th>\n",
       "      <td>0050</td>\n",
       "      <td>元大台灣50</td>\n",
       "      <td>98.85</td>\n",
       "      <td>99.29</td>\n",
       "    </tr>\n",
       "    <tr>\n",
       "      <th>1</th>\n",
       "      <td>0051</td>\n",
       "      <td>元大中型100</td>\n",
       "      <td>50.40</td>\n",
       "      <td>50.12</td>\n",
       "    </tr>\n",
       "    <tr>\n",
       "      <th>2</th>\n",
       "      <td>0052</td>\n",
       "      <td>富邦科技</td>\n",
       "      <td>82.55</td>\n",
       "      <td>83.04</td>\n",
       "    </tr>\n",
       "    <tr>\n",
       "      <th>3</th>\n",
       "      <td>0053</td>\n",
       "      <td>元大電子</td>\n",
       "      <td>48.65</td>\n",
       "      <td>48.80</td>\n",
       "    </tr>\n",
       "    <tr>\n",
       "      <th>4</th>\n",
       "      <td>0055</td>\n",
       "      <td>元大MSCI金融</td>\n",
       "      <td>20.91</td>\n",
       "      <td>20.86</td>\n",
       "    </tr>\n",
       "  </tbody>\n",
       "</table>\n",
       "</div>"
      ],
      "text/plain": [
       "   股票代號      股票名稱    收盤價   月平均價\n",
       "0  0050    元大台灣50  98.85  99.29\n",
       "1  0051   元大中型100  50.40  50.12\n",
       "2  0052      富邦科技  82.55  83.04\n",
       "3  0053      元大電子  48.65  48.80\n",
       "4  0055  元大MSCI金融  20.91  20.86"
      ]
     },
     "execution_count": 7,
     "metadata": {},
     "output_type": "execute_result"
    }
   ],
   "source": [
    "orgdata.head()"
   ]
  },
  {
   "cell_type": "code",
   "execution_count": 8,
   "id": "ec6eb345",
   "metadata": {},
   "outputs": [
    {
     "name": "stderr",
     "output_type": "stream",
     "text": [
      "Building prefix dict from the default dictionary ...\n",
      "Dumping model to file cache C:\\Users\\happy\\AppData\\Local\\Temp\\jieba.cache\n",
      "Loading model cost 0.808 seconds.\n",
      "Prefix dict has been built successfully.\n"
     ]
    },
    {
     "name": "stdout",
     "output_type": "stream",
     "text": [
      "我/是/國立/臺/灣師/範大學/科技/系/二年/級/吳亞蓉\n"
     ]
    }
   ],
   "source": [
    "documents = ['我是國立臺灣師範大學科技系二年級吳亞蓉']\n",
    "# 精確模式\n",
    "for sentence in documents:\n",
    "    seg_list = jieba.cut(sentence)\n",
    "    print('/'.join(seg_list))"
   ]
  },
  {
   "cell_type": "code",
   "execution_count": 9,
   "id": "6c014acb",
   "metadata": {},
   "outputs": [
    {
     "name": "stdout",
     "output_type": "stream",
     "text": [
      "我/是/國立臺灣師範大學/科技系/二年級/吳亞蓉\n"
     ]
    }
   ],
   "source": [
    "jieba.load_userdict('./userdict.txt') #userdict 自己的斷詞字典(自己建立)\n",
    "\n",
    "for sentence in documents: #從文章中取出第一句話\n",
    "    seg_list = jieba.cut(sentence) #用結巴 cut 斷詞\n",
    "    print('/'.join(seg_list)) #並將斷詞用 / 隔開"
   ]
  },
  {
   "cell_type": "code",
   "execution_count": 10,
   "id": "f27674cd",
   "metadata": {},
   "outputs": [
    {
     "data": {
      "text/html": [
       "<div>\n",
       "<style scoped>\n",
       "    .dataframe tbody tr th:only-of-type {\n",
       "        vertical-align: middle;\n",
       "    }\n",
       "\n",
       "    .dataframe tbody tr th {\n",
       "        vertical-align: top;\n",
       "    }\n",
       "\n",
       "    .dataframe thead th {\n",
       "        text-align: right;\n",
       "    }\n",
       "</style>\n",
       "<table border=\"1\" class=\"dataframe\">\n",
       "  <thead>\n",
       "    <tr style=\"text-align: right;\">\n",
       "      <th></th>\n",
       "      <th>股票代號</th>\n",
       "      <th>股票名稱</th>\n",
       "      <th>收盤價</th>\n",
       "      <th>月平均價</th>\n",
       "      <th>seg</th>\n",
       "    </tr>\n",
       "  </thead>\n",
       "  <tbody>\n",
       "    <tr>\n",
       "      <th>0</th>\n",
       "      <td>0050</td>\n",
       "      <td>元大台灣50</td>\n",
       "      <td>98.85</td>\n",
       "      <td>99.29</td>\n",
       "      <td></td>\n",
       "    </tr>\n",
       "    <tr>\n",
       "      <th>1</th>\n",
       "      <td>0051</td>\n",
       "      <td>元大中型100</td>\n",
       "      <td>50.40</td>\n",
       "      <td>50.12</td>\n",
       "      <td></td>\n",
       "    </tr>\n",
       "    <tr>\n",
       "      <th>2</th>\n",
       "      <td>0052</td>\n",
       "      <td>富邦科技</td>\n",
       "      <td>82.55</td>\n",
       "      <td>83.04</td>\n",
       "      <td></td>\n",
       "    </tr>\n",
       "    <tr>\n",
       "      <th>3</th>\n",
       "      <td>0053</td>\n",
       "      <td>元大電子</td>\n",
       "      <td>48.65</td>\n",
       "      <td>48.80</td>\n",
       "      <td></td>\n",
       "    </tr>\n",
       "    <tr>\n",
       "      <th>4</th>\n",
       "      <td>0055</td>\n",
       "      <td>元大MSCI金融</td>\n",
       "      <td>20.91</td>\n",
       "      <td>20.86</td>\n",
       "      <td></td>\n",
       "    </tr>\n",
       "  </tbody>\n",
       "</table>\n",
       "</div>"
      ],
      "text/plain": [
       "   股票代號      股票名稱    收盤價   月平均價 seg\n",
       "0  0050    元大台灣50  98.85  99.29    \n",
       "1  0051   元大中型100  50.40  50.12    \n",
       "2  0052      富邦科技  82.55  83.04    \n",
       "3  0053      元大電子  48.65  48.80    \n",
       "4  0055  元大MSCI金融  20.91  20.86    "
      ]
     },
     "execution_count": 10,
     "metadata": {},
     "output_type": "execute_result"
    }
   ],
   "source": [
    "orgdata['seg'] = \"\"\n",
    "orgdata.head()"
   ]
  },
  {
   "cell_type": "code",
   "execution_count": null,
   "id": "0f6a938d",
   "metadata": {},
   "outputs": [],
   "source": [
    "jieba.analyse.set_stop_words('stopwords.txt') #stopwords 自己不要的字的字典(自己建立)\n",
    "index = 0\n",
    "for documents in orgdata['content']:\n",
    "    seg_list = jieba.analyse.extract_tags(documents, 150)\n",
    "    #seg_list = jieba.lcut(documents)\n",
    "    orgdata['seg'].iloc[index] = seg_list\n",
    "    index += 1"
   ]
  },
  {
   "cell_type": "code",
   "execution_count": null,
   "id": "625ea267",
   "metadata": {},
   "outputs": [],
   "source": []
  }
 ],
 "metadata": {
  "kernelspec": {
   "display_name": "Python 3 (ipykernel)",
   "language": "python",
   "name": "python3"
  },
  "language_info": {
   "codemirror_mode": {
    "name": "ipython",
    "version": 3
   },
   "file_extension": ".py",
   "mimetype": "text/x-python",
   "name": "python",
   "nbconvert_exporter": "python",
   "pygments_lexer": "ipython3",
   "version": "3.9.12"
  }
 },
 "nbformat": 4,
 "nbformat_minor": 5
}
