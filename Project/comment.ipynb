{
 "cells": [
  {
   "cell_type": "code",
   "execution_count": 38,
   "id": "22806105",
   "metadata": {},
   "outputs": [],
   "source": [
    "import pandas as pd\n",
    "comment = pd.read_csv(\"db.csv\")"
   ]
  },
  {
   "cell_type": "code",
   "execution_count": 39,
   "id": "3caaecba",
   "metadata": {},
   "outputs": [
    {
     "data": {
      "text/plain": [
       "<bound method NDFrame.head of          流水號                時間 作者     標題  內容          標籤\n",
       "0   00000000   2022/12/1 00:00  A    NaN NaN    區塊鏈、虛擬貨幣\n",
       "1   00000001   2022/12/2 00:00  B  代幣知多少 NaN  NFT、SFT、FT\n",
       "2   00000002   2022/12/3 00:00  C    NaN NaN    區塊鏈、Web3\n",
       "3   00000003   2022/12/4 00:00  A    NaN NaN     NFT、區塊鏈\n",
       "4   00000004   2022/12/5 00:00  B    NaN NaN       VR、AR\n",
       "5   00000005   2022/12/6 00:00  C    NaN NaN  Blockchain\n",
       "6   00000006   2022/12/7 00:00  A    NaN NaN           3\n",
       "7   00000007   2022/12/8 00:00  B    NaN NaN           4\n",
       "8   00000008   2022/12/9 00:00  C    NaN NaN           5\n",
       "9   00000009  2022/12/10 00:00  A    NaN NaN           6\n",
       "10  0000000A  2022/12/11 00:00  B    NaN NaN           7\n",
       "11  0000000B  2022/12/12 00:00  C    NaN NaN           8\n",
       "12  0000000C  2022/12/13 00:00  A    NaN NaN           9\n",
       "13  0000000D  2022/12/14 00:00  B    NaN NaN          10\n",
       "14  0000000E  2022/12/15 00:00  C    NaN NaN          11>"
      ]
     },
     "execution_count": 39,
     "metadata": {},
     "output_type": "execute_result"
    }
   ],
   "source": [
    "comment.head"
   ]
  },
  {
   "cell_type": "code",
   "execution_count": 33,
   "id": "852b7017",
   "metadata": {},
   "outputs": [
    {
     "data": {
      "text/plain": [
       "0       區塊鏈、虛擬貨幣\n",
       "1     nft、sft、ft\n",
       "2       區塊鏈、web3\n",
       "3        nft、區塊鏈\n",
       "4              1\n",
       "5              2\n",
       "6              3\n",
       "7              4\n",
       "8              5\n",
       "9              6\n",
       "10             7\n",
       "11             8\n",
       "12             9\n",
       "13            10\n",
       "14            11\n",
       "Name: 標籤, dtype: object"
      ]
     },
     "execution_count": 33,
     "metadata": {},
     "output_type": "execute_result"
    }
   ],
   "source": [
    "comment[\"標籤\"].str.lower()"
   ]
  },
  {
   "cell_type": "code",
   "execution_count": 44,
   "id": "349eb40c",
   "metadata": {},
   "outputs": [],
   "source": [
    "tag = comment[\"標籤\"].str.lower().str.contains(\"區塊鏈\") | comment[\"標籤\"].str.lower().str.contains(\"blockchain\")"
   ]
  },
  {
   "cell_type": "code",
   "execution_count": 45,
   "id": "9f616036",
   "metadata": {},
   "outputs": [
    {
     "data": {
      "text/plain": [
       "0      True\n",
       "1     False\n",
       "2      True\n",
       "3      True\n",
       "4     False\n",
       "5      True\n",
       "6     False\n",
       "7     False\n",
       "8     False\n",
       "9     False\n",
       "10    False\n",
       "11    False\n",
       "12    False\n",
       "13    False\n",
       "14    False\n",
       "Name: 標籤, dtype: bool"
      ]
     },
     "execution_count": 45,
     "metadata": {},
     "output_type": "execute_result"
    }
   ],
   "source": [
    "tag"
   ]
  },
  {
   "cell_type": "code",
   "execution_count": 46,
   "id": "6325450e",
   "metadata": {},
   "outputs": [
    {
     "data": {
      "text/plain": [
       "<bound method NDFrame.head of         流水號               時間 作者   標題  內容          標籤\n",
       "0  00000000  2022/12/1 00:00  A  NaN NaN    區塊鏈、虛擬貨幣\n",
       "2  00000002  2022/12/3 00:00  C  NaN NaN    區塊鏈、Web3\n",
       "3  00000003  2022/12/4 00:00  A  NaN NaN     NFT、區塊鏈\n",
       "5  00000005  2022/12/6 00:00  C  NaN NaN  Blockchain>"
      ]
     },
     "execution_count": 46,
     "metadata": {},
     "output_type": "execute_result"
    }
   ],
   "source": [
    "comment[tag].head"
   ]
  },
  {
   "cell_type": "code",
   "execution_count": null,
   "id": "3cc61d88",
   "metadata": {},
   "outputs": [],
   "source": []
  }
 ],
 "metadata": {
  "kernelspec": {
   "display_name": "Python 3 (ipykernel)",
   "language": "python",
   "name": "python3"
  },
  "language_info": {
   "codemirror_mode": {
    "name": "ipython",
    "version": 3
   },
   "file_extension": ".py",
   "mimetype": "text/x-python",
   "name": "python",
   "nbconvert_exporter": "python",
   "pygments_lexer": "ipython3",
   "version": "3.9.12"
  }
 },
 "nbformat": 4,
 "nbformat_minor": 5
}
